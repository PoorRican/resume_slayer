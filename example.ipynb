{
 "cells": [
  {
   "cell_type": "code",
   "execution_count": 1,
   "id": "initial_id",
   "metadata": {
    "collapsed": true,
    "ExecuteTime": {
     "end_time": "2023-08-24T06:16:54.055222Z",
     "start_time": "2023-08-24T06:16:54.024375Z"
    }
   },
   "outputs": [],
   "source": [
    "with open(\"job_desc.md\") as f:\n",
    "    description = f.read()\n",
    "with open(\"resume.md\") as f:\n",
    "    resume = f.read()\n",
    "title = 'django developer'"
   ]
  },
  {
   "cell_type": "code",
   "execution_count": 2,
   "outputs": [],
   "source": [
    "from slayer import Slayer"
   ],
   "metadata": {
    "collapsed": false,
    "ExecuteTime": {
     "end_time": "2023-08-24T06:16:56.423902Z",
     "start_time": "2023-08-24T06:16:54.032952Z"
    }
   },
   "id": "280a800ea7f4ecc1"
  },
  {
   "cell_type": "code",
   "execution_count": 3,
   "outputs": [
    {
     "name": "stderr",
     "output_type": "stream",
     "text": [
      "Retrying langchain.chat_models.openai.ChatOpenAI.completion_with_retry.<locals>._completion_with_retry in 4.0 seconds as it raised Timeout: Request timed out: HTTPSConnectionPool(host='api.openai.com', port=443): Read timed out. (read timeout=600).\n"
     ]
    },
    {
     "data": {
      "text/plain": "\"# Overview\\n- Achieved competency in mechanical blueprint interpretation, bid formulation, and project lifecycle with accelerated training timeline\\n- Integrated low-level payment provider REST API tools for cost-effective transactions\\n- Developed a novel UI for viewing and editing genetic content using React, CSS, HTML, and Rust\\n- Expertly managed a tool program worth $175,000, ensuring compliance and passing inspections\\n- Successfully communicated with lead contractor for a Rutgers Camden Lab renovation project\\n\\n# Experience\\n\\n## Aviation Electrician, US Navy, Aug 2020 - Present (2 years 11 months)\\n- Successfully troubleshooted and maintained electrical and instrument systems for 11 F-18E aircraft totaling $715 million, ensuring optimal functionality and safety before flight.\\n- Assisted primary supervisor in effectively managing maintenance programs, resulting in no hits on a major inspection.\\n- Demonstrated exceptional management skills by efficiently overseeing a tool program worth over $175,000, training coworkers on expectations and proper procedures, and achieving no hits across 2 major and 3 routine inspections.\\n- Recognized for expertise and initiative in reinstalling an incorrectly installed part under stressful conditions, showcasing problem-solving abilities and attention to detail.\\n- Displayed strong leadership skills by leading and mentoring a group of 3 individuals in flight deck operations and proper flight deck cleaning procedures, resulting in no accidents and revitalizing a stagnant work center.\\n\\n## Founder, Creation Consortium LLC, Apr 2019 - Present (4 years 3 months)\\n- Upgraded the computer and network systems for a reputable veterinary clinic in Philadelphia, resulting in improved efficiency and productivity.\\n- Developed an automated trading system in Python using parallel processing, AWS, REST API's, and SQL, resulting in increased trading accuracy and profitability.\\n- Developed a novel UI for viewing and editing genetic content using React (javascript framework), Cascading Style Sheets (CSS), HTML, and Rust, resulting in a user-friendly and visually appealing interface.\\n- Developed a low-level sensor logger and control system in Rust, resulting in accurate data collection and efficient control of sensors.\\n\\n## Facility Specialist, TruClean, Apr 2020 - Aug 2020 (5 months)\\n- Showcased exceptional attention to detail in the thorough cleaning of multiple high-traffic facilities, resulting in outstanding reviews from clients.\\n- Successfully refurnished several dozen low-income apartments with meticulous attention to detail, leading to increased responsibility and autonomy in the role.\\n\\n## Co-Founder, Love Our Neighbor Inc, Apr 2019 - May 2020 (1 year 2 months)\\n- Developed and implemented a full-stack website and donation platform for a crowd funding platform for Christian based ministries.\\n- Honed knowledge of AWS, docker, git, Linux DevOps, and semantic releases while developing and implementing the website and donation platform.\\n- Integrated low-level payment provider REST API tools to take advantage of extremely low cost transaction fees as compared to plug-and-play solutions (ie: PayPal, Square).\\n\\n## Estimating Engineer, McCloskey Mechanical Contractors, Inc., Nov 2016 - May 2017 (7 months)\\n- Proposed and implemented a VB Script that improved workflow efficiency between estimators and administrative assistants, resulting in streamlined communication and increased productivity.\\n\\n## Estimating Engineer, Camden Mechanical (MWBE), Jul 2014 - Nov 2016 (2 years 5 months)\\n- Achieved competency in mechanical blueprint interpretation, bid formulation, and project lifecycle with half of the time of the typical training pipeline which provided value to the company and team members.\\n- Developed and implemented software in Python to assist with routine tasks which increased productivity of a 2 man team threefold.\\n- Represented the company at a networking event which opened the door to new contractors and bids for upcoming projects in the greater metropolitan area.\\n- Communicated with lead contractor during an onsite walkthrough which lead to successful awarding of a Rutgers Camden Lab renovation.\""
     },
     "execution_count": 3,
     "metadata": {},
     "output_type": "execute_result"
    }
   ],
   "source": [
    "slayer = Slayer(resume, description, title)\n",
    "slayer.process()"
   ],
   "metadata": {
    "collapsed": false,
    "ExecuteTime": {
     "end_time": "2023-08-24T06:31:38.883110Z",
     "start_time": "2023-08-24T06:16:56.423283Z"
    }
   },
   "id": "bb4fb79eb2154a32"
  },
  {
   "cell_type": "code",
   "execution_count": 3,
   "outputs": [],
   "source": [],
   "metadata": {
    "collapsed": false,
    "ExecuteTime": {
     "end_time": "2023-08-24T06:31:38.888612Z",
     "start_time": "2023-08-24T06:31:38.879315Z"
    }
   },
   "id": "ac573a73ce273ed6"
  }
 ],
 "metadata": {
  "kernelspec": {
   "display_name": "Python 3",
   "language": "python",
   "name": "python3"
  },
  "language_info": {
   "codemirror_mode": {
    "name": "ipython",
    "version": 2
   },
   "file_extension": ".py",
   "mimetype": "text/x-python",
   "name": "python",
   "nbconvert_exporter": "python",
   "pygments_lexer": "ipython2",
   "version": "2.7.6"
  }
 },
 "nbformat": 4,
 "nbformat_minor": 5
}
