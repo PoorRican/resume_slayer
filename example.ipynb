{
 "cells": [
  {
   "cell_type": "code",
   "execution_count": 1,
   "id": "initial_id",
   "metadata": {
    "collapsed": true,
    "ExecuteTime": {
     "end_time": "2023-08-23T05:00:00.816593Z",
     "start_time": "2023-08-23T05:00:00.804219Z"
    }
   },
   "outputs": [],
   "source": [
    "with open(\"job_desc.md\") as f:\n",
    "    description = f.read()\n",
    "with open(\"resume.md\") as f:\n",
    "    resume = f.read()\n",
    "title = 'django developer'"
   ]
  },
  {
   "cell_type": "code",
   "execution_count": 2,
   "outputs": [],
   "source": [
    "from slayer import Slayer"
   ],
   "metadata": {
    "collapsed": false,
    "ExecuteTime": {
     "end_time": "2023-08-23T05:00:03.491724Z",
     "start_time": "2023-08-23T05:00:00.813879Z"
    }
   },
   "id": "280a800ea7f4ecc1"
  },
  {
   "cell_type": "code",
   "execution_count": 3,
   "outputs": [
    {
     "name": "stdout",
     "output_type": "stream",
     "text": [
      "Overview:\n",
      " - Developed and implemented a full-stack website and donation platform that successfully defended against multiple Denial of Service attacks from overseas, showcasing expertise in AWS, Docker, Git, Linux DevOps, and semantic releases.\n",
      "- Integrated low-level payment provider REST API tools to optimize transaction fees, resulting in significant cost savings compared to plug-and-play solutions like PayPal and Square.\n",
      "- Led and mentored a team of 3 individuals in flight deck operations and cleaning procedures, ensuring a safe work environment and revitalizing productivity.\n",
      "- Represented the company at a networking event, leading to new contractor relationships and increased bids for future projects in the metropolitan area.\n",
      "- Demonstrated exceptional proficiency in mechanical blueprint interpretation, bid formulation, and project lifecycle, completing training in half the typical time and delivering value to the company and team members.\n",
      "Experiences:\n",
      " [Document(page_content='- Successfully maintained electrical and instrument systems for 11 F-18E aircraft totaling $715 million, ensuring their optimal functionality.\\n- Conducted final checks and troubleshooting of aircraft before flight, ensuring their readiness and safety.\\n- Assisted primary supervisor in managing maintenance programs, resulting in no hits on a major inspection.\\n- Effectively managed a tool program worth over $175,000, training coworkers on expectations and proper procedures, leading to no hits across 2 major and 3 routine inspections.\\n- Recognized for expertise and initiative in reinstalling an incorrectly installed part under stressful conditions.\\n- Demonstrated leadership skills by leading and mentoring a group of 3 individuals in flight deck operations and proper flight deck cleaning procedures, resulting in no accidents and revitalizing a stagnant work center.', metadata={'Header 1': 'Experience', 'Header 2': 'Aviation Electrician, US Navy, Aug 2020 - Present (2 years 11 months)'}), Document(page_content=\"- Upgraded the computer and network systems for a reputable veterinary clinic in Philadelphia, resulting in improved efficiency and productivity.\\n- Developed an automated trading system in Python using parallel processing, AWS, REST API's, and SQL, leading to increased trading accuracy and profitability.\\n- Developed a novel UI for viewing and editing genetic content using React (javascript framework), Cascading Style Sheets (CSS), HTML, and Rust, enhancing user experience and ease of content management.\\n- Developed a low-level sensor logger and control system in Rust, improving data collection and control capabilities.\", metadata={'Header 1': 'Experience', 'Header 2': 'Founder, Creation Consortium LLC, Apr 2019 - Present (4 years 3 months)'}), Document(page_content='- Successfully maintained cleanliness and sanitation of 3 to 4 facilities, ensuring a high standard of cleanliness and hygiene.\\n- Received excellent feedback from clients for meticulous cleaning of a high traffic facility.\\n- Showcased exceptional attention to detail in refurbishing several dozen low-income apartments, resulting in increased trust and independence in handling similar projects.', metadata={'Header 1': 'Experience', 'Header 2': 'Facility Specialist, TruClean, Apr 2020 - Aug 2020 (5 months)'}), Document(page_content='- Achieved accredited 501(c)3 non-profit tax status for the crowd funding platform for Christian based ministries.\\n- Proposed and successfully ratified corporate bylaws with the approval of 5 board members.\\n- Collaborated with the visionary founder to develop a business strategy that resulted in accepting 4 non-profits onto the platform.\\n- Successfully developed and implemented a secure full-stack website and donation platform that withstood multiple Denial of Service (DOS) attacks from overseas.\\n- Demonstrated expertise in AWS, docker, git, Linux DevOps, and semantic releases while developing the website and donation platform.\\n- Integrated low-level payment provider REST API tools to significantly reduce transaction fees compared to plug-and-play solutions like PayPal and Square.', metadata={'Header 1': 'Experience', 'Header 2': 'Co-Founder, Love Our Neighbor Inc, Apr 2019 - May 2020 (1 year 2 months)'}), Document(page_content='- Developed and implemented a VB Script to streamline workflow between estimators and administrative assistants, improving efficiency and reducing errors.', metadata={'Header 1': 'Experience', 'Header 2': 'Estimating Engineer, McCloskey Mechanical Contractors, Inc., Nov 2016 - May 2017 (7 months)'}), Document(page_content='- Achieved competency in mechanical blueprint interpretation, bid formulation, and project lifecycle with half of the time of the typical training pipeline which provided value to the company and team members.\\n- Developed and implemented software in Python to assist with routine tasks which increased productivity of a 2 man team threefold.\\n- Represented the company at a networking event which opened the door to new contractors and bids for upcoming projects in the greater metropolitan area.\\n- Communicated with lead contractor during an onsite walkthrough which lead to successful awarding of a Rutgers Camden Lab renovation.', metadata={'Header 1': 'Experience', 'Header 2': 'Estimating Engineer, Camden Mechanical (MWBE), Jul 2014 - Nov 2016 (2 years 5 months)'})]\n"
     ]
    }
   ],
   "source": [
    "slayer = Slayer(resume, description, title)\n",
    "slayer.process()"
   ],
   "metadata": {
    "collapsed": false,
    "ExecuteTime": {
     "end_time": "2023-08-23T05:02:16.052121Z",
     "start_time": "2023-08-23T05:00:03.492879Z"
    }
   },
   "id": "bb4fb79eb2154a32"
  },
  {
   "cell_type": "code",
   "execution_count": 3,
   "outputs": [],
   "source": [],
   "metadata": {
    "collapsed": false,
    "ExecuteTime": {
     "end_time": "2023-08-23T05:02:16.058984Z",
     "start_time": "2023-08-23T05:02:16.047763Z"
    }
   },
   "id": "ac573a73ce273ed6"
  }
 ],
 "metadata": {
  "kernelspec": {
   "display_name": "Python 3",
   "language": "python",
   "name": "python3"
  },
  "language_info": {
   "codemirror_mode": {
    "name": "ipython",
    "version": 2
   },
   "file_extension": ".py",
   "mimetype": "text/x-python",
   "name": "python",
   "nbconvert_exporter": "python",
   "pygments_lexer": "ipython2",
   "version": "2.7.6"
  }
 },
 "nbformat": 4,
 "nbformat_minor": 5
}
