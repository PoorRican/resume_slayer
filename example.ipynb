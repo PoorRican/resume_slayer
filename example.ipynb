{
 "cells": [
  {
   "cell_type": "code",
   "execution_count": 1,
   "id": "initial_id",
   "metadata": {
    "collapsed": true,
    "ExecuteTime": {
     "end_time": "2023-08-23T03:36:14.017655Z",
     "start_time": "2023-08-23T03:36:13.993333Z"
    }
   },
   "outputs": [],
   "source": [
    "with open(\"job_desc.md\") as f:\n",
    "    description = f.read()\n",
    "with open(\"resume.md\") as f:\n",
    "    resume = f.read()\n",
    "title = 'django developer'"
   ]
  },
  {
   "cell_type": "code",
   "execution_count": 2,
   "outputs": [],
   "source": [
    "from slayer import Slayer"
   ],
   "metadata": {
    "collapsed": false,
    "ExecuteTime": {
     "end_time": "2023-08-23T03:36:15.878273Z",
     "start_time": "2023-08-23T03:36:14.003736Z"
    }
   },
   "id": "280a800ea7f4ecc1"
  },
  {
   "cell_type": "code",
   "execution_count": 3,
   "outputs": [
    {
     "name": "stdout",
     "output_type": "stream",
     "text": [
      "Overview:\n",
      " - 5+ years of experience building complex web applications using Python, Django, React, Snowflake or similar\n",
      "- Hands-on experience designing software and breaking down complexity using software engineering principles\n",
      "- Great team member who contributes to our culture and our business\n",
      "- Takes ownership and demands excellence from themselves and others\n",
      "- Results-driven and can prioritize activities with the greatest impact\n",
      "Experiences:\n",
      " [Document(page_content='- Developed and implemented a comprehensive maintenance program for 11 F-18E aircraft, resulting in zero hits on a major inspection.\\n- Successfully managed a tool program worth over $175,000, training coworkers on expectations and procedures, leading to zero hits across 2 major and 3 routine inspections.\\n- Recognized for expertise and initiative in reinstalling an incorrectly installed part under stressful conditions.\\n- Led and mentored a team of 3 individuals in flight deck operations and proper cleaning procedures, resulting in zero accidents and revitalizing a stagnant work center.', metadata={'Header 1': 'Experience', 'Header 2': 'Aviation Electrician, US Navy, Aug 2020 - Present (2 years 11 months)'}), Document(page_content=\"- Upgraded the computer and network systems for a reputable veterinary clinic in Philadelphia, resulting in improved efficiency and productivity.\\n- Developed an automated trading system in Python using parallel processing, AWS, REST API's, and SQL, leading to increased trading accuracy and profitability.\\n- Developed a novel UI for viewing and editing genetic content using React (javascript framework), Cascading Style Sheets (CSS), HTML, and Rust, enhancing user experience and ease of content management.\\n- Developed a low-level sensor logger and control system in Rust, improving data collection and control capabilities.\", metadata={'Header 1': 'Experience', 'Header 2': 'Founder, Creation Consortium LLC, Apr 2019 - Present (4 years 3 months)'}), Document(page_content='- Implemented a comprehensive cleaning plan for 3 to 4 facilities, resulting in improved cleanliness and client satisfaction.\\n- Received stellar reviews from clients for maintaining a high level of cleanliness in a high traffic facility.\\n- Successfully refurnished several dozen low-income apartments with great attention to detail, leading to increased responsibility and autonomy.', metadata={'Header 1': 'Experience', 'Header 2': 'Facility Specialist, TruClean, Apr 2020 - Aug 2020 (5 months)'}), Document(page_content='- Developed and applied a comprehensive document tracking system, ensuring that 100% of 5,500 promotion packages were updated, correct, and completed ahead of the Promotion Board deadline.\\n- Obtained accredited 501(c)3 non-profit tax status for the organization.\\n- Researched and proposed corporate bylaws, which were ratified by 5 board members.\\n- Conceived a business strategy that led to accepting 4 non-profits onto the platform.\\n- Developed and implemented a full-stack website and donation platform that withstood several attempts Denial of Service (DOS) attacks from overseas.\\n- Integrated low-level payment provider REST API tools to take advantage of extremely low-cost transaction fees compared to plug-and-play solutions.', metadata={'Header 1': 'Experience', 'Header 2': 'Co-Founder, Love Our Neighbor Inc, Apr 2019 - May 2020 (1 year 2 months)'}), Document(page_content='Proposed and implemented a VB Script to allow a streamlined workflow between counterpart estimators and administrative assistants.', metadata={'Header 1': 'Experience', 'Header 2': 'Estimating Engineer, McCloskey Mechanical Contractors, Inc., Nov 2016 - May 2017 (7 months)'}), Document(page_content='- Achieved competency in mechanical blueprint interpretation, bid formulation, and project lifecycle with half of the time of the typical training pipeline which provided value to the company and team members.\\n- Developed and implemented software in Python to assist with routine tasks which increased productivity of a 2 man team threefold.\\n- Represented the company at a networking event which opened the door to new contractors and bids for upcoming projects in the greater metropolitan area.\\n- Communicated with lead contractor during an onsite walkthrough which lead to successful awarding of a Rutgers Camden Lab renovation.', metadata={'Header 1': 'Experience', 'Header 2': 'Estimating Engineer, Camden Mechanical (MWBE), Jul 2014 - Nov 2016 (2 years 5 months)'})]\n"
     ]
    }
   ],
   "source": [
    "slayer = Slayer(resume, description, title)\n",
    "slayer.process()"
   ],
   "metadata": {
    "collapsed": false,
    "ExecuteTime": {
     "end_time": "2023-08-23T03:38:31.168154Z",
     "start_time": "2023-08-23T03:36:15.882524Z"
    }
   },
   "id": "bb4fb79eb2154a32"
  },
  {
   "cell_type": "code",
   "execution_count": 3,
   "outputs": [],
   "source": [],
   "metadata": {
    "collapsed": false,
    "ExecuteTime": {
     "end_time": "2023-08-23T03:38:31.168625Z",
     "start_time": "2023-08-23T03:38:31.157707Z"
    }
   },
   "id": "ac573a73ce273ed6"
  }
 ],
 "metadata": {
  "kernelspec": {
   "display_name": "Python 3",
   "language": "python",
   "name": "python3"
  },
  "language_info": {
   "codemirror_mode": {
    "name": "ipython",
    "version": 2
   },
   "file_extension": ".py",
   "mimetype": "text/x-python",
   "name": "python",
   "nbconvert_exporter": "python",
   "pygments_lexer": "ipython2",
   "version": "2.7.6"
  }
 },
 "nbformat": 4,
 "nbformat_minor": 5
}
