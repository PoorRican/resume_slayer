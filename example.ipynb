{
 "cells": [
  {
   "cell_type": "code",
   "execution_count": 1,
   "id": "initial_id",
   "metadata": {
    "collapsed": true,
    "ExecuteTime": {
     "end_time": "2023-08-23T08:03:19.336017Z",
     "start_time": "2023-08-23T08:03:19.236804Z"
    }
   },
   "outputs": [],
   "source": [
    "with open(\"job_desc.md\") as f:\n",
    "    description = f.read()\n",
    "with open(\"resume.md\") as f:\n",
    "    resume = f.read()\n",
    "title = 'django developer'"
   ]
  },
  {
   "cell_type": "code",
   "execution_count": 2,
   "outputs": [],
   "source": [
    "from slayer import Slayer"
   ],
   "metadata": {
    "collapsed": false,
    "ExecuteTime": {
     "end_time": "2023-08-23T08:03:22.156257Z",
     "start_time": "2023-08-23T08:03:19.249005Z"
    }
   },
   "id": "280a800ea7f4ecc1"
  },
  {
   "cell_type": "code",
   "execution_count": 3,
   "outputs": [
    {
     "name": "stderr",
     "output_type": "stream",
     "text": [
      "Retrying langchain.chat_models.openai.ChatOpenAI.completion_with_retry.<locals>._completion_with_retry in 4.0 seconds as it raised Timeout: Request timed out: HTTPSConnectionPool(host='api.openai.com', port=443): Read timed out. (read timeout=600).\n"
     ]
    },
    {
     "name": "stdout",
     "output_type": "stream",
     "text": [
      "Overview:\n",
      " - Increased productivity threefold through software development in Python\n",
      "- Managed a $175,000 tool program with no hits across inspections\n",
      "- Developed a novel UI using React, CSS, HTML, and Rust\n",
      "- Led and mentored a group of 3 individuals in flight deck operations and cleaning procedures with no accidents\n",
      "- Maintained electrical and instrument systems for 11 F-18E aircraft totaling $715 million\n",
      "Experiences:\n",
      " [Document(page_content=\"- Successfully maintained electrical and instrument systems for 11 F-18E aircraft totaling $715 million, ensuring optimal performance and safety.\\n- Played a key role in the final check and troubleshooting of aircraft before flight, ensuring all systems were functioning properly.\\n- Assisted primary supervisor in effectively managing maintenance programs, resulting in no hits on a major inspection.\\n- Demonstrated exceptional management skills by successfully overseeing a tool program worth over $175,000, leading to no hits across 2 major and 3 routine inspections.\\n- Recognized for expertise and initiative in reinstalling an incorrectly installed part under stressful conditions, ensuring the aircraft's proper functioning.\\n- Provided leadership and mentorship to a group of 3 individuals in flight deck operations and proper flight deck cleaning procedures, resulting in no accidents and revitalizing a stagnant work center.\", metadata={'Header 1': 'Experience', 'Header 2': 'Aviation Electrician, US Navy, Aug 2020 - Present (2 years 11 months)'}), Document(page_content=\"- Upgraded the computer and network systems for a reputable veterinary clinic in Philadelphia, resulting in improved efficiency and productivity.\\n- Developed an automated trading system in Python using parallel processing, AWS, REST API's, and SQL, resulting in increased trading accuracy and profitability.\\n- Developed a novel UI for viewing and editing genetic content using React (javascript framework), Cascading Style Sheets (CSS), HTML, and Rust, resulting in a user-friendly and visually appealing interface.\\n- Developed a low-level sensor logger and control system in Rust, resulting in accurate data collection and efficient control of sensors.\", metadata={'Header 1': 'Experience', 'Header 2': 'Founder, Creation Consortium LLC, Apr 2019 - Present (4 years 3 months)'}), Document(page_content='- Showcased exceptional attention to detail in the thorough cleaning of multiple high traffic facilities, resulting in outstanding reviews from clients.\\n- Successfully refurnished several dozen low-income apartments with meticulous attention to detail, leading to increased responsibility and autonomy in the role.', metadata={'Header 1': 'Experience', 'Header 2': 'Facility Specialist, TruClean, Apr 2020 - Aug 2020 (5 months)'}), Document(page_content='- Developed and implemented a full-stack website and donation platform, resulting in a successful platform for Christian based ministries.\\n- Honed knowledge of AWS, docker, git, Linux DevOps, and semantic releases, contributing to the stability and security of the platform.\\n- Integrated low-level payment provider REST API tools, resulting in significantly lower transaction fees compared to plug-and-play solutions like PayPal and Square.', metadata={'Header 1': 'Experience', 'Header 2': 'Co-Founder, Love Our Neighbor Inc, Apr 2019 - May 2020 (1 year 2 months)'}), Document(page_content='- Developed and implemented a VB Script that improved workflow between estimators and administrative assistants, resulting in a streamlined process for formulating bids on mechanical and plumbing contracts for commercial projects in multiple locations.\\n- Proposed revisions to blueprints, resulting in cost and manpower savings for the company.\\n- Successfully formulated bids on mechanical and plumbing contracts for commercial projects in South Jersey, Philadelphia, and Boston, MA.\\n- Demonstrated expertise in proposal writing, contributing to the success of the bidding process.', metadata={'Header 1': 'Experience', 'Header 2': 'Estimating Engineer, McCloskey Mechanical Contractors, Inc., Nov 2016 - May 2017 (7 months)'}), Document(page_content='- Achieved competency in mechanical blueprint interpretation, bid formulation, and project lifecycle with half of the time of the typical training pipeline which provided value to the company and team members.\\n- Developed and implemented software in Python to assist with routine tasks which increased productivity of a 2 man team threefold.\\n- Represented the company at a networking event which opened the door to new contractors and bids for upcoming projects in the greater metropolitan area.\\n- Communicated with lead contractor during an onsite walkthrough which lead to successful awarding of a Rutgers Camden Lab renovation.', metadata={'Header 1': 'Experience', 'Header 2': 'Estimating Engineer, Camden Mechanical (MWBE), Jul 2014 - Nov 2016 (2 years 5 months)'})]\n"
     ]
    }
   ],
   "source": [
    "slayer = Slayer(resume, description, title)\n",
    "slayer.process()"
   ],
   "metadata": {
    "collapsed": false,
    "ExecuteTime": {
     "end_time": "2023-08-23T08:16:43.638745Z",
     "start_time": "2023-08-23T08:03:22.151091Z"
    }
   },
   "id": "bb4fb79eb2154a32"
  },
  {
   "cell_type": "code",
   "execution_count": 3,
   "outputs": [],
   "source": [],
   "metadata": {
    "collapsed": false,
    "ExecuteTime": {
     "end_time": "2023-08-23T08:16:43.656565Z",
     "start_time": "2023-08-23T08:16:41.045460Z"
    }
   },
   "id": "ac573a73ce273ed6"
  }
 ],
 "metadata": {
  "kernelspec": {
   "display_name": "Python 3",
   "language": "python",
   "name": "python3"
  },
  "language_info": {
   "codemirror_mode": {
    "name": "ipython",
    "version": 2
   },
   "file_extension": ".py",
   "mimetype": "text/x-python",
   "name": "python",
   "nbconvert_exporter": "python",
   "pygments_lexer": "ipython2",
   "version": "2.7.6"
  }
 },
 "nbformat": 4,
 "nbformat_minor": 5
}
