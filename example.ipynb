{
 "cells": [
  {
   "cell_type": "code",
   "execution_count": 1,
   "id": "initial_id",
   "metadata": {
    "collapsed": true,
    "ExecuteTime": {
     "end_time": "2023-08-25T10:33:53.765335Z",
     "start_time": "2023-08-25T10:33:53.450012Z"
    }
   },
   "outputs": [],
   "source": [
    "with open(\"job_desc.md\") as f:\n",
    "    description = f.read()\n",
    "with open(\"resume.md\") as f:\n",
    "    resume = f.read()\n",
    "title = 'django developer'"
   ]
  },
  {
   "cell_type": "code",
   "execution_count": 2,
   "outputs": [],
   "source": [
    "from slayer import Slayer"
   ],
   "metadata": {
    "collapsed": false,
    "ExecuteTime": {
     "end_time": "2023-08-25T10:33:56.831098Z",
     "start_time": "2023-08-25T10:33:53.461921Z"
    }
   },
   "id": "280a800ea7f4ecc1"
  },
  {
   "cell_type": "code",
   "execution_count": 3,
   "outputs": [],
   "source": [
    "slayer = Slayer(resume, description, title)"
   ],
   "metadata": {
    "collapsed": false,
    "ExecuteTime": {
     "end_time": "2023-08-25T10:34:35.389636Z",
     "start_time": "2023-08-25T10:33:56.834116Z"
    }
   },
   "id": "bb4fb79eb2154a32"
  },
  {
   "cell_type": "code",
   "execution_count": 4,
   "outputs": [
    {
     "data": {
      "text/plain": "\"# Resume\\n\\n## Overview\\n- Developed and implemented a robust full-stack website and donation platform that withstood multiple Denial of Service (DOS) attacks from overseas.\\n- Implemented a comprehensive cleaning plan for 3 to 4 facilities, resulting in stellar reviews from the client for the cleanliness of the facilities.\\n- Developed an automated trading system in Python using parallel processing, AWS, REST API's, and SQL, resulting in increased trading accuracy and profitability.\\n- Proposed and executed revisions to blueprints, resulting in optimized material cost and improved manpower allocation for commercial projects in South Jersey, Philadelphia, and Boston, MA.\\n- Acquired in-depth knowledge of AWS, docker, git, Linux DevOps, and semantic releases while working on the platform.\\n\\n## Experience\\n\\n### Aviation Electrician, US Navy, Aug 2020 - Present (2 years 11 months)\\n- Successfully maintained electrical and instrument systems for 11 F-18E aircraft totaling $715 million, ensuring optimal performance and safety during flights.\\n- Played a key role in the management of maintenance programs, resulting in no hits on a major inspection and ensuring the aircraft's readiness for missions.\\n- Demonstrated exceptional expertise in managing a tool program worth over $175,000, training coworkers on expectations and proper procedures, which led to no hits across 2 major and 3 routine inspections.\\n- Recognized for showing expertise and initiative in reinstalling an incorrectly installed part under stressful conditions, ensuring the aircraft's functionality and avoiding potential issues during flight.\\n- Led and mentored a group of 3 individuals in flight deck operations and proper flight deck cleaning procedures as a supervisor, resulting in no accidents and revitalizing a stagnant work center.\\n\\n### Founder, Creation Consortium LLC, Apr 2019 - Present (4 years 3 months)\\n- Successfully upgraded the computer and network systems for a reputable veterinary clinic in Philadelphia, resulting in improved efficiency and productivity.\\n- Developed an automated trading system in Python using parallel processing, AWS, REST API's, and SQL, resulting in increased trading accuracy and profitability.\\n- Created a novel UI for viewing and editing genetic content using React (javascript framework), Cascading Style Sheets (CSS), HTML, and Rust, resulting in a user-friendly and visually appealing interface.\\n- Designed and implemented a low-level sensor logger and control system in Rust, resulting in accurate data collection and efficient control of sensors.\\n\\n### Facility Specialist, TruClean, Apr 2020 - Aug 2020 (5 months)\\n- Implemented a comprehensive cleaning plan for 3 to 4 facilities, resulting in stellar reviews from the client for the cleanliness of the facilities.\\n- Successfully refurnished several dozen low-income apartments with meticulous attention to detail, leading to recognition and increased responsibility.\\n- Showed exceptional attention to detail in the cleaning process, resulting in a high level of satisfaction from clients.\\n- Demonstrated a strong work ethic and attention to detail in maintaining the cleanliness of high traffic facilities, leading to positive feedback from clients.\\n- Proactively took on additional responsibilities and showed autonomy in refurnishing low-income apartments, resulting in increased trust from superiors.\\n\\n### Co-Founder, Love Our Neighbor Inc, Apr 2019 - May 2020 (1 year 2 months)\\n- Successfully obtained accredited 501(c)3 non-profit tax status for the crowd funding platform for Christian based ministries.\\n- Proposed and had corporate bylaws ratified by 5 board members, ensuring proper governance for the platform.\\n- Collaborated with the visionary founder to conceive a business strategy that resulted in accepting 4 non-profits onto the platform.\\n- Developed and implemented a robust full-stack website and donation platform that withstood multiple Denial of Service (DOS) attacks from overseas.\\n- Acquired in-depth knowledge of AWS, docker, git, Linux DevOps, and semantic releases while working on the platform.\\n- Integrated low-level payment provider REST API tools, enabling the platform to take advantage of significantly lower transaction fees compared to plug-and-play solutions like PayPal and Square.\\n\\n### Estimating Engineer, McCloskey Mechanical Contractors, Inc., Nov 2016 - May 2017 (7 months)\\n- Proposed and implemented a VB Script that improved workflow efficiency between estimators and administrative assistants, resulting in a streamlined process for formulating bids on mechanical and plumbing contracts for commercial projects in multiple locations.\\n- Successfully proposed revisions to blueprints, resulting in cost savings on materials and improved allocation of manpower for commercial projects in South Jersey, Philadelphia, and Boston, MA.\\n- Developed and applied a comprehensive VB Script that facilitated collaboration between estimators and administrative assistants, resulting in increased accuracy and timeliness in formulating bids on mechanical and plumbing contracts for commercial projects in the South Jersey, Philadelphia, and Boston, MA areas.\\n- Implemented a VB Script that enhanced the workflow between estimators and administrative assistants, leading to improved efficiency in formulating bids on mechanical and plumbing contracts for commercial projects in South Jersey, Philadelphia, and Boston, MA.\\n- Proposed and executed revisions to blueprints, resulting in optimized material cost and manpower allocation for commercial projects in South Jersey, Philadelphia, and Boston, MA.\\n- Developed and implemented a VB Script that streamlined the workflow between estimators and administrative assistants, resulting in improved efficiency and accuracy in formulating bids on mechanical and plumbing contracts for commercial projects in multiple locations.\\n- Successfully proposed revisions to blueprints, resulting in cost savings on materials and improved manpower utilization for commercial projects in South Jersey, Philadelphia, and Boston, MA.\\n- Implemented a VB Script that improved collaboration between estimators and administrative assistants, leading to enhanced efficiency and accuracy in formulating bids on mechanical and plumbing contracts for commercial projects in the South Jersey, Philadelphia, and Boston, MA areas.\\n- Proposed and executed revisions to blueprints, resulting in optimized material cost and improved manpower allocation for commercial projects in South Jersey, Philadelphia, and Boston, MA.\\n- Developed and implemented a VB Script that streamlined the workflow between estimators and administrative assistants, resulting in improved efficiency and accuracy in formulating bids on mechanical and plumbing contracts for commercial projects in multiple locations.\\n\\n### Estimating Engineer, Camden Mechanical (MWBE), Jul 2014 - Nov 2016 (2 years 5 months)\\n- Successfully achieved competency in mechanical blueprint interpretation, bid formulation, and project lifecycle in half the time of the typical training pipeline, providing value to the company and team members.\\n- Developed and implemented software in Python that significantly increased the productivity of a 2-man team by threefold, improving efficiency in routine tasks.\\n- Represented the company at a networking event, resulting in new contractors and bids for upcoming projects in the greater metropolitan area.\\n- Effectively communicated with the lead contractor during an onsite walkthrough, leading to the successful awarding of a Rutgers Camden Lab renovation project.\""
     },
     "execution_count": 4,
     "metadata": {},
     "output_type": "execute_result"
    }
   ],
   "source": [
    "from asyncio import run\n",
    "\n",
    "await slayer.process()"
   ],
   "metadata": {
    "collapsed": false,
    "ExecuteTime": {
     "end_time": "2023-08-25T10:39:34.086731Z",
     "start_time": "2023-08-25T10:34:35.400659Z"
    }
   },
   "id": "ac573a73ce273ed6"
  },
  {
   "cell_type": "code",
   "execution_count": 5,
   "outputs": [
    {
     "name": "stdout",
     "output_type": "stream",
     "text": [
      "# Resume\n",
      "\n",
      "## Overview\n",
      "- Developed and implemented a robust full-stack website and donation platform that withstood multiple Denial of Service (DOS) attacks from overseas.\n",
      "- Implemented a comprehensive cleaning plan for 3 to 4 facilities, resulting in stellar reviews from the client for the cleanliness of the facilities.\n",
      "- Developed an automated trading system in Python using parallel processing, AWS, REST API's, and SQL, resulting in increased trading accuracy and profitability.\n",
      "- Proposed and executed revisions to blueprints, resulting in optimized material cost and improved manpower allocation for commercial projects in South Jersey, Philadelphia, and Boston, MA.\n",
      "- Acquired in-depth knowledge of AWS, docker, git, Linux DevOps, and semantic releases while working on the platform.\n",
      "\n",
      "## Experience\n",
      "\n",
      "### Aviation Electrician, US Navy, Aug 2020 - Present (2 years 11 months)\n",
      "- Successfully maintained electrical and instrument systems for 11 F-18E aircraft totaling $715 million, ensuring optimal performance and safety during flights.\n",
      "- Played a key role in the management of maintenance programs, resulting in no hits on a major inspection and ensuring the aircraft's readiness for missions.\n",
      "- Demonstrated exceptional expertise in managing a tool program worth over $175,000, training coworkers on expectations and proper procedures, which led to no hits across 2 major and 3 routine inspections.\n",
      "- Recognized for showing expertise and initiative in reinstalling an incorrectly installed part under stressful conditions, ensuring the aircraft's functionality and avoiding potential issues during flight.\n",
      "- Led and mentored a group of 3 individuals in flight deck operations and proper flight deck cleaning procedures as a supervisor, resulting in no accidents and revitalizing a stagnant work center.\n",
      "\n",
      "### Founder, Creation Consortium LLC, Apr 2019 - Present (4 years 3 months)\n",
      "- Successfully upgraded the computer and network systems for a reputable veterinary clinic in Philadelphia, resulting in improved efficiency and productivity.\n",
      "- Developed an automated trading system in Python using parallel processing, AWS, REST API's, and SQL, resulting in increased trading accuracy and profitability.\n",
      "- Created a novel UI for viewing and editing genetic content using React (javascript framework), Cascading Style Sheets (CSS), HTML, and Rust, resulting in a user-friendly and visually appealing interface.\n",
      "- Designed and implemented a low-level sensor logger and control system in Rust, resulting in accurate data collection and efficient control of sensors.\n",
      "\n",
      "### Facility Specialist, TruClean, Apr 2020 - Aug 2020 (5 months)\n",
      "- Implemented a comprehensive cleaning plan for 3 to 4 facilities, resulting in stellar reviews from the client for the cleanliness of the facilities.\n",
      "- Successfully refurnished several dozen low-income apartments with meticulous attention to detail, leading to recognition and increased responsibility.\n",
      "- Showed exceptional attention to detail in the cleaning process, resulting in a high level of satisfaction from clients.\n",
      "- Demonstrated a strong work ethic and attention to detail in maintaining the cleanliness of high traffic facilities, leading to positive feedback from clients.\n",
      "- Proactively took on additional responsibilities and showed autonomy in refurnishing low-income apartments, resulting in increased trust from superiors.\n",
      "\n",
      "### Co-Founder, Love Our Neighbor Inc, Apr 2019 - May 2020 (1 year 2 months)\n",
      "- Successfully obtained accredited 501(c)3 non-profit tax status for the crowd funding platform for Christian based ministries.\n",
      "- Proposed and had corporate bylaws ratified by 5 board members, ensuring proper governance for the platform.\n",
      "- Collaborated with the visionary founder to conceive a business strategy that resulted in accepting 4 non-profits onto the platform.\n",
      "- Developed and implemented a robust full-stack website and donation platform that withstood multiple Denial of Service (DOS) attacks from overseas.\n",
      "- Acquired in-depth knowledge of AWS, docker, git, Linux DevOps, and semantic releases while working on the platform.\n",
      "- Integrated low-level payment provider REST API tools, enabling the platform to take advantage of significantly lower transaction fees compared to plug-and-play solutions like PayPal and Square.\n",
      "\n",
      "### Estimating Engineer, McCloskey Mechanical Contractors, Inc., Nov 2016 - May 2017 (7 months)\n",
      "- Proposed and implemented a VB Script that improved workflow efficiency between estimators and administrative assistants, resulting in a streamlined process for formulating bids on mechanical and plumbing contracts for commercial projects in multiple locations.\n",
      "- Successfully proposed revisions to blueprints, resulting in cost savings on materials and improved allocation of manpower for commercial projects in South Jersey, Philadelphia, and Boston, MA.\n",
      "- Developed and applied a comprehensive VB Script that facilitated collaboration between estimators and administrative assistants, resulting in increased accuracy and timeliness in formulating bids on mechanical and plumbing contracts for commercial projects in the South Jersey, Philadelphia, and Boston, MA areas.\n",
      "- Implemented a VB Script that enhanced the workflow between estimators and administrative assistants, leading to improved efficiency in formulating bids on mechanical and plumbing contracts for commercial projects in South Jersey, Philadelphia, and Boston, MA.\n",
      "- Proposed and executed revisions to blueprints, resulting in optimized material cost and manpower allocation for commercial projects in South Jersey, Philadelphia, and Boston, MA.\n",
      "- Developed and implemented a VB Script that streamlined the workflow between estimators and administrative assistants, resulting in improved efficiency and accuracy in formulating bids on mechanical and plumbing contracts for commercial projects in multiple locations.\n",
      "- Successfully proposed revisions to blueprints, resulting in cost savings on materials and improved manpower utilization for commercial projects in South Jersey, Philadelphia, and Boston, MA.\n",
      "- Implemented a VB Script that improved collaboration between estimators and administrative assistants, leading to enhanced efficiency and accuracy in formulating bids on mechanical and plumbing contracts for commercial projects in the South Jersey, Philadelphia, and Boston, MA areas.\n",
      "- Proposed and executed revisions to blueprints, resulting in optimized material cost and improved manpower allocation for commercial projects in South Jersey, Philadelphia, and Boston, MA.\n",
      "- Developed and implemented a VB Script that streamlined the workflow between estimators and administrative assistants, resulting in improved efficiency and accuracy in formulating bids on mechanical and plumbing contracts for commercial projects in multiple locations.\n",
      "\n",
      "### Estimating Engineer, Camden Mechanical (MWBE), Jul 2014 - Nov 2016 (2 years 5 months)\n",
      "- Successfully achieved competency in mechanical blueprint interpretation, bid formulation, and project lifecycle in half the time of the typical training pipeline, providing value to the company and team members.\n",
      "- Developed and implemented software in Python that significantly increased the productivity of a 2-man team by threefold, improving efficiency in routine tasks.\n",
      "- Represented the company at a networking event, resulting in new contractors and bids for upcoming projects in the greater metropolitan area.\n",
      "- Effectively communicated with the lead contractor during an onsite walkthrough, leading to the successful awarding of a Rutgers Camden Lab renovation project.\n"
     ]
    }
   ],
   "source": [
    "print(_4)"
   ],
   "metadata": {
    "collapsed": false,
    "ExecuteTime": {
     "end_time": "2023-08-25T10:39:34.097488Z",
     "start_time": "2023-08-25T10:39:34.089733Z"
    }
   },
   "id": "fc2198bba86b44bf"
  },
  {
   "cell_type": "code",
   "execution_count": 5,
   "outputs": [],
   "source": [],
   "metadata": {
    "collapsed": false,
    "ExecuteTime": {
     "end_time": "2023-08-25T10:39:34.183322Z",
     "start_time": "2023-08-25T10:39:34.092531Z"
    }
   },
   "id": "4d73f57517cce2c7"
  }
 ],
 "metadata": {
  "kernelspec": {
   "display_name": "Python 3",
   "language": "python",
   "name": "python3"
  },
  "language_info": {
   "codemirror_mode": {
    "name": "ipython",
    "version": 2
   },
   "file_extension": ".py",
   "mimetype": "text/x-python",
   "name": "python",
   "nbconvert_exporter": "python",
   "pygments_lexer": "ipython2",
   "version": "2.7.6"
  }
 },
 "nbformat": 4,
 "nbformat_minor": 5
}
