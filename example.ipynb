{
 "cells": [
  {
   "cell_type": "code",
   "execution_count": 1,
   "id": "initial_id",
   "metadata": {
    "collapsed": true,
    "ExecuteTime": {
     "end_time": "2023-08-25T11:57:34.448583Z",
     "start_time": "2023-08-25T11:57:34.410605Z"
    }
   },
   "outputs": [],
   "source": [
    "with open(\"job_desc.md\") as f:\n",
    "    description = f.read()\n",
    "with open(\"resume.md\") as f:\n",
    "    resume = f.read()\n",
    "title = 'django developer'"
   ]
  },
  {
   "cell_type": "code",
   "execution_count": 2,
   "outputs": [],
   "source": [
    "from slayer import Slayer"
   ],
   "metadata": {
    "collapsed": false,
    "ExecuteTime": {
     "end_time": "2023-08-25T11:57:36.392613Z",
     "start_time": "2023-08-25T11:57:34.416137Z"
    }
   },
   "id": "280a800ea7f4ecc1"
  },
  {
   "cell_type": "code",
   "execution_count": 3,
   "outputs": [],
   "source": [
    "slayer = Slayer(resume, description, title)"
   ],
   "metadata": {
    "collapsed": false,
    "ExecuteTime": {
     "end_time": "2023-08-25T11:58:15.512220Z",
     "start_time": "2023-08-25T11:57:36.384309Z"
    }
   },
   "id": "bb4fb79eb2154a32"
  },
  {
   "cell_type": "code",
   "execution_count": 4,
   "outputs": [
    {
     "data": {
      "text/plain": "\"# Resume\\n\\n## Overview\\n- Developed and implemented a full-stack website and donation platform that withstood Denial of Service (DOS) attacks\\n- Increased productivity of a 2-man team threefold by developing and implementing software in Python\\n- Integrated low-level payment provider REST API tools for cost-effective transaction fees\\n- Responsible for maintaining electrical and instrument systems for 11 F-18E aircraft totaling $715 million\\n- Developed an automated trading system in Python using parallel processing, AWS, REST API's, and SQL.\\n\\n## Experience\\n\\n### Aviation Electrician, US Navy, Aug 2020 - Present (2 years 11 months)\\n- Successfully maintained electrical and instrument systems for 11 F-18E aircraft totaling $715 million, ensuring their optimal performance and functionality.\\n- Conducted final checks and troubleshooting of aircraft before flight, ensuring that all systems were functioning properly and ready for operation.\\n- Assisted primary supervisor in managing maintenance programs, resulting in no hits on a major inspection and ensuring the aircraft's compliance with safety regulations.\\n- Effectively managed a tool program worth over $175,000 by training coworkers on expectations and proper procedures, leading to no hits across 2 major and 3 routine inspections.\\n- Received an award for demonstrating expertise and initiative in reinstalling an incorrectly installed part under stressful conditions, ensuring the aircraft's safety and functionality.\\n- Led and mentored a group of 3 individuals in flight deck operations and proper flight deck cleaning procedures as a supervisor, resulting in no accidents and revitalizing a stagnant work center.\\n\\n### Founder, Creation Consortium LLC, Apr 2019 - Present (4 years 3 months)\\n- Upgraded the computer and network systems for a reputable veterinary clinic in Philadelphia, resulting in improved efficiency and reduced downtime for the clinic.\\n- Developed an automated trading system in Python using parallel processing, AWS, REST API's, and SQL, resulting in increased trading speed and accuracy.\\n- Developed a novel UI for viewing and editing genetic content using React (javascript framework), Cascading Style Sheets (CSS), HTML, and Rust, resulting in a user-friendly and visually appealing interface.\\n- Developed a low-level sensor logger and control system in Rust, resulting in accurate data collection and efficient control of sensors.\\n\\n### Facility Specialist, TruClean, Apr 2020 - Aug 2020 (5 months)\\n- Implemented a comprehensive cleaning schedule for 3 to 4 facilities, resulting in improved efficiency and cleanliness.\\n- Successfully maintained a high level of cleanliness in a high traffic facility, leading to positive feedback from the client.\\n- Refurbished several dozen low-income apartments with meticulous attention to detail, resulting in improved living conditions for residents.\\n- Demonstrated exceptional cleaning skills, leading to increased responsibility and autonomy in the job.\\n- Received recognition for attention to detail in the cleaning process, resulting in additional tasks and responsibilities.\\n- Showed dedication to maintaining cleanliness standards, resulting in a positive reputation for the facilities.\\n- Took initiative in implementing cleaning protocols, resulting in improved efficiency and effectiveness in the cleaning process.\\n- Consistently exceeded expectations in maintaining cleanliness standards, leading to increased trust and autonomy in the role.\\n\\n### Co-Founder, Love Our Neighbor Inc, Apr 2019 - May 2020 (1 year 2 months)\\n1. Successfully obtained accredited 501(c)3 non-profit tax status for the crowd funding platform for Christian based ministries.\\n2. Proposed and had corporate bylaws ratified by 5 board members, ensuring proper governance for the platform.\\n3. Collaborated with the visionary founder to conceive a business strategy that resulted in accepting 4 non-profits onto the platform.\\n4. Developed and implemented a robust full-stack website and donation platform that effectively withstood multiple Denial of Service (DOS) attacks from overseas.\\n5. Demonstrated expertise in AWS, docker, git, Linux DevOps, and semantic releases while developing and maintaining the platform.\\n6. Integrated low-level payment provider REST API tools, enabling the platform to take advantage of significantly lower transaction fees compared to plug-and-play solutions like PayPal and Square.\\n\\n### Estimating Engineer, McCloskey Mechanical Contractors, Inc., Nov 2016 - May 2017 (7 months)\\n- Proposed and implemented a VB Script that improved workflow efficiency between estimators and administrative assistants, resulting in a streamlined process for formulating bids on mechanical and plumbing contracts for commercial projects in multiple locations.\\n- Successfully proposed revisions to blueprints, resulting in cost savings on materials and manpower for commercial projects in South Jersey, Philadelphia, and Boston, MA.\\n\\n### Estimating Engineer, Camden Mechanical (MWBE), Jul 2014 - Nov 2016 (2 years 5 months)\\n- Successfully achieved competency in mechanical blueprint interpretation, bid formulation, and project lifecycle in half the time of the typical training pipeline, providing value to the company and team members.\\n- Developed and implemented software in Python to streamline routine tasks, resulting in a threefold increase in productivity for a 2-man team.\\n- Represented the company at a networking event, resulting in new contractors and bids for upcoming projects in the greater metropolitan area.\\n- Effectively communicated with the lead contractor during an onsite walkthrough, leading to the successful awarding of a Rutgers Camden Lab renovation project.\""
     },
     "execution_count": 4,
     "metadata": {},
     "output_type": "execute_result"
    }
   ],
   "source": [
    "from asyncio import run\n",
    "\n",
    "await slayer.process()"
   ],
   "metadata": {
    "collapsed": false,
    "ExecuteTime": {
     "end_time": "2023-08-25T12:00:14.320068Z",
     "start_time": "2023-08-25T11:58:15.511467Z"
    }
   },
   "id": "ac573a73ce273ed6"
  },
  {
   "cell_type": "code",
   "execution_count": 5,
   "outputs": [
    {
     "name": "stdout",
     "output_type": "stream",
     "text": [
      "# Resume\n",
      "\n",
      "## Overview\n",
      "- Developed and implemented a full-stack website and donation platform that withstood Denial of Service (DOS) attacks\n",
      "- Increased productivity of a 2-man team threefold by developing and implementing software in Python\n",
      "- Integrated low-level payment provider REST API tools for cost-effective transaction fees\n",
      "- Responsible for maintaining electrical and instrument systems for 11 F-18E aircraft totaling $715 million\n",
      "- Developed an automated trading system in Python using parallel processing, AWS, REST API's, and SQL.\n",
      "\n",
      "## Experience\n",
      "\n",
      "### Aviation Electrician, US Navy, Aug 2020 - Present (2 years 11 months)\n",
      "- Successfully maintained electrical and instrument systems for 11 F-18E aircraft totaling $715 million, ensuring their optimal performance and functionality.\n",
      "- Conducted final checks and troubleshooting of aircraft before flight, ensuring that all systems were functioning properly and ready for operation.\n",
      "- Assisted primary supervisor in managing maintenance programs, resulting in no hits on a major inspection and ensuring the aircraft's compliance with safety regulations.\n",
      "- Effectively managed a tool program worth over $175,000 by training coworkers on expectations and proper procedures, leading to no hits across 2 major and 3 routine inspections.\n",
      "- Received an award for demonstrating expertise and initiative in reinstalling an incorrectly installed part under stressful conditions, ensuring the aircraft's safety and functionality.\n",
      "- Led and mentored a group of 3 individuals in flight deck operations and proper flight deck cleaning procedures as a supervisor, resulting in no accidents and revitalizing a stagnant work center.\n",
      "\n",
      "### Founder, Creation Consortium LLC, Apr 2019 - Present (4 years 3 months)\n",
      "- Upgraded the computer and network systems for a reputable veterinary clinic in Philadelphia, resulting in improved efficiency and reduced downtime for the clinic.\n",
      "- Developed an automated trading system in Python using parallel processing, AWS, REST API's, and SQL, resulting in increased trading speed and accuracy.\n",
      "- Developed a novel UI for viewing and editing genetic content using React (javascript framework), Cascading Style Sheets (CSS), HTML, and Rust, resulting in a user-friendly and visually appealing interface.\n",
      "- Developed a low-level sensor logger and control system in Rust, resulting in accurate data collection and efficient control of sensors.\n",
      "\n",
      "### Facility Specialist, TruClean, Apr 2020 - Aug 2020 (5 months)\n",
      "- Implemented a comprehensive cleaning schedule for 3 to 4 facilities, resulting in improved efficiency and cleanliness.\n",
      "- Successfully maintained a high level of cleanliness in a high traffic facility, leading to positive feedback from the client.\n",
      "- Refurbished several dozen low-income apartments with meticulous attention to detail, resulting in improved living conditions for residents.\n",
      "- Demonstrated exceptional cleaning skills, leading to increased responsibility and autonomy in the job.\n",
      "- Received recognition for attention to detail in the cleaning process, resulting in additional tasks and responsibilities.\n",
      "- Showed dedication to maintaining cleanliness standards, resulting in a positive reputation for the facilities.\n",
      "- Took initiative in implementing cleaning protocols, resulting in improved efficiency and effectiveness in the cleaning process.\n",
      "- Consistently exceeded expectations in maintaining cleanliness standards, leading to increased trust and autonomy in the role.\n",
      "\n",
      "### Co-Founder, Love Our Neighbor Inc, Apr 2019 - May 2020 (1 year 2 months)\n",
      "1. Successfully obtained accredited 501(c)3 non-profit tax status for the crowd funding platform for Christian based ministries.\n",
      "2. Proposed and had corporate bylaws ratified by 5 board members, ensuring proper governance for the platform.\n",
      "3. Collaborated with the visionary founder to conceive a business strategy that resulted in accepting 4 non-profits onto the platform.\n",
      "4. Developed and implemented a robust full-stack website and donation platform that effectively withstood multiple Denial of Service (DOS) attacks from overseas.\n",
      "5. Demonstrated expertise in AWS, docker, git, Linux DevOps, and semantic releases while developing and maintaining the platform.\n",
      "6. Integrated low-level payment provider REST API tools, enabling the platform to take advantage of significantly lower transaction fees compared to plug-and-play solutions like PayPal and Square.\n",
      "\n",
      "### Estimating Engineer, McCloskey Mechanical Contractors, Inc., Nov 2016 - May 2017 (7 months)\n",
      "- Proposed and implemented a VB Script that improved workflow efficiency between estimators and administrative assistants, resulting in a streamlined process for formulating bids on mechanical and plumbing contracts for commercial projects in multiple locations.\n",
      "- Successfully proposed revisions to blueprints, resulting in cost savings on materials and manpower for commercial projects in South Jersey, Philadelphia, and Boston, MA.\n",
      "\n",
      "### Estimating Engineer, Camden Mechanical (MWBE), Jul 2014 - Nov 2016 (2 years 5 months)\n",
      "- Successfully achieved competency in mechanical blueprint interpretation, bid formulation, and project lifecycle in half the time of the typical training pipeline, providing value to the company and team members.\n",
      "- Developed and implemented software in Python to streamline routine tasks, resulting in a threefold increase in productivity for a 2-man team.\n",
      "- Represented the company at a networking event, resulting in new contractors and bids for upcoming projects in the greater metropolitan area.\n",
      "- Effectively communicated with the lead contractor during an onsite walkthrough, leading to the successful awarding of a Rutgers Camden Lab renovation project.\n"
     ]
    }
   ],
   "source": [
    "print(_4)"
   ],
   "metadata": {
    "collapsed": false,
    "ExecuteTime": {
     "end_time": "2023-08-25T12:00:14.321380Z",
     "start_time": "2023-08-25T12:00:14.300047Z"
    }
   },
   "id": "fc2198bba86b44bf"
  },
  {
   "cell_type": "code",
   "execution_count": 5,
   "outputs": [],
   "source": [],
   "metadata": {
    "collapsed": false,
    "ExecuteTime": {
     "end_time": "2023-08-25T12:00:14.321754Z",
     "start_time": "2023-08-25T12:00:14.307676Z"
    }
   },
   "id": "4d73f57517cce2c7"
  }
 ],
 "metadata": {
  "kernelspec": {
   "display_name": "Python 3",
   "language": "python",
   "name": "python3"
  },
  "language_info": {
   "codemirror_mode": {
    "name": "ipython",
    "version": 2
   },
   "file_extension": ".py",
   "mimetype": "text/x-python",
   "name": "python",
   "nbconvert_exporter": "python",
   "pygments_lexer": "ipython2",
   "version": "2.7.6"
  }
 },
 "nbformat": 4,
 "nbformat_minor": 5
}
