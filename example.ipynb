{
 "cells": [
  {
   "cell_type": "code",
   "execution_count": 1,
   "id": "initial_id",
   "metadata": {
    "collapsed": true,
    "ExecuteTime": {
     "end_time": "2023-08-23T02:11:26.576241Z",
     "start_time": "2023-08-23T02:11:26.551588Z"
    }
   },
   "outputs": [],
   "source": [
    "with open(\"job_desc.md\") as f:\n",
    "    description = f.read()\n",
    "with open(\"resume.md\") as f:\n",
    "    resume = f.read()\n",
    "title = 'django developer'"
   ]
  },
  {
   "cell_type": "code",
   "execution_count": 2,
   "outputs": [],
   "source": [
    "from slayer import Slayer"
   ],
   "metadata": {
    "collapsed": false,
    "ExecuteTime": {
     "end_time": "2023-08-23T02:11:28.832256Z",
     "start_time": "2023-08-23T02:11:26.564747Z"
    }
   },
   "id": "280a800ea7f4ecc1"
  },
  {
   "cell_type": "code",
   "execution_count": 3,
   "outputs": [
    {
     "name": "stdout",
     "output_type": "stream",
     "text": [
      "\n",
      "\n",
      "\u001B[1m> Entering new SequentialChain chain...\u001B[0m\n",
      "\n",
      "\u001B[1m> Finished chain.\u001B[0m\n",
      "\n",
      "\n",
      "\u001B[1m> Entering new SequentialChain chain...\u001B[0m\n",
      "\n",
      "\u001B[1m> Finished chain.\u001B[0m\n",
      "\n",
      "\n",
      "\u001B[1m> Entering new SequentialChain chain...\u001B[0m\n",
      "\n",
      "\u001B[1m> Finished chain.\u001B[0m\n",
      "\n",
      "\n",
      "\u001B[1m> Entering new SequentialChain chain...\u001B[0m\n",
      "\n",
      "\u001B[1m> Finished chain.\u001B[0m\n",
      "\n",
      "\n",
      "\u001B[1m> Entering new SequentialChain chain...\u001B[0m\n",
      "\n",
      "\u001B[1m> Finished chain.\u001B[0m\n",
      "\n",
      "\n",
      "\u001B[1m> Entering new SequentialChain chain...\u001B[0m\n",
      "\n",
      "\u001B[1m> Finished chain.\u001B[0m\n",
      "Overview:\n",
      " - Demonstrated attention to detail and ability to enhance productivity through software development\n",
      "- Experience in AWS, Docker, Git, Linux DevOps, and semantic releases\n",
      "- Ability to design and implement secure websites and withstand attacks\n",
      "- Strong communication skills and ability to manage projects\n",
      "- Proficiency in Python, Django, React, and other relevant technologies\n",
      "Experiences:\n",
      " [Document(page_content='- Troubleshooting: Responsible for final check and troubleshooting of aircraft before flight.\\n- Management: Assisted primary supervisor in management of maintenance programs leading to no hits on a major inspection. Expertly managed tool program of over $175,000 by training coworkers on expectations and proper procedures leading to no hits across 2 major and 3 routine inspections.\\n- Leadership: Lead and mentored a group of 3 individuals in flight deck operations and proper flight deck cleaning procedures as supervisor leading to no accidents and rejuvenating a stagnant work center.', metadata={'Header 1': 'Experience', 'Header 2': 'Aviation Electrician, US Navy, Aug 2020 - Present (2 years 11 months)'}), Document(page_content=\"- Developed automated trading system in Python using parallel processing, AWS, REST API's, and SQL, demonstrating proficiency in Python.\\n- Developed novel UI for viewing and editing genetic content using React (javascript framework), Cascading Style Sheets (CSS), HTML, demonstrating proficiency in React.\\n- Developed low-level sensor logger and control system in Rust, demonstrating proficiency in Rust.\", metadata={'Header 1': 'Experience', 'Header 2': 'Founder, Creation Consortium LLC, Apr 2019 - Present (4 years 3 months)'}), Document(page_content='- Responsible for general cleaning of 3 to 4 facilities on a flexible schedule and a 1 - 2 person workcrew, showcasing autonomy in managing multiple locations and coordinating with a small team.\\n- Dutiful cleaning of a high traffic facility demonstrates attention to detail, ensuring that the facility is maintained to a high standard.\\n- Refurnishing several dozen low-income apartments showcases attention to detail, as each apartment required meticulous cleaning and organizing.\\n- Stellar reviews from clients highlight the attention to detail and cleaning skills employed in maintaining the facilities.\\n- More responsibility and autonomy were granted due to the demonstrated attention to detail and successful completion of the refurnishing project.', metadata={'Header 1': 'Experience', 'Header 2': 'Facility Specialist, TruClean, Apr 2020 - Aug 2020 (5 months)'}), Document(page_content='- Developed and implemented a full-stack website and donation platform, showcasing the ability to create a comprehensive and functional website.\\n- Withstood several attempts Denial of Service (DOS) attacks from overseas, demonstrating the ability to handle and mitigate security threats.\\n- Honed knowledge of AWS, docker, git, Linux DevOps, and semantic releases, indicating proficiency in various technologies and tools.\\n- Integrated low-level payment provider REST API tools, showcasing the ability to integrate and utilize external tools for cost-effective transaction processing.', metadata={'Header 1': 'Experience', 'Header 2': 'Co-Founder, Love Our Neighbor Inc, Apr 2019 - May 2020 (1 year 2 months)'}), Document(page_content='- Demonstrates VB Scripting skill by creating and implementing a VB Script to improve workflow.\\n- Shows Estimating skill by formulating bids on mechanical and plumbing contracts.\\n- Highlights Blueprint revision skill by proposing revisions to blueprints for cost and manpower considerations.', metadata={'Header 1': 'Experience', 'Header 2': 'Estimating Engineer, McCloskey Mechanical Contractors, Inc., Nov 2016 - May 2017 (7 months)'}), Document(page_content=\"- Demonstrated proficiency in mechanical blueprint interpretation by accurately interpreting blueprints for large scale commercial projects.\\n- Utilized bid formulation skills to formulate bid proposals for these projects, showcasing the ability to analyze project requirements and develop competitive bids.\\n- Showed understanding of the project lifecycle by effectively communicating with contractors and vendors for Requests for Proposals (RFP's) and Request for Quotations (RFQ's), indicating involvement in various stages of the project from initial bidding to final procurement.\\n- Achieved competency in these key skills in a shorter timeframe than the typical training pipeline, highlighting adaptability and quick learning abilities.\\n- Developed and implemented software in Python to streamline routine tasks, demonstrating problem-solving skills and the ability to leverage technology for increased productivity.\\n- Represented the company at a networking event, showcasing strong communication and networking skills, which resulted in new contractors and bids for upcoming projects.\\n- Successfully communicated with the lead contractor during an onsite walkthrough, indicating effective collaboration and negotiation skills, leading to the successful awarding of a Rutgers Camden Lab renovation project.\", metadata={'Header 1': 'Experience', 'Header 2': 'Estimating Engineer, Camden Mechanical (MWBE), Jul 2014 - Nov 2016 (2 years 5 months)'})]\n"
     ]
    }
   ],
   "source": [
    "slayer = Slayer(resume, description, title)\n",
    "slayer.process()"
   ],
   "metadata": {
    "collapsed": false,
    "ExecuteTime": {
     "end_time": "2023-08-23T02:13:34.143352Z",
     "start_time": "2023-08-23T02:11:28.834973Z"
    }
   },
   "id": "bb4fb79eb2154a32"
  },
  {
   "cell_type": "code",
   "execution_count": 3,
   "outputs": [],
   "source": [],
   "metadata": {
    "collapsed": false,
    "ExecuteTime": {
     "end_time": "2023-08-23T02:13:34.143876Z",
     "start_time": "2023-08-23T02:13:34.139092Z"
    }
   },
   "id": "ac573a73ce273ed6"
  }
 ],
 "metadata": {
  "kernelspec": {
   "display_name": "Python 3",
   "language": "python",
   "name": "python3"
  },
  "language_info": {
   "codemirror_mode": {
    "name": "ipython",
    "version": 2
   },
   "file_extension": ".py",
   "mimetype": "text/x-python",
   "name": "python",
   "nbconvert_exporter": "python",
   "pygments_lexer": "ipython2",
   "version": "2.7.6"
  }
 },
 "nbformat": 4,
 "nbformat_minor": 5
}
