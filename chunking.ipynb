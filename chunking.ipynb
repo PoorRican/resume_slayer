{
 "cells": [
  {
   "cell_type": "markdown",
   "source": [
    "This notebook is dedicated to exploring chunking and breaking up the resume by section.\n",
    "\n",
    "The header or professional summary (if included) should be evaluated on an individual basis and possibly thrown out."
   ],
   "metadata": {
    "collapsed": false
   },
   "id": "d587c89f6371aa2f"
  },
  {
   "cell_type": "code",
   "execution_count": 31,
   "outputs": [],
   "source": [
    "\n",
    "from langchain.chains import LLMChain\n"
   ],
   "metadata": {
    "collapsed": false,
    "ExecuteTime": {
     "end_time": "2023-08-09T02:03:55.089907Z",
     "start_time": "2023-08-09T02:03:55.065514Z"
    }
   },
   "id": "d219efafe10f6c43"
  },
  {
   "cell_type": "code",
   "execution_count": 1,
   "outputs": [],
   "source": [
    "# get local docs\n",
    "with open(\"resume.md\") as f:\n",
    "    resume = f.read()\n",
    "with open(\"job_desc.md\") as f:\n",
    "    job_desc = f.read()\n",
    "job_title = \"django engineer\"\n"
   ],
   "metadata": {
    "collapsed": false,
    "ExecuteTime": {
     "end_time": "2023-08-08T20:20:54.295417Z",
     "start_time": "2023-08-08T20:20:54.287597Z"
    }
   },
   "id": "c1918699f60d949c"
  },
  {
   "cell_type": "markdown",
   "source": [
    "# Chunking job sections"
   ],
   "metadata": {
    "collapsed": false
   },
   "id": "8cfa1e3d3656ddf3"
  },
  {
   "cell_type": "markdown",
   "source": [
    "## w/ LangChain Documents\n",
    "\n",
    "I think keeping the sections as paragraphs would be best here"
   ],
   "metadata": {
    "collapsed": false
   },
   "id": "69ee6ddd56b0d6d1"
  },
  {
   "cell_type": "code",
   "execution_count": 3,
   "outputs": [],
   "source": [
    "from langchain.text_splitter import MarkdownHeaderTextSplitter\n",
    "\n",
    "headers = [\n",
    "    ('#', 'Header 1'),\n",
    "    ('##', 'Header 2'),\n",
    "    ('###', 'Header 3'),\n",
    "    ('####', 'Header 4'),\n",
    "]\n",
    "md_spitter = MarkdownHeaderTextSplitter(headers_to_split_on=headers)"
   ],
   "metadata": {
    "collapsed": false,
    "ExecuteTime": {
     "start_time": "2023-08-08T20:21:33.536799Z"
    }
   },
   "id": "initial_id"
  },
  {
   "cell_type": "code",
   "execution_count": 4,
   "outputs": [],
   "source": [
    "splits = md_spitter.split_text(resume)"
   ],
   "metadata": {
    "collapsed": false,
    "ExecuteTime": {
     "end_time": "2023-08-08T20:21:42.440082Z",
     "start_time": "2023-08-08T20:21:42.432607Z"
    }
   },
   "id": "1b36da3dc82fed63"
  },
  {
   "cell_type": "code",
   "execution_count": 10,
   "outputs": [
    {
     "data": {
      "text/plain": "Document(page_content=\"Responsible for interpreting blueprints and formulating bid proposals for large scale commercial projects. Additionally responsible for communicating with contractors and vendors for Requests for Proposals (RFP's) and Request for Quotations (RFQ's).  \\n- Achieved competency in mechanical blueprint interpretation, bid formulation, and project lifecycle with half of the time of the typical training pipeline which provided value to the company and team members.\\n- Developed and implemented software in Python to assist with routine tasks which increased productivity of a 2 man team threefold.\\n- Represented the company at a networking event which opened the door to new contractors and bids for upcoming projects in the greater metropolitan area.\\n- Communicated with lead contractor during an onsite walkthrough which lead to successful awarding of a Rutgers Camden Lab renovation.\", metadata={'Header 1': 'Experience', 'Header 2': 'Estimating Engineer, Camden Mechanical (MWBE), Jul 2014 - Nov 2016 (2 years 5 months)'})"
     },
     "execution_count": 10,
     "metadata": {},
     "output_type": "execute_result"
    }
   ],
   "source": [
    "splits[-3]"
   ],
   "metadata": {
    "collapsed": false,
    "ExecuteTime": {
     "end_time": "2023-08-08T20:23:13.872023Z",
     "start_time": "2023-08-08T20:23:13.857215Z"
    }
   },
   "id": "1b7801067176f996"
  },
  {
   "cell_type": "markdown",
   "source": [
    "Once you split the documents, how do you feed them back to the LLM?"
   ],
   "metadata": {
    "collapsed": false
   },
   "id": "f575a0e36055e8a1"
  },
  {
   "cell_type": "code",
   "execution_count": 20,
   "outputs": [],
   "source": [
    "from langchain.chat_models import ChatOpenAI\n",
    "\n",
    "chat_model = ChatOpenAI(temperature=.85, model_name=\"gpt-3.5-turbo\")"
   ],
   "metadata": {
    "collapsed": false,
    "ExecuteTime": {
     "end_time": "2023-08-08T21:51:20.308090Z",
     "start_time": "2023-08-08T21:51:20.281162Z"
    }
   },
   "id": "7d37184c5d775eb2"
  },
  {
   "cell_type": "code",
   "execution_count": 28,
   "outputs": [],
   "source": [
    "from langchain.prompts import ChatPromptTemplate, SystemMessagePromptTemplate, HumanMessagePromptTemplate\n",
    "from langchain.prompts import PromptTemplate\n",
    "\n",
    "\n",
    "system_message = SystemMessagePromptTemplate.from_template(\n",
    "    \"You're an expert career consultant with an IQ over 140. Please improve this resume section for this {job_title} position.\"\n",
    "    \"Improve the section by matching grammatical syntax and lexicon.\"\n",
    "    \"This is the job description:\\n{job_desc}\")\n",
    "job_desc_prompt = HumanMessagePromptTemplate.from_template(\"Here is the resume section:\\n{section}\")\n",
    "chat_prompt = ChatPromptTemplate.from_messages([system_message, job_desc_prompt])\n",
    "\n",
    "messages = chat_prompt.format_prompt(section=splits[-3],\n",
    "                                     job_desc=job_desc,\n",
    "                                     job_title=job_title).to_messages()\n"
   ],
   "metadata": {
    "collapsed": false,
    "ExecuteTime": {
     "end_time": "2023-08-09T01:58:52.962125Z",
     "start_time": "2023-08-09T01:58:52.861397Z"
    }
   },
   "id": "38685ad594fc743a"
  },
  {
   "cell_type": "code",
   "execution_count": 29,
   "outputs": [],
   "source": [
    "response = chat_model.predict_messages(messages)"
   ],
   "metadata": {
    "collapsed": false,
    "ExecuteTime": {
     "end_time": "2023-08-09T01:59:05.062781Z",
     "start_time": "2023-08-09T01:58:55.138146Z"
    }
   },
   "id": "839b3ddfa3a5f8c"
  },
  {
   "cell_type": "code",
   "execution_count": 30,
   "outputs": [
    {
     "data": {
      "text/plain": "AIMessage(content='Experience:\\n\\nEstimating Engineer, Camden Mechanical (MWBE), Jul 2014 - Nov 2016 (2 years 5 months)\\n\\n- Responsible for interpreting blueprints and formulating bid proposals for large-scale commercial projects.\\n- Communicated with contractors and vendors for Requests for Proposals (RFPs) and Request for Quotations (RFQs).\\n- Achieved competency in mechanical blueprint interpretation, bid formulation, and project lifecycle in half the time of the typical training pipeline, providing value to the company and team members.\\n- Developed and implemented Python software to streamline routine tasks, resulting in a threefold increase in productivity for a 2-man team.\\n- Represented the company at a networking event, facilitating connections with new contractors and bids for upcoming projects in the greater metropolitan area.\\n- Collaborated with lead contractors during an onsite walkthrough, leading to the successful awarding of a Rutgers Camden Lab renovation project.', additional_kwargs={}, example=False)"
     },
     "execution_count": 30,
     "metadata": {},
     "output_type": "execute_result"
    }
   ],
   "source": [
    "response"
   ],
   "metadata": {
    "collapsed": false,
    "ExecuteTime": {
     "end_time": "2023-08-09T01:59:06.524072Z",
     "start_time": "2023-08-09T01:59:06.502072Z"
    }
   },
   "id": "80ad3744f0b8ed4e"
  },
  {
   "cell_type": "markdown",
   "source": [
    "Turning this into a chain and ditching the use of chat templates"
   ],
   "metadata": {
    "collapsed": false
   },
   "id": "db81d5675685e518"
  },
  {
   "cell_type": "code",
   "execution_count": 32,
   "outputs": [],
   "source": [
    "gram_prompt = PromptTemplate.from_template(\"\"\"\n",
    "You're an expert career consultant with an IQ over 140.\n",
    "Please improve this resume section for this {job_title} position.\n",
    "Improve the section by matching grammatical syntax and lexicon.\n",
    "\n",
    "This is the job description:\\n\\n{job_desc}.\n",
    "\\n\\n\n",
    "Here is the resume section:\\n{section}\n",
    "\"\"\")\n",
    "\n",
    "grammatical_chain = LLMChain(prompt=gram_prompt, llm=ChatOpenAI(temperature=.85, model_name=\"gpt-3.5-turbo\"))"
   ],
   "metadata": {
    "collapsed": false,
    "ExecuteTime": {
     "end_time": "2023-08-09T02:05:32.241277Z",
     "start_time": "2023-08-09T02:05:32.189079Z"
    }
   },
   "id": "55906b9c92cd7608"
  },
  {
   "cell_type": "code",
   "execution_count": 33,
   "outputs": [
    {
     "data": {
      "text/plain": "'Experience:\\n\\nEstimating Engineer, Camden Mechanical (MWBE), Jul 2014 - Nov 2016 (2 years 5 months)\\n\\n- Interpreted blueprints and formulated bid proposals for large-scale commercial projects.\\n- Communicated with contractors and vendors for Requests for Proposals (RFPs) and Request for Quotations (RFQs).\\n- Achieved competency in mechanical blueprint interpretation, bid formulation, and project lifecycle in half the time of the typical training pipeline, providing value to the company and team members.\\n- Developed and implemented Python software to automate routine tasks, increasing the productivity of a 2-man team threefold.\\n- Represented the company at a networking event, resulting in new contractor connections and bids for upcoming projects in the greater metropolitan area.\\n- Communicated effectively with lead contractors during onsite walkthroughs, leading to the successful awarding of a Rutgers Camden Lab renovation project.\\n\\nHeader 1: Experience\\nHeader 2: Estimating Engineer, Camden Mechanical (MWBE), Jul 2014 - Nov 2016 (2 years 5 months)'"
     },
     "execution_count": 33,
     "metadata": {},
     "output_type": "execute_result"
    }
   ],
   "source": [
    "grammatical_chain.predict(section=splits[-3], job_desc=job_desc, job_title=job_title)\n"
   ],
   "metadata": {
    "collapsed": false,
    "ExecuteTime": {
     "end_time": "2023-08-09T02:06:39.997840Z",
     "start_time": "2023-08-09T02:06:29.102034Z"
    }
   },
   "id": "caa54c74bbb7a172"
  },
  {
   "cell_type": "code",
   "execution_count": null,
   "outputs": [],
   "source": [],
   "metadata": {
    "collapsed": false
   },
   "id": "32bbfe57cb866729"
  }
 ],
 "metadata": {
  "kernelspec": {
   "display_name": "Python 3",
   "language": "python",
   "name": "python3"
  },
  "language_info": {
   "codemirror_mode": {
    "name": "ipython",
    "version": 2
   },
   "file_extension": ".py",
   "mimetype": "text/x-python",
   "name": "python",
   "nbconvert_exporter": "python",
   "pygments_lexer": "ipython2",
   "version": "2.7.6"
  }
 },
 "nbformat": 4,
 "nbformat_minor": 5
}
