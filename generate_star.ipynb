{
 "cells": [
  {
   "cell_type": "markdown",
   "source": [
    "Let's evaluate the performance of `beef_chain()`. It's outputting oddly formatted statements that sound too matter-of-fact.\n",
    "\n",
    "The ideal would be to have a chain to generate STAR statements. "
   ],
   "metadata": {
    "collapsed": false
   },
   "id": "dac47780ab815fc1"
  },
  {
   "cell_type": "code",
   "execution_count": 1,
   "id": "initial_id",
   "metadata": {
    "collapsed": true,
    "ExecuteTime": {
     "end_time": "2023-08-23T02:47:44.280776Z",
     "start_time": "2023-08-23T02:47:44.253737Z"
    }
   },
   "outputs": [],
   "source": [
    "with open(\"job_desc.md\") as f:\n",
    "    description = f.read()\n",
    "with open(\"resume.md\") as f:\n",
    "    resume = f.read()\n",
    "title = 'django developer'\n"
   ]
  },
  {
   "cell_type": "code",
   "execution_count": 2,
   "outputs": [],
   "source": [
    "from slayer import Slayer\n"
   ],
   "metadata": {
    "collapsed": false,
    "ExecuteTime": {
     "end_time": "2023-08-23T02:47:47.361657Z",
     "start_time": "2023-08-23T02:47:44.377335Z"
    }
   },
   "id": "4e6230ca1c0c6bfd"
  },
  {
   "cell_type": "code",
   "execution_count": 3,
   "outputs": [],
   "source": [
    "slayer = Slayer(resume, description, title)\n"
   ],
   "metadata": {
    "collapsed": false,
    "ExecuteTime": {
     "end_time": "2023-08-23T02:48:24.853891Z",
     "start_time": "2023-08-23T02:47:52.558922Z"
    }
   },
   "id": "51629e73314f63"
  },
  {
   "cell_type": "code",
   "execution_count": 4,
   "outputs": [
    {
     "data": {
      "text/plain": "[Document(page_content='Responsible for maintaining electrical and instrument systems for 11 F-18E aircraft totaling $715 million. Additionally, responsible for final check and troubleshooting of aircraft before flight.  \\n- Assisted primary supervisor in management of maintenance programs leading to no hits on a major inspection.\\n- Expertly managed tool program of over $175,000 by training coworkers on expectations and proper procedures leading to no hits across 2 major and 3 routine inspections.\\n- Awarded for showing expertise and initiative for reinstalling an incorrectly installed part under stressful conditions.\\n- Lead and mentored a group of 3 individuals in flight deck operations and proper flight deck cleaning procedures as supervisor leading to no accidents and rejuvenating a stagnant work center.', metadata={'Header 1': 'Experience', 'Header 2': 'Aviation Electrician, US Navy, Aug 2020 - Present (2 years 11 months)'}),\n Document(page_content=\"Passionate about leveraging technology to drive business growth and revolutionize industries, Creation Consortium LLC is a pioneering venture for my side projects in web development, system design, and software development.  \\n- Upgraded the computer and network systems for a reputable veterinary clinic in Philadelphia.\\n- Developed automated trading system in Python using parallel processing, AWS, REST API's, and SQL\\n- Developed novel UI for viewing and editing and genetic content using React (javascript framework), Cascading Style Sheets (CSS), HTML, and Rust\\n- Developed low-level sensor logger and control system in Rust\", metadata={'Header 1': 'Experience', 'Header 2': 'Founder, Creation Consortium LLC, Apr 2019 - Present (4 years 3 months)'}),\n Document(page_content='Responsible for general cleaning of 3 to 4 facilities on a flexible schedule and a 1 - 2 person workcrew.  \\n- Dutiful cleaning of a high traffic facility lead to stellar reviews from client.\\n- Demonstrated attention to detail in refurnishing several dozen low-income apartments leading to more responsibility and autonomy.', metadata={'Header 1': 'Experience', 'Header 2': 'Facility Specialist, TruClean, Apr 2020 - Aug 2020 (5 months)'}),\n Document(page_content='Co-founder and primary developer for a crowd funding platform for Christian based ministries.  \\n- Accredited 501(c)3 non-profit tax status\\n- Researched and proposed corporate bylaws which were ratified by 5 board members.\\n- Conceived business strategy along with visionary founder which led to accepting 4 non-profits onto the platform.\\n- Developed and implemented a full-stack website and donation platform which withstood several attempts Denial of Service (DOS) attacks from overseas. Honed knowledge of AWS, docker, git, Linux DevOps, and semantic releases.\\n- Integrated low-level payment provider REST API tools to take advantage of extremely low cost transaction fees as compared to plug-and-play solutions (ie: PayPal, Square).', metadata={'Header 1': 'Experience', 'Header 2': 'Co-Founder, Love Our Neighbor Inc, Apr 2019 - May 2020 (1 year 2 months)'}),\n Document(page_content='Responsible for formulating bids on mechanical and plumbing contracts for commercial projects in the South Jersey, Philadelphia, and Boston, MA. Additionally, proposing revisions to blueprints to material cost and manpower.  \\n- Proposed and implemented a VB Script to allow a streamlined workflow between counterpart estimators and administrative assistants.', metadata={'Header 1': 'Experience', 'Header 2': 'Estimating Engineer, McCloskey Mechanical Contractors, Inc., Nov 2016 - May 2017 (7 months)'}),\n Document(page_content=\"Responsible for interpreting blueprints and formulating bid proposals for large scale commercial projects. Additionally responsible for communicating with contractors and vendors for Requests for Proposals (RFP's) and Request for Quotations (RFQ's).  \\n- Achieved competency in mechanical blueprint interpretation, bid formulation, and project lifecycle with half of the time of the typical training pipeline which provided value to the company and team members.\\n- Developed and implemented software in Python to assist with routine tasks which increased productivity of a 2 man team threefold.\\n- Represented the company at a networking event which opened the door to new contractors and bids for upcoming projects in the greater metropolitan area.\\n- Communicated with lead contractor during an onsite walkthrough which lead to successful awarding of a Rutgers Camden Lab renovation.\", metadata={'Header 1': 'Experience', 'Header 2': 'Estimating Engineer, Camden Mechanical (MWBE), Jul 2014 - Nov 2016 (2 years 5 months)'})]"
     },
     "execution_count": 4,
     "metadata": {},
     "output_type": "execute_result"
    }
   ],
   "source": [
    "slayer.experiences"
   ],
   "metadata": {
    "collapsed": false,
    "ExecuteTime": {
     "end_time": "2023-08-23T02:49:12.626989Z",
     "start_time": "2023-08-23T02:49:12.603762Z"
    }
   },
   "id": "9ea34f3f5fda3b76"
  },
  {
   "cell_type": "code",
   "execution_count": 33,
   "outputs": [],
   "source": [
    "from langchain.chains import LLMChain\n",
    "from langchain.chat_models import ChatOpenAI\n",
    "from langchain.prompts import PromptTemplate\n",
    "from langchain.output_parsers import PydanticOutputParser\n",
    "from summary import Stories\n",
    "\n",
    "def generate_star_chain() -> LLMChain:\n",
    "    parser = PydanticOutputParser(pydantic_object=Stories)\n",
    "    \n",
    "    prompt = PromptTemplate(template=\"\"\"\n",
    "    You will be given a job experience section from a resume. Your task is to convert extract as many achievement statements as possible using the STAR method.\n",
    "    \n",
    "    \n",
    "    The STAR method helps discuss how skills were used to achieve goals. STAR stands for Situation, Task, Action, Result.\n",
    "     It uses brief examples that give a fuller picture of competencies.\n",
    "    An achievement statement describes how well a task was performed. In developing STAR statements, emphasize where job requirements were exceeded to help stand out.\n",
    "    In a STAR statement, most of the content is from the Action and Result sections. The statement began with a powerful action verb and used numbers to quantify the accomplishment, but should not exaggerate.\n",
    "    \n",
    "    \n",
    "    This is an example of a STAR statement:\n",
    "    'Developed and applied a comprehensive document tracking system, ensuring that 100% of 5,500 promotion packages were updated, correct, and completed ahead of the Promotion Board deadline.'\n",
    "    \n",
    "    \n",
    "    Here is the job experience section:\n",
    "    `{section}`\n",
    "    \n",
    "    \n",
    "    The response should be a statement, and not S, T, A, R.\n",
    "    \n",
    "    \"\"\",\n",
    "                            input_variables=['section'],)\n",
    "                            #partial_variables={'format_instructions': parser.get_format_instructions()})\n",
    "    return LLMChain(prompt=prompt, llm=ChatOpenAI(temperature=0.2, model_name='gpt-3.5-turbo'))#, output_parser=parser, output_key='star')"
   ],
   "metadata": {
    "collapsed": false,
    "ExecuteTime": {
     "end_time": "2023-08-23T03:20:51.759790Z",
     "start_time": "2023-08-23T03:20:51.746734Z"
    }
   },
   "id": "33ac2f73007a370d"
  },
  {
   "cell_type": "code",
   "execution_count": 34,
   "outputs": [],
   "source": [
    "generate_star_statements = generate_star_chain()"
   ],
   "metadata": {
    "collapsed": false,
    "ExecuteTime": {
     "end_time": "2023-08-23T03:20:51.898442Z",
     "start_time": "2023-08-23T03:20:51.886548Z"
    }
   },
   "id": "852908d9dc027d7e"
  },
  {
   "cell_type": "code",
   "execution_count": 37,
   "outputs": [
    {
     "data": {
      "text/plain": "{'section': 'Responsible for general cleaning of 3 to 4 facilities on a flexible schedule and a 1 - 2 person workcrew.  \\n- Dutiful cleaning of a high traffic facility lead to stellar reviews from client.\\n- Demonstrated attention to detail in refurnishing several dozen low-income apartments leading to more responsibility and autonomy.',\n 'text': '- Implemented a comprehensive cleaning plan for 3 to 4 facilities, resulting in stellar reviews from the client for the cleanliness of the facilities.\\n- Showed exceptional attention to detail in refurnishing several dozen low-income apartments, leading to increased responsibility and autonomy in the role.'}"
     },
     "execution_count": 37,
     "metadata": {},
     "output_type": "execute_result"
    }
   ],
   "source": [
    "generate_star_statements({'section': slayer.experiences[2].page_content})"
   ],
   "metadata": {
    "collapsed": false,
    "ExecuteTime": {
     "end_time": "2023-08-23T03:23:23.040613Z",
     "start_time": "2023-08-23T03:23:21.381051Z"
    }
   },
   "id": "609a24ce27dfba00"
  },
  {
   "cell_type": "code",
   "execution_count": 35,
   "outputs": [],
   "source": [],
   "metadata": {
    "collapsed": false,
    "ExecuteTime": {
     "end_time": "2023-08-23T03:20:55.760661Z",
     "start_time": "2023-08-23T03:20:55.752571Z"
    }
   },
   "id": "d78d2d838adc1e70"
  },
  {
   "cell_type": "code",
   "execution_count": null,
   "outputs": [],
   "source": [],
   "metadata": {
    "collapsed": false
   },
   "id": "4b24a365019c6e0c"
  }
 ],
 "metadata": {
  "kernelspec": {
   "display_name": "Python 3",
   "language": "python",
   "name": "python3"
  },
  "language_info": {
   "codemirror_mode": {
    "name": "ipython",
    "version": 2
   },
   "file_extension": ".py",
   "mimetype": "text/x-python",
   "name": "python",
   "nbconvert_exporter": "python",
   "pygments_lexer": "ipython2",
   "version": "2.7.6"
  }
 },
 "nbformat": 4,
 "nbformat_minor": 5
}
