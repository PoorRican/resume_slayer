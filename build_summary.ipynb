{
 "cells": [
  {
   "cell_type": "markdown",
   "source": [
    "This notebook is dedicated to improving, or building a brand new summary section."
   ],
   "metadata": {
    "collapsed": false
   },
   "id": "e1d6d0b72d7e7665"
  },
  {
   "cell_type": "code",
   "execution_count": 1,
   "outputs": [],
   "source": [
    "with open(\"job_desc.md\") as f:\n",
    "    description = f.read()\n",
    "with open(\"resume.md\") as f:\n",
    "    resume = f.read()\n",
    "title = 'django developer'"
   ],
   "metadata": {
    "collapsed": false,
    "ExecuteTime": {
     "end_time": "2023-08-22T04:03:58.169071Z",
     "start_time": "2023-08-22T04:03:57.947849Z"
    }
   },
   "id": "10b9037bfe73a7f8"
  },
  {
   "cell_type": "code",
   "execution_count": 2,
   "outputs": [],
   "source": [
    "from util import chunk_markdown, cut_sections"
   ],
   "metadata": {
    "collapsed": false,
    "ExecuteTime": {
     "end_time": "2023-08-22T04:04:00.692381Z",
     "start_time": "2023-08-22T04:03:57.974106Z"
    }
   },
   "id": "50de6e4ab7020821"
  },
  {
   "cell_type": "code",
   "execution_count": 3,
   "outputs": [],
   "source": [
    "sections = cut_sections(resume)"
   ],
   "metadata": {
    "collapsed": false,
    "ExecuteTime": {
     "end_time": "2023-08-22T04:04:20.422930Z",
     "start_time": "2023-08-22T04:04:00.693848Z"
    }
   },
   "id": "ecb698c174008461"
  },
  {
   "cell_type": "code",
   "execution_count": 4,
   "outputs": [],
   "source": [
    "summary = sections['summary']"
   ],
   "metadata": {
    "collapsed": false,
    "ExecuteTime": {
     "end_time": "2023-08-22T04:04:20.448697Z",
     "start_time": "2023-08-22T04:04:20.427070Z"
    }
   },
   "id": "d7dba254e1647687"
  },
  {
   "cell_type": "markdown",
   "source": [
    "Two different independent chains will be built to improve summary sections:\n",
    "1. Take existing summary and tailor it for job description.\n",
    "2. Use the revised job experience section to extract demonstrations of required skills (from job description) as statements, statistics, or stories. The list of demonstrations will then undergo elimination, condensation, and ordering to build a summary section.\n",
    "\n",
    "Summary is built by default, in the event that the input document doesn't include a summary."
   ],
   "metadata": {
    "collapsed": false
   },
   "id": "830f6da5e98ecb3d"
  },
  {
   "cell_type": "markdown",
   "source": [
    "## Improve existing summary section\n",
    "\n",
    "This assumes that the writer provided sufficient text in the existing summary and presented strong enough arguments.\n",
    " \n",
    "The role hallucination serves has not been verified. A certain degree of \"creativity\" is desired to truly reframe the existing content to retain appeal while conveying confidence and competence. However, the algorithm stating facts that aren't true to fit the job description is not desired."
   ],
   "metadata": {
    "collapsed": false
   },
   "id": "d540daecf637ef2f"
  },
  {
   "cell_type": "code",
   "execution_count": 5,
   "outputs": [],
   "source": [
    "\n",
    "from langchain import PromptTemplate, LLMChain\n",
    "from langchain.chat_models import ChatOpenAI\n",
    "from langchain.chains import SequentialChain\n",
    "\n",
    "\n",
    "def improve_summary_chain() -> SequentialChain:\n",
    "    llm = ChatOpenAI(temperature=.2, model_name=\"gpt-3.5-turbo\")\n",
    "\n",
    "    appeal_prompt = PromptTemplate.from_template(\"\"\"\n",
    "    You will be given a resume section. You will also be given a job description.\n",
    "    Improve the given resume section to be more appealing to a recruiter looking to fill the given job description.\n",
    "    The goal is to convey confidence and competence.\n",
    "    Return only the improved summary, with no header.\n",
    "    \n",
    "    Resume Section:\n",
    "    {section}\n",
    "    \n",
    "    Job Description:\n",
    "    {desc}\n",
    "    \"\"\")\n",
    "    appeal_chain = LLMChain(prompt=appeal_prompt, llm=llm, output_key=\"improved\")\n",
    "\n",
    "    summ_prompt = PromptTemplate.from_template(\"\"\"\n",
    "    Condense the following resume summary section using {format}.\n",
    "    The summary should remain appealing to a recruiter and be less than 260 characters.\n",
    "    \n",
    "    Resume section:\n",
    "    {improved}\n",
    "    \"\"\",\n",
    "                                               partial_variables={'format': 'a mix of bullets and 1 short paragraph'})\n",
    "    summ_chain = LLMChain(prompt=summ_prompt, llm=llm, output_key=\"summarized\")\n",
    "\n",
    "    return SequentialChain(\n",
    "        chains=[appeal_chain, summ_chain],\n",
    "        input_variables=[\"section\", \"desc\"],\n",
    "        output_variables=[\"summarized\"],\n",
    "    )"
   ],
   "metadata": {
    "collapsed": false,
    "ExecuteTime": {
     "end_time": "2023-08-22T04:04:20.459960Z",
     "start_time": "2023-08-22T04:04:20.446458Z"
    }
   },
   "id": "3cc009570f7d88e6"
  },
  {
   "cell_type": "code",
   "execution_count": 6,
   "id": "initial_id",
   "metadata": {
    "collapsed": true,
    "ExecuteTime": {
     "end_time": "2023-08-22T04:04:29.056704Z",
     "start_time": "2023-08-22T04:04:20.454104Z"
    }
   },
   "outputs": [
    {
     "data": {
      "text/plain": "{'section': {'section_name': 'resume summary',\n  'result': \"# Summary\\n- Over 6 combined years of experience maintaining complex systems. Over 10 years of Python programming experience. Developed clean and maintainable code for the last 4 years.\\n- Built projects involving Python, Rust, React, django/flask, and Angular for user interfaces (UI's), websites, automated trading systems, control system libraries, bioinformatic tools, and API wrappers.\\n- Experience with git/GitHub, AWS, Docker, HTML/CSS, RUST API's, and extensive testing.\"},\n 'desc': 'Vendelux (https://vendelux.com/) is the system of record for event marketing. Our software platform provides proprietary data that helps high-growth companies find the highest ROI events, conferences and trade shows to attend and sponsor. We have built a product that customers describe as an “event marketer’s dream” and are backed with venture capital funding and top-tier clients.\\n\\nWe are now hiring more engineers to help us build the best platform for Event Marketers. We are looking for a Django expert to build and maintain our core platform.\\n\\nThe Django Engineer’s role is a full-time, remote position. This role reports to our Head of Product & Engineering.\\n\\nResponsibilities\\n\\n- Be an important part of our multinational, agile software development team\\n- Implement high-quality solutions across multiple components of our platform\\n- Write well-structured and documented code\\n- Continuously update and expand our products\\n\\n\\nQualifications\\n\\n- 5+ years of experience building complex web applications using Python, Django, React, Snowflake or similar\\n- Hands-on experience designing software and breaking down complexity using software engineering principles\\n- Great team member who contributes to our culture and our business\\n - Takes ownership and demands excellence from themselves and others\\n- Likes a fast paced environment and is a quick learner\\n- Results-driven and can prioritize activities with the greatest impact\\n- Proven track record of excellence\\n- Working knowledge of English',\n 'format': '3 bullets and 1 sentence',\n 'summarized': \"- Over 6 years of experience maintaining complex systems and developing clean code\\n- 10+ years of Python programming experience\\n- Built projects using Python, React, and Django for UI's, websites, and API wrappers\\n- Familiarity with git/GitHub, AWS, Docker, HTML/CSS, and extensive testing\\n\\nHighly skilled engineer with a proven track record of excellence in maintaining complex systems and developing clean code. 10+ years of Python programming experience, building projects with Python, React, and Django for UI's, websites, and API wrappers. Familiar with git/GitHub, AWS, Docker, HTML/CSS, and extensive testing. Fluent in English and ready to contribute to your multinational, agile software development team.\"}"
     },
     "execution_count": 6,
     "metadata": {},
     "output_type": "execute_result"
    }
   ],
   "source": [
    "improve_summary_chain = improve_summary_chain()\n",
    "improve_summary_chain({'section': summary, 'desc': description, 'format': '3 bullets and 1 sentence'})\n"
   ]
  },
  {
   "cell_type": "markdown",
   "source": [
    "# Building a summary section from scratch\n",
    "\n",
    "Using the improved job history section, stories and distinguishing statements should be extracted from each job experience and added to an aggregate list of `snippets`. These stories and statements should make the summary appear unique, standout from typical candidates, and convey competence to a recruiter."
   ],
   "metadata": {
    "collapsed": false
   },
   "id": "b2bf47f4b0d94153"
  },
  {
   "cell_type": "markdown",
   "source": [
    "## Candidate Clauses\n",
    "- Extract \"stories\" from job experience\n",
    "- \"What's 3 things a recruiter should know about the candidate from this job experience?\""
   ],
   "metadata": {
    "collapsed": false
   },
   "id": "d40b002485b2ab5e"
  },
  {
   "cell_type": "markdown",
   "source": [
    "## Preparing Data"
   ],
   "metadata": {
    "collapsed": false
   },
   "id": "40d839614de340e4"
  },
  {
   "cell_type": "markdown",
   "source": [
    "### Prepare skills"
   ],
   "metadata": {
    "collapsed": false
   },
   "id": "9215de04be1a65ef"
  },
  {
   "cell_type": "code",
   "execution_count": 7,
   "outputs": [
    {
     "data": {
      "text/plain": "['Python',\n 'Django',\n 'React',\n 'Snowflake',\n 'Software Engineering',\n 'Agile Software Development',\n 'Web Application Development',\n 'Code Documentation',\n 'Teamwork',\n 'Fast Learner',\n 'Results-driven']"
     },
     "execution_count": 7,
     "metadata": {},
     "output_type": "execute_result"
    }
   ],
   "source": [
    "from util import job_requirement_chain\n",
    "_req_chain = job_requirement_chain()\n",
    "skills = _req_chain({'desc': description})\n",
    "\n",
    "# TODO: simplify API for extracting skills\n",
    "skills = skills['requirements'].skills\n",
    "skills"
   ],
   "metadata": {
    "collapsed": false,
    "ExecuteTime": {
     "end_time": "2023-08-22T04:04:30.103727Z",
     "start_time": "2023-08-22T04:04:29.062439Z"
    }
   },
   "id": "6a1a16a36bf9cd78"
  },
  {
   "cell_type": "markdown",
   "source": [
    "### Separate job experience sections"
   ],
   "metadata": {
    "collapsed": false
   },
   "id": "926437879f4fca81"
  },
  {
   "cell_type": "code",
   "execution_count": 8,
   "outputs": [
    {
     "data": {
      "text/plain": "[Document(page_content='Responsible for maintaining electrical and instrument systems for 11 F-18E aircraft totaling $715 million. Additionally, responsible for final check and troubleshooting of aircraft before flight.  \\n- Assisted primary supervisor in management of maintenance programs leading to no hits on a major inspection.\\n- Expertly managed tool program of over $175,000 by training coworkers on expectations and proper procedures leading to no hits across 2 major and 3 routine inspections.\\n- Awarded for showing expertise and initiative for reinstalling an incorrectly installed part under stressful conditions.\\n- Lead and mentored a group of 3 individuals in flight deck operations and proper flight deck cleaning procedures as supervisor leading to no accidents and rejuvenating a stagnant work center.', metadata={'Header 1': 'Experience', 'Header 2': 'Aviation Electrician, US Navy, Aug 2020 - Present (2 years 11 months)'}),\n Document(page_content=\"Passionate about leveraging technology to drive business growth and revolutionize industries, Creation Consortium LLC is a pioneering venture for my side projects in web development, system design, and software development.  \\n- Upgraded the computer and network systems for a reputable veterinary clinic in Philadelphia.\\n- Developed automated trading system in Python using parallel processing, AWS, REST API's, and SQL\\n- Developed novel UI for viewing and editing and genetic content using React (javascript framework), Cascading Style Sheets (CSS), HTML, and Rust\\n- Developed low-level sensor logger and control system in Rust\", metadata={'Header 1': 'Experience', 'Header 2': 'Founder, Creation Consortium LLC, Apr 2019 - Present (4 years 3 months)'}),\n Document(page_content='Responsible for general cleaning of 3 to 4 facilities on a flexible schedule and a 1 - 2 person workcrew.  \\n- Dutiful cleaning of a high traffic facility lead to stellar reviews from client.\\n- Demonstrated attention to detail in refurnishing several dozen low-income apartments leading to more responsibility and autonomy.', metadata={'Header 1': 'Experience', 'Header 2': 'Facility Specialist, TruClean, Apr 2020 - Aug 2020 (5 months)'}),\n Document(page_content='Co-founder and primary developer for a crowd funding platform for Christian based ministries.  \\n- Accredited 501(c)3 non-profit tax status\\n- Researched and proposed corporate bylaws which were ratified by 5 board members.\\n- Conceived business strategy along with visionary founder which led to accepting 4 non-profits onto the platform.\\n- Developed and implemented a full-stack website and donation platform which withstood several attempts Denial of Service (DOS) attacks from overseas. Honed knowledge of AWS, docker, git, Linux DevOps, and semantic releases.\\n- Integrated low-level payment provider REST API tools to take advantage of extremely low cost transaction fees as compared to plug-and-play solutions (ie: PayPal, Square).', metadata={'Header 1': 'Experience', 'Header 2': 'Co-Founder, Love Our Neighbor Inc, Apr 2019 - May 2020 (1 year 2 months)'}),\n Document(page_content='Responsible for formulating bids on mechanical and plumbing contracts for commercial projects in the South Jersey, Philadelphia, and Boston, MA. Additionally, proposing revisions to blueprints to material cost and manpower.  \\n- Proposed and implemented a VB Script to allow a streamlined workflow between counterpart estimators and administrative assistants.', metadata={'Header 1': 'Experience', 'Header 2': 'Estimating Engineer, McCloskey Mechanical Contractors, Inc., Nov 2016 - May 2017 (7 months)'}),\n Document(page_content=\"Responsible for interpreting blueprints and formulating bid proposals for large scale commercial projects. Additionally responsible for communicating with contractors and vendors for Requests for Proposals (RFP's) and Request for Quotations (RFQ's).  \\n- Achieved competency in mechanical blueprint interpretation, bid formulation, and project lifecycle with half of the time of the typical training pipeline which provided value to the company and team members.\\n- Developed and implemented software in Python to assist with routine tasks which increased productivity of a 2 man team threefold.\\n- Represented the company at a networking event which opened the door to new contractors and bids for upcoming projects in the greater metropolitan area.\\n- Communicated with lead contractor during an onsite walkthrough which lead to successful awarding of a Rutgers Camden Lab renovation.\", metadata={'Header 1': 'Experience', 'Header 2': 'Estimating Engineer, Camden Mechanical (MWBE), Jul 2014 - Nov 2016 (2 years 5 months)'})]"
     },
     "execution_count": 8,
     "metadata": {},
     "output_type": "execute_result"
    }
   ],
   "source": [
    "experiences = chunk_markdown(sections['history']['result'])\n",
    "experiences"
   ],
   "metadata": {
    "collapsed": false,
    "ExecuteTime": {
     "end_time": "2023-08-22T04:04:30.113083Z",
     "start_time": "2023-08-22T04:04:30.107718Z"
    }
   },
   "id": "b2a5ad7111c3ea91"
  },
  {
   "cell_type": "markdown",
   "source": [
    "## Extract \"stories\"\n",
    "\n",
    "This chain extracts stories from a job experience section that exemplifies the given attribute."
   ],
   "metadata": {
    "collapsed": false
   },
   "id": "f3d014cd819368b3"
  },
  {
   "cell_type": "code",
   "execution_count": 9,
   "outputs": [],
   "source": [
    "from pydantic import BaseModel\n",
    "from typing import List\n",
    "\n",
    "class Stories(BaseModel):\n",
    "    stories: List[str] = []"
   ],
   "metadata": {
    "collapsed": false,
    "ExecuteTime": {
     "end_time": "2023-08-22T04:04:30.132984Z",
     "start_time": "2023-08-22T04:04:30.112562Z"
    }
   },
   "id": "dc822402fb4f275d"
  },
  {
   "cell_type": "markdown",
   "source": [],
   "metadata": {
    "collapsed": false
   },
   "id": "49187e8c29475c47"
  },
  {
   "cell_type": "code",
   "execution_count": 12,
   "outputs": [],
   "source": [
    "from langchain.output_parsers import PydanticOutputParser\n",
    "\n",
    "def extract_stories_chain() -> LLMChain:\n",
    "    parser = PydanticOutputParser(pydantic_object=Stories)\n",
    "    _format_instructions = parser.get_format_instructions()\n",
    "    \n",
    "    prompt = PromptTemplate(\n",
    "        template=\"\"\"\n",
    "        Extract {artifacts} from the following resume experience section that demonstrate {attribute}.\n",
    "        \n",
    "        Respond with 'None' for Python if there are no relevant {artifacts} to {attribute}.\n",
    "        \n",
    "        Here is the resume section (surrounded by ``):\n",
    "        \n",
    "        `{section}`\n",
    "        \n",
    "        {format_instructions}\n",
    "        \"\"\",\n",
    "        input_variables=[\"attribute\", \"section\"],\n",
    "        partial_variables={\n",
    "            'format_instructions': _format_instructions,\n",
    "            'artifacts': 'stories',\n",
    "        })\n",
    "    \n",
    "    return LLMChain(llm=ChatOpenAI(temperature=.2, model_name=\"gpt-3.5-turbo\"),\n",
    "                    output_key='stories',\n",
    "                    prompt=prompt,\n",
    "                    output_parser=parser)"
   ],
   "metadata": {
    "collapsed": false,
    "ExecuteTime": {
     "end_time": "2023-08-22T04:04:41.606804Z",
     "start_time": "2023-08-22T04:04:41.590641Z"
    }
   },
   "id": "12b76bdd96854a"
  },
  {
   "cell_type": "code",
   "execution_count": 13,
   "outputs": [],
   "source": [
    "stories_chain = extract_stories_chain()"
   ],
   "metadata": {
    "collapsed": false,
    "ExecuteTime": {
     "end_time": "2023-08-22T04:04:42.790979Z",
     "start_time": "2023-08-22T04:04:42.775250Z"
    }
   },
   "id": "9bdb0f951fe7f8ff"
  },
  {
   "cell_type": "code",
   "execution_count": 14,
   "outputs": [
    {
     "data": {
      "text/plain": "{'section': Document(page_content='Responsible for maintaining electrical and instrument systems for 11 F-18E aircraft totaling $715 million. Additionally, responsible for final check and troubleshooting of aircraft before flight.  \\n- Assisted primary supervisor in management of maintenance programs leading to no hits on a major inspection.\\n- Expertly managed tool program of over $175,000 by training coworkers on expectations and proper procedures leading to no hits across 2 major and 3 routine inspections.\\n- Awarded for showing expertise and initiative for reinstalling an incorrectly installed part under stressful conditions.\\n- Lead and mentored a group of 3 individuals in flight deck operations and proper flight deck cleaning procedures as supervisor leading to no accidents and rejuvenating a stagnant work center.', metadata={'Header 1': 'Experience', 'Header 2': 'Aviation Electrician, US Navy, Aug 2020 - Present (2 years 11 months)'}),\n 'desc': 'Vendelux (https://vendelux.com/) is the system of record for event marketing. Our software platform provides proprietary data that helps high-growth companies find the highest ROI events, conferences and trade shows to attend and sponsor. We have built a product that customers describe as an “event marketer’s dream” and are backed with venture capital funding and top-tier clients.\\n\\nWe are now hiring more engineers to help us build the best platform for Event Marketers. We are looking for a Django expert to build and maintain our core platform.\\n\\nThe Django Engineer’s role is a full-time, remote position. This role reports to our Head of Product & Engineering.\\n\\nResponsibilities\\n\\n- Be an important part of our multinational, agile software development team\\n- Implement high-quality solutions across multiple components of our platform\\n- Write well-structured and documented code\\n- Continuously update and expand our products\\n\\n\\nQualifications\\n\\n- 5+ years of experience building complex web applications using Python, Django, React, Snowflake or similar\\n- Hands-on experience designing software and breaking down complexity using software engineering principles\\n- Great team member who contributes to our culture and our business\\n - Takes ownership and demands excellence from themselves and others\\n- Likes a fast paced environment and is a quick learner\\n- Results-driven and can prioritize activities with the greatest impact\\n- Proven track record of excellence\\n- Working knowledge of English',\n 'attribute': 'Python',\n 'stories': Stories(stories=['None'])}"
     },
     "execution_count": 14,
     "metadata": {},
     "output_type": "execute_result"
    }
   ],
   "source": [
    "stories_chain({'section': experiences[0], 'desc': description, 'attribute': skills[0]})\n"
   ],
   "metadata": {
    "collapsed": false,
    "ExecuteTime": {
     "end_time": "2023-08-22T04:04:44.339556Z",
     "start_time": "2023-08-22T04:04:43.633366Z"
    }
   },
   "id": "1203286c0b939544"
  },
  {
   "cell_type": "code",
   "execution_count": null,
   "outputs": [],
   "source": [
    "stories_chain({'section': experiences[0], 'artifacts': 'stories', 'desc': description, 'attribute': skills[8]})"
   ],
   "metadata": {
    "collapsed": false,
    "ExecuteTime": {
     "end_time": "2023-08-22T04:04:30.466483Z",
     "start_time": "2023-08-22T04:04:30.464616Z"
    }
   },
   "id": "1edd75a018d8c335"
  },
  {
   "cell_type": "markdown",
   "source": [
    "\n",
    "Extract relevant skills so that we do not need to iterate through the entire list.\n"
   ],
   "metadata": {
    "collapsed": false
   },
   "id": "f2351c0632725218"
  },
  {
   "cell_type": "code",
   "execution_count": 16,
   "outputs": [
    {
     "data": {
      "text/plain": "{'section': Document(page_content='Responsible for maintaining electrical and instrument systems for 11 F-18E aircraft totaling $715 million. Additionally, responsible for final check and troubleshooting of aircraft before flight.  \\n- Assisted primary supervisor in management of maintenance programs leading to no hits on a major inspection.\\n- Expertly managed tool program of over $175,000 by training coworkers on expectations and proper procedures leading to no hits across 2 major and 3 routine inspections.\\n- Awarded for showing expertise and initiative for reinstalling an incorrectly installed part under stressful conditions.\\n- Lead and mentored a group of 3 individuals in flight deck operations and proper flight deck cleaning procedures as supervisor leading to no accidents and rejuvenating a stagnant work center.', metadata={'Header 1': 'Experience', 'Header 2': 'Aviation Electrician, US Navy, Aug 2020 - Present (2 years 11 months)'}),\n 'requirements': ['Python',\n  'Django',\n  'React',\n  'Snowflake',\n  'Software Engineering',\n  'Agile Software Development',\n  'Web Application Development',\n  'Code Documentation',\n  'Teamwork',\n  'Fast Learner',\n  'Results-driven'],\n 'count': '5',\n 'skills': ['Results-driven', 'Teamwork', 'Fast Learner']}"
     },
     "execution_count": 16,
     "metadata": {},
     "output_type": "execute_result"
    }
   ],
   "source": [
    "from util import relevant_skills_chain\n",
    "\n",
    "skills_chain = relevant_skills_chain()\n",
    "skills_chain({'section': experiences[0], 'requirements': skills})"
   ],
   "metadata": {
    "collapsed": false,
    "ExecuteTime": {
     "end_time": "2023-08-22T04:06:21.486994Z",
     "start_time": "2023-08-22T04:06:21.036340Z"
    }
   },
   "id": "ed4bf42e6c054151"
  },
  {
   "cell_type": "markdown",
   "source": [
    "## \"What's 3 things a recruiter should know about the candidate from this job experience?\" "
   ],
   "metadata": {
    "collapsed": false
   },
   "id": "9ef5b6a3cdb3b2e8"
  },
  {
   "cell_type": "code",
   "execution_count": 18,
   "outputs": [],
   "source": [
    "from langchain.output_parsers import CommaSeparatedListOutputParser\n",
    "\n",
    "def extract_three_things_chain() -> LLMChain:\n",
    "    \"\"\" Accepts job experience, returns list of three things recruiter should know about this job experience. \"\"\"\n",
    "    parser = CommaSeparatedListOutputParser()\n",
    "    format_instructions = parser.get_format_instructions()\n",
    "    \n",
    "    prompt = PromptTemplate(template=\"\"\"\n",
    "    What are three things from the following job experience summary make this candidate stand out from the crowd to a job recruiter.\n",
    "    \n",
    "    Here is the job experience summary (surrounded by ``):\n",
    "    `{section}`\n",
    "    \n",
    "    \n",
    "    {format_instructions}\n",
    "    \"\"\",\n",
    "                            input_variables=[\"section\"],\n",
    "                            partial_variables={'format_instructions': format_instructions}\n",
    "    )\n",
    "\n",
    "    llm = ChatOpenAI(temperature=.4, model_name='gpt-3.5-turbo')\n",
    "    return LLMChain(llm=llm, output_parser=parser, prompt=prompt, output_key='three_things')"
   ],
   "metadata": {
    "collapsed": false,
    "ExecuteTime": {
     "end_time": "2023-08-22T04:10:07.319080Z",
     "start_time": "2023-08-22T04:10:07.303592Z"
    }
   },
   "id": "60aca726bef0466c"
  },
  {
   "cell_type": "code",
   "execution_count": 20,
   "outputs": [],
   "source": [
    "three_things_chain = extract_three_things_chain()"
   ],
   "metadata": {
    "collapsed": false,
    "ExecuteTime": {
     "end_time": "2023-08-22T04:10:20.613916Z",
     "start_time": "2023-08-22T04:10:20.598271Z"
    }
   },
   "id": "dc06c31a57605845"
  },
  {
   "cell_type": "code",
   "execution_count": null,
   "outputs": [],
   "source": [
    "three_things_chain({'section': experiences[0]})"
   ],
   "metadata": {
    "collapsed": false
   },
   "id": "ffdae665422c32bb"
  },
  {
   "cell_type": "markdown",
   "source": [
    "## Generate all candidate snippets"
   ],
   "metadata": {
    "collapsed": false
   },
   "id": "4e223ee986780e9f"
  },
  {
   "cell_type": "code",
   "execution_count": 21,
   "outputs": [],
   "source": [
    "snippets = []\n",
    "for experience in experiences:\n",
    "    _three_things = three_things_chain({'section': experience})['three_things']\n",
    "    snippets.extend(_three_things)\n",
    "    \n",
    "    # filter relevant skills to conserve usage\n",
    "    relevant_skills = skills_chain({'section': experience, 'requirements': skills})['skills']\n",
    "    for skill in relevant_skills:\n",
    "        _stories = stories_chain({'section': experience, 'desc': description, 'attribute': skill})\n",
    "        snippets.extend(_stories['stories'].stories)\n"
   ],
   "metadata": {
    "collapsed": false,
    "ExecuteTime": {
     "end_time": "2023-08-22T04:11:03.617844Z",
     "start_time": "2023-08-22T04:10:22.304563Z"
    }
   },
   "id": "13cef04b550bf82"
  },
  {
   "cell_type": "markdown",
   "source": [
    "This should be implemented using async operations to speed up completion time."
   ],
   "metadata": {
    "collapsed": false
   },
   "id": "44a80773dc6170cb"
  },
  {
   "cell_type": "markdown",
   "source": [
    "### Filter clauses"
   ],
   "metadata": {
    "collapsed": false
   },
   "id": "76dc98ba5a687569"
  },
  {
   "cell_type": "code",
   "execution_count": 27,
   "outputs": [
    {
     "data": {
      "text/plain": "{'- Accredited 501(c)3 non-profit tax status\\n- Developed and implemented a full-stack website and donation platform which withstood several attempts Denial of Service (DOS) attacks from overseas\\n- Integrated low-level payment provider REST API tools to take advantage of extremely low cost transaction fees as compared to plug-and-play solutions (ie: PayPal',\n 'Achieved competency in mechanical blueprint interpretation, bid formulation, and project lifecycle with half of the time of the typical training pipeline which provided value to the company and team members.',\n 'Assisted primary supervisor in management of maintenance programs leading to no hits on a major inspection.',\n 'Awarded for showing expertise and initiative for reinstalling an incorrectly installed part under stressful conditions.',\n 'Communicated with lead contractor during an onsite walkthrough which lead to successful awarding of a Rutgers Camden Lab renovation.',\n 'Communicated with lead contractor to secure a renovation project.',\n 'Conceived business strategy along with visionary founder which led to accepting 4 non-profits onto the platform.',\n 'Demonstrated attention to detail in refurnishing several dozen low-income apartments leading to more responsibility and autonomy.',\n 'Developed and implemented a full-stack website and donation platform which withstood several attempts Denial of Service (DOS) attacks from overseas.',\n 'Developed and implemented a full-stack website and donation platform which withstood several attempts Denial of Service (DOS) attacks from overseas. Honed knowledge of AWS, docker, git, Linux DevOps, and semantic releases.',\n 'Developed and implemented software in Python to assist with routine tasks which increased productivity of a 2 man team threefold.',\n 'Developed and implemented software in Python to increase productivity',\n 'Developed automated trading system in Python',\n \"Developed automated trading system in Python using parallel processing, AWS, REST API's, and SQL\",\n 'Developed low-level sensor logger and control system in Rust',\n 'Developed novel UI for viewing and editing and genetic content using React (javascript framework), Cascading Style Sheets (CSS), HTML, and Rust',\n 'Dutiful cleaning of a high traffic facility lead to stellar reviews from client.',\n 'Expertly managed tool program',\n 'Expertly managed tool program of over $175,000 by training coworkers on expectations and proper procedures leading to no hits across 2 major and 3 routine inspections.',\n 'Integrated low-level payment provider REST API tools to take advantage of extremely low cost transaction fees as compared to plug-and-play solutions (ie: PayPal, Square).',\n 'Lead and mentored a group of 3 individuals',\n 'Lead and mentored a group of 3 individuals in flight deck operations and proper flight deck cleaning procedures as supervisor leading to no accidents and rejuvenating a stagnant work center.',\n 'Proposed and implemented a VB Script to allow a streamlined workflow between counterpart estimators and administrative assistants.',\n 'Reinstalling an incorrectly installed part under stressful conditions',\n 'Represented the company at a networking event to establish new connections',\n 'Represented the company at a networking event which opened the door to new contractors and bids for upcoming projects in the greater metropolitan area.',\n 'Researched and proposed corporate bylaws which were ratified by 5 board members.',\n 'Responsible for general cleaning of 3 to 4 facilities on a flexible schedule and a 1 - 2 person workcrew.',\n 'Responsible for interpreting blueprints and formulating bid proposals for large scale commercial projects.',\n 'Square)',\n 'Upgraded computer and network systems',\n 'Upgraded the computer and network systems for a reputable veterinary clinic in Philadelphia.',\n 'attention to detail',\n 'autonomy',\n 'implemented VB Script',\n 'proposed revisions to blueprints',\n 'stellar reviews',\n 'streamlined workflow'}"
     },
     "execution_count": 27,
     "metadata": {},
     "output_type": "execute_result"
    }
   ],
   "source": [
    "snippets = set(snippets)\n",
    "snippets"
   ],
   "metadata": {
    "collapsed": false,
    "ExecuteTime": {
     "end_time": "2023-08-22T04:16:26.161063Z",
     "start_time": "2023-08-22T04:16:26.133139Z"
    }
   },
   "id": "6a0daa26207d9d56"
  },
  {
   "cell_type": "code",
   "execution_count": 23,
   "outputs": [],
   "source": [
    "def generate_summary_chain() -> SequentialChain:\n",
    "    \"\"\" Chain that generates resume summary from candidate clauses \"\"\"\n",
    "    llm = ChatOpenAI(temperature=0.4, model_name=\"gpt-3.5-turbo\")\n",
    "    \n",
    "    # Narrow down candidate clauses\n",
    "    top_snippets_prompt = PromptTemplate.from_template(\"\"\"\n",
    "    We will be filtering a list of bullet points.\n",
    "    Out of the bullets, select the top 10 that will make the candidate stand out for the given job description.\n",
    "    \n",
    "    The returned bullets should reflect the original content, and not be an excerpt from the job description.\n",
    "    Also, Return the top snippets as bullet points.\n",
    "    \n",
    "    This is the job description (surrounded by ``):\n",
    "    `{desc}`\n",
    "    \n",
    "    This is the list of candidate snippets (surrounded by ``):\n",
    "    `{snippets}`\n",
    "    \"\"\")\n",
    "    top_snippets_chain = LLMChain(prompt=top_snippets_prompt, llm=llm, output_key='refined_snippets')\n",
    "    \n",
    "    summary_prompt = PromptTemplate.from_template(\"\"\"\n",
    "    Using the given snippets, generate a brief resume summary as bullet points.\n",
    "    \n",
    "    Here is a list of snippets (surrounded by ``):\n",
    "    `{refined_snippets}`\n",
    "    \"\"\")\n",
    "    summary_chain = LLMChain(prompt=summary_prompt, llm=llm, output_key='summary_overview')\n",
    "    \n",
    "    refine_prompt = PromptTemplate.from_template(\"\"\"\n",
    "    Refine the given list of bullet points to 3-5 main points so that it stands out to someone reading the given job description.\n",
    "    \n",
    "    Here is a list of bullet points (surrounded by ``):\n",
    "    `{summary_overview}`\n",
    "    \n",
    "    Here is the job description (surrounded by ``):\n",
    "    `{desc}`\n",
    "    \"\"\")\n",
    "    refine_chain = LLMChain(prompt=refine_prompt, llm=llm, output_key='refined_overview')\n",
    "    \n",
    "    return SequentialChain(chains=[top_snippets_chain, summary_chain, refine_chain],\n",
    "                           input_variables=['desc', 'snippets'],\n",
    "                           output_variables=['refined_overview'])"
   ],
   "metadata": {
    "collapsed": false,
    "ExecuteTime": {
     "end_time": "2023-08-22T04:16:06.086268Z",
     "start_time": "2023-08-22T04:16:06.072630Z"
    }
   },
   "id": "756c51b65921ac62"
  },
  {
   "cell_type": "code",
   "execution_count": 24,
   "outputs": [],
   "source": [
    "_generate_summary_chain = generate_summary_chain()"
   ],
   "metadata": {
    "collapsed": false,
    "ExecuteTime": {
     "end_time": "2023-08-22T04:16:07.009965Z",
     "start_time": "2023-08-22T04:16:07.005063Z"
    }
   },
   "id": "35795786c92a0349"
  },
  {
   "cell_type": "code",
   "execution_count": 28,
   "outputs": [
    {
     "data": {
      "text/plain": "{'desc': 'Vendelux (https://vendelux.com/) is the system of record for event marketing. Our software platform provides proprietary data that helps high-growth companies find the highest ROI events, conferences and trade shows to attend and sponsor. We have built a product that customers describe as an “event marketer’s dream” and are backed with venture capital funding and top-tier clients.\\n\\nWe are now hiring more engineers to help us build the best platform for Event Marketers. We are looking for a Django expert to build and maintain our core platform.\\n\\nThe Django Engineer’s role is a full-time, remote position. This role reports to our Head of Product & Engineering.\\n\\nResponsibilities\\n\\n- Be an important part of our multinational, agile software development team\\n- Implement high-quality solutions across multiple components of our platform\\n- Write well-structured and documented code\\n- Continuously update and expand our products\\n\\n\\nQualifications\\n\\n- 5+ years of experience building complex web applications using Python, Django, React, Snowflake or similar\\n- Hands-on experience designing software and breaking down complexity using software engineering principles\\n- Great team member who contributes to our culture and our business\\n - Takes ownership and demands excellence from themselves and others\\n- Likes a fast paced environment and is a quick learner\\n- Results-driven and can prioritize activities with the greatest impact\\n- Proven track record of excellence\\n- Working knowledge of English',\n 'snippets': {'- Accredited 501(c)3 non-profit tax status\\n- Developed and implemented a full-stack website and donation platform which withstood several attempts Denial of Service (DOS) attacks from overseas\\n- Integrated low-level payment provider REST API tools to take advantage of extremely low cost transaction fees as compared to plug-and-play solutions (ie: PayPal',\n  'Achieved competency in mechanical blueprint interpretation, bid formulation, and project lifecycle with half of the time of the typical training pipeline which provided value to the company and team members.',\n  'Assisted primary supervisor in management of maintenance programs leading to no hits on a major inspection.',\n  'Awarded for showing expertise and initiative for reinstalling an incorrectly installed part under stressful conditions.',\n  'Communicated with lead contractor during an onsite walkthrough which lead to successful awarding of a Rutgers Camden Lab renovation.',\n  'Communicated with lead contractor to secure a renovation project.',\n  'Conceived business strategy along with visionary founder which led to accepting 4 non-profits onto the platform.',\n  'Demonstrated attention to detail in refurnishing several dozen low-income apartments leading to more responsibility and autonomy.',\n  'Developed and implemented a full-stack website and donation platform which withstood several attempts Denial of Service (DOS) attacks from overseas.',\n  'Developed and implemented a full-stack website and donation platform which withstood several attempts Denial of Service (DOS) attacks from overseas. Honed knowledge of AWS, docker, git, Linux DevOps, and semantic releases.',\n  'Developed and implemented software in Python to assist with routine tasks which increased productivity of a 2 man team threefold.',\n  'Developed and implemented software in Python to increase productivity',\n  'Developed automated trading system in Python',\n  \"Developed automated trading system in Python using parallel processing, AWS, REST API's, and SQL\",\n  'Developed low-level sensor logger and control system in Rust',\n  'Developed novel UI for viewing and editing and genetic content using React (javascript framework), Cascading Style Sheets (CSS), HTML, and Rust',\n  'Dutiful cleaning of a high traffic facility lead to stellar reviews from client.',\n  'Expertly managed tool program',\n  'Expertly managed tool program of over $175,000 by training coworkers on expectations and proper procedures leading to no hits across 2 major and 3 routine inspections.',\n  'Integrated low-level payment provider REST API tools to take advantage of extremely low cost transaction fees as compared to plug-and-play solutions (ie: PayPal, Square).',\n  'Lead and mentored a group of 3 individuals',\n  'Lead and mentored a group of 3 individuals in flight deck operations and proper flight deck cleaning procedures as supervisor leading to no accidents and rejuvenating a stagnant work center.',\n  'Proposed and implemented a VB Script to allow a streamlined workflow between counterpart estimators and administrative assistants.',\n  'Reinstalling an incorrectly installed part under stressful conditions',\n  'Represented the company at a networking event to establish new connections',\n  'Represented the company at a networking event which opened the door to new contractors and bids for upcoming projects in the greater metropolitan area.',\n  'Researched and proposed corporate bylaws which were ratified by 5 board members.',\n  'Responsible for general cleaning of 3 to 4 facilities on a flexible schedule and a 1 - 2 person workcrew.',\n  'Responsible for interpreting blueprints and formulating bid proposals for large scale commercial projects.',\n  'Square)',\n  'Upgraded computer and network systems',\n  'Upgraded the computer and network systems for a reputable veterinary clinic in Philadelphia.',\n  'attention to detail',\n  'autonomy',\n  'implemented VB Script',\n  'proposed revisions to blueprints',\n  'stellar reviews',\n  'streamlined workflow'},\n 'refined_overview': '- Successfully supervised and mentored a team, resulting in zero accidents and revitalizing a stagnant work center.\\n- Upgraded computer and network systems to enhance efficiency.\\n- Collaborated with the founder to develop a business strategy that resulted in the acceptance of 4 non-profit organizations onto the platform.\\n- Created and implemented productivity-boosting software using Python.\\n- Implemented streamlined workflows to optimize productivity.'}"
     },
     "execution_count": 28,
     "metadata": {},
     "output_type": "execute_result"
    }
   ],
   "source": [
    "_generate_summary_chain({'desc': description, 'snippets': snippets})"
   ],
   "metadata": {
    "collapsed": false,
    "ExecuteTime": {
     "end_time": "2023-08-22T04:16:46.923401Z",
     "start_time": "2023-08-22T04:16:31.121867Z"
    }
   },
   "id": "55b049a256a3037e"
  },
  {
   "cell_type": "code",
   "execution_count": null,
   "outputs": [],
   "source": [],
   "metadata": {
    "collapsed": false
   },
   "id": "bdae285f80df062a"
  }
 ],
 "metadata": {
  "kernelspec": {
   "display_name": "Python 3",
   "language": "python",
   "name": "python3"
  },
  "language_info": {
   "codemirror_mode": {
    "name": "ipython",
    "version": 2
   },
   "file_extension": ".py",
   "mimetype": "text/x-python",
   "name": "python",
   "nbconvert_exporter": "python",
   "pygments_lexer": "ipython2",
   "version": "2.7.6"
  }
 },
 "nbformat": 4,
 "nbformat_minor": 5
}
