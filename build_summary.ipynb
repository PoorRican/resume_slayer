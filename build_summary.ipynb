{
 "cells": [
  {
   "cell_type": "markdown",
   "source": [
    "This notebook is dedicated to improving, or building a brand new summary section."
   ],
   "metadata": {
    "collapsed": false
   },
   "id": "e1d6d0b72d7e7665"
  },
  {
   "cell_type": "code",
   "execution_count": 2,
   "outputs": [],
   "source": [
    "with open(\"job_desc.md\") as f:\n",
    "    description = f.read()\n",
    "with open(\"resume.md\") as f:\n",
    "    resume = f.read()\n",
    "title = 'django developer'"
   ],
   "metadata": {
    "collapsed": false,
    "ExecuteTime": {
     "end_time": "2023-08-10T18:42:20.847470Z",
     "start_time": "2023-08-10T18:42:20.821517Z"
    }
   },
   "id": "10b9037bfe73a7f8"
  },
  {
   "cell_type": "code",
   "execution_count": 1,
   "outputs": [],
   "source": [
    "from util import chunk_markdown, cut_sections"
   ],
   "metadata": {
    "collapsed": false,
    "ExecuteTime": {
     "end_time": "2023-08-10T18:42:18.048686Z",
     "start_time": "2023-08-10T18:42:15.253470Z"
    }
   },
   "id": "50de6e4ab7020821"
  },
  {
   "cell_type": "code",
   "execution_count": 3,
   "outputs": [],
   "source": [
    "sections = cut_sections(resume)"
   ],
   "metadata": {
    "collapsed": false,
    "ExecuteTime": {
     "end_time": "2023-08-10T18:42:55.399085Z",
     "start_time": "2023-08-10T18:42:22.146868Z"
    }
   },
   "id": "ecb698c174008461"
  },
  {
   "cell_type": "code",
   "execution_count": 5,
   "outputs": [],
   "source": [
    "summary = sections['summary']"
   ],
   "metadata": {
    "collapsed": false,
    "ExecuteTime": {
     "end_time": "2023-08-10T18:47:33.549952Z",
     "start_time": "2023-08-10T18:47:33.456837Z"
    }
   },
   "id": "d7dba254e1647687"
  },
  {
   "cell_type": "markdown",
   "source": [
    "Two different independent chains will be built to improve summary sections:\n",
    "1. Take existing summary and tailor it for job description.\n",
    "2. Use the revised job experience section to extract demonstrations of required skills (from job description) as statements, statistics, or stories. The list of demonstrations will then undergo elimination, condensation, and ordering to build a summary section.\n",
    "\n",
    "Summary is built by default, in the event that the input document doesn't include a summary."
   ],
   "metadata": {
    "collapsed": false
   },
   "id": "830f6da5e98ecb3d"
  },
  {
   "cell_type": "markdown",
   "source": [
    "## Improve existing summary section\n",
    "\n",
    "This assumes that the writer provided sufficient text in the existing summary and presented strong enough arguments.\n",
    " \n",
    "The role hallucination serves has not been verified. A certain degree of \"creativity\" is desired to truly reframe the existing content to retain appeal while conveying confidence and competence. However, the algorithm stating facts that aren't true to fit the job description is not desired."
   ],
   "metadata": {
    "collapsed": false
   },
   "id": "d540daecf637ef2f"
  },
  {
   "cell_type": "code",
   "execution_count": 18,
   "outputs": [],
   "source": [
    "\n",
    "from langchain import PromptTemplate, LLMChain\n",
    "from langchain.chat_models import ChatOpenAI\n",
    "from langchain.chains import SequentialChain\n",
    "\n",
    "\n",
    "def improve_summary_chain() -> SequentialChain:\n",
    "    llm = ChatOpenAI(temperature=.2, model_name=\"gpt-3.5-turbo\")\n",
    "\n",
    "    appeal_prompt = PromptTemplate.from_template(\"\"\"\n",
    "    You will be given a resume section. You will also be given a job description.\n",
    "    Improve the given resume section to be more appealing to a recruiter looking to fill the given job description.\n",
    "    The goal is to convey confidence and competence.\n",
    "    Return only the improved summary, with no header.\n",
    "    \n",
    "    Resume Section:\n",
    "    {section}\n",
    "    \n",
    "    Job Description:\n",
    "    {desc}\n",
    "    \"\"\")\n",
    "    appeal_chain = LLMChain(prompt=appeal_prompt, llm=llm, output_key=\"improved\")\n",
    "\n",
    "    summ_prompt = PromptTemplate.from_template(\"\"\"\n",
    "    Condense the following resume summary section using {format}.\n",
    "    The summary should remain appealing to a recruiter and be less than 260 characters.\n",
    "    \n",
    "    Resume section:\n",
    "    {improved}\n",
    "    \"\"\",\n",
    "                                               partial_variables={'format': 'a mix of bullets and 1 short paragraph'})\n",
    "    summ_chain = LLMChain(prompt=summ_prompt, llm=llm, output_key=\"summarized\")\n",
    "\n",
    "    return SequentialChain(\n",
    "        chains=[appeal_chain, summ_chain],\n",
    "        input_variables=[\"section\", \"desc\"],\n",
    "        output_variables=[\"summarized\"],\n",
    "    )"
   ],
   "metadata": {
    "collapsed": false,
    "ExecuteTime": {
     "end_time": "2023-08-11T04:44:37.979812Z",
     "start_time": "2023-08-11T04:44:37.961845Z"
    }
   },
   "id": "3cc009570f7d88e6"
  },
  {
   "cell_type": "code",
   "execution_count": 19,
   "id": "initial_id",
   "metadata": {
    "collapsed": true,
    "ExecuteTime": {
     "end_time": "2023-08-11T04:44:52.491922Z",
     "start_time": "2023-08-11T04:44:38.423753Z"
    }
   },
   "outputs": [
    {
     "data": {
      "text/plain": "{'section': {'section_name': 'resume summary',\n  'result': \"# Summary\\n- Over 6 combined years of experience maintaining complex systems. Over 10 years of Python programming experience. Developed clean and maintainable code for the last 4 years.\\n- Built projects involving Python, Rust, React, django/flask, and Angular for user interfaces (UI's), websites, automated trading systems, control system libraries, bioinformatic tools, and API wrappers.\\n- Experience with git/GitHub, AWS, Docker, HTML/CSS, RUST API's, and extensive testing.\"},\n 'desc': 'Vendelux (https://vendelux.com/) is the system of record for event marketing. Our software platform provides proprietary data that helps high-growth companies find the highest ROI events, conferences and trade shows to attend and sponsor. We have built a product that customers describe as an “event marketer’s dream” and are backed with venture capital funding and top-tier clients.\\n\\nWe are now hiring more engineers to help us build the best platform for Event Marketers. We are looking for a Django expert to build and maintain our core platform.\\n\\nThe Django Engineer’s role is a full-time, remote position. This role reports to our Head of Product & Engineering.\\n\\nResponsibilities\\n\\n- Be an important part of our multinational, agile software development team\\n- Implement high-quality solutions across multiple components of our platform\\n- Write well-structured and documented code\\n- Continuously update and expand our products\\n\\n\\nQualifications\\n\\n- 5+ years of experience building complex web applications using Python, Django, React, Snowflake or similar\\n- Hands-on experience designing software and breaking down complexity using software engineering principles\\n- Great team member who contributes to our culture and our business\\n - Takes ownership and demands excellence from themselves and others\\n- Likes a fast paced environment and is a quick learner\\n- Results-driven and can prioritize activities with the greatest impact\\n- Proven track record of excellence\\n- Working knowledge of English',\n 'format': '3 bullets and 1 sentence',\n 'summarized': \"- Over 6 years of experience maintaining complex systems, including 4 years of developing clean and maintainable code\\n- Built projects using Python, React, and Django for UI's, websites, and API wrappers\\n- Experienced with git/GitHub, AWS, Docker, and extensive testing\\n\\nHighly skilled Django engineer with 6+ years of experience maintaining complex systems and developing clean code. Proficient in Python, React, and Django for UI's, websites, and API wrappers. Experienced with git/GitHub, AWS, Docker, and extensive testing.\"}"
     },
     "execution_count": 19,
     "metadata": {},
     "output_type": "execute_result"
    }
   ],
   "source": [
    "improve_summary_chain = improve_summary_chain()\n",
    "improve_summary_chain({'section': summary, 'desc': description, 'format': '3 bullets and 1 sentence'})\n"
   ]
  },
  {
   "cell_type": "code",
   "execution_count": null,
   "outputs": [],
   "source": [],
   "metadata": {
    "collapsed": false
   },
   "id": "135ea1d89109d254"
  }
 ],
 "metadata": {
  "kernelspec": {
   "display_name": "Python 3",
   "language": "python",
   "name": "python3"
  },
  "language_info": {
   "codemirror_mode": {
    "name": "ipython",
    "version": 2
   },
   "file_extension": ".py",
   "mimetype": "text/x-python",
   "name": "python",
   "nbconvert_exporter": "python",
   "pygments_lexer": "ipython2",
   "version": "2.7.6"
  }
 },
 "nbformat": 4,
 "nbformat_minor": 5
}
