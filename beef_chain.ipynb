{
 "cells": [
  {
   "cell_type": "markdown",
   "source": [
    "Begin to implement chains and implement a pipeline "
   ],
   "metadata": {
    "collapsed": false
   },
   "id": "a14907c50f72281e"
  },
  {
   "cell_type": "code",
   "execution_count": null,
   "outputs": [],
   "source": [
    "with open(\"job_desc.md\") as f:\n",
    "    description = f.read()\n",
    "with open(\"resume.md\") as f:\n",
    "    resume = f.read()\n",
    "title = 'django developer'"
   ],
   "metadata": {
    "collapsed": false
   },
   "id": "4fc08de57fa9144c"
  },
  {
   "cell_type": "code",
   "execution_count": null,
   "id": "initial_id",
   "metadata": {
    "collapsed": true
   },
   "outputs": [],
   "source": [
    "from util import chunk_markdown, cut_sections"
   ]
  },
  {
   "cell_type": "code",
   "execution_count": null,
   "outputs": [],
   "source": [
    "sections = cut_sections(resume)\n",
    "\n",
    "history = sections['history']['result']\n",
    "chunks = chunk_markdown(history)"
   ],
   "metadata": {
    "collapsed": false
   },
   "id": "57981bbfa705076"
  },
  {
   "cell_type": "markdown",
   "source": [
    "We need a function to only select job history from chunks. Any other headings such as summary, or education should be set aside."
   ],
   "metadata": {
    "collapsed": false
   },
   "id": "43ede2c2963f10a5"
  },
  {
   "cell_type": "markdown",
   "source": [
    "We need to split the job section into 2 parts, the job experience description and the job metadata."
   ],
   "metadata": {
    "collapsed": false
   },
   "id": "8c0f7720d90f6c1"
  },
  {
   "cell_type": "markdown",
   "source": [
    "## Begin to process job history chunks"
   ],
   "metadata": {
    "collapsed": false
   },
   "id": "5c5ac5bb20db66a8"
  },
  {
   "cell_type": "code",
   "execution_count": null,
   "outputs": [],
   "source": [
    "tmp_chunks = chunks.copy()\n",
    "\n",
    "for chunk in tmp_chunks:\n",
    "    chunk.page_content = 'test'\n",
    "print(tmp_chunks)"
   ],
   "metadata": {
    "collapsed": false
   },
   "id": "2210014e8f693407"
  },
  {
   "cell_type": "markdown",
   "source": [
    "Implementing `beef_section_chain()`"
   ],
   "metadata": {
    "collapsed": false
   },
   "id": "1cfcfd2d6e023d7a"
  },
  {
   "cell_type": "code",
   "execution_count": null,
   "outputs": [],
   "source": [
    "from beef import highlight_chain\n",
    "from util import relevant_skills_chain"
   ],
   "metadata": {
    "collapsed": false
   },
   "id": "357e85eac157cb0a"
  },
  {
   "cell_type": "code",
   "execution_count": null,
   "outputs": [],
   "source": [
    "from util import job_requirement_chain\n",
    "\n",
    "\n",
    "requirements = job_requirement_chain().predict(desc=description)\n"
   ],
   "metadata": {
    "collapsed": false
   },
   "id": "88dd9b92f093b4f"
  },
  {
   "cell_type": "code",
   "execution_count": null,
   "outputs": [],
   "source": [
    "from langchain.chains import SequentialChain\n",
    "\n",
    "beef_chain = SequentialChain(\n",
    "    chains=[relevant_skills_chain(), highlight_chain()],\n",
    "    input_variables=[\"title\", \"desc\", \"section\", \"requirements\"],\n",
    "    output_variables=[\"highlighted\"],\n",
    "    verbose=True\n",
    ")\n",
    "\n",
    "for chunk in chunks:\n",
    "    print(beef_chain({\"section\": chunk.page_content, \"title\": title, \"desc\": description, \"requirements\": requirements}))"
   ],
   "metadata": {
    "collapsed": false
   },
   "id": "8aec5e7507117b42"
  },
  {
   "cell_type": "markdown",
   "source": [],
   "metadata": {
    "collapsed": false
   },
   "id": "2cd190b0e623c4f2"
  },
  {
   "cell_type": "markdown",
   "source": [
    "It seems that a router should be used to evaluate a job experience section. If a job experience section is not strong for a given job description, THAN the chains described in this notebook should be used. This chain should be called `BeefSectionChain`. It's intention should be to highlight the key skills needed for a given job description."
   ],
   "metadata": {
    "collapsed": false
   },
   "id": "e04cb90cc522d6db"
  },
  {
   "cell_type": "markdown",
   "source": [
    "When processing the job experience section as a whole, a comparison should be made between the processed section, and the original section. The section that returns `\"more appealing to a recruiter\"` should be used as `Document.page_content`.\n",
    "\n",
    "How can we build an excellent resume summary from the job experience sections?\n",
    "\n",
    "First, each job experience will be filtered with a prompt such as `\"what is one thing that a recruiter for x job needs to know\"`. Then that list of facts will be reduced to 3. Then the original will be updated with `\"make this appealing for a recruiter for x job\"`. The two proposed sections will be compared.\n",
    "\n",
    "Or maybe model can just condense, then choose 3-5 of the best lines."
   ],
   "metadata": {
    "collapsed": false
   },
   "id": "201d7a5f62a07425"
  }
 ],
 "metadata": {
  "kernelspec": {
   "display_name": "Python 3",
   "language": "python",
   "name": "python3"
  },
  "language_info": {
   "codemirror_mode": {
    "name": "ipython",
    "version": 2
   },
   "file_extension": ".py",
   "mimetype": "text/x-python",
   "name": "python",
   "nbconvert_exporter": "python",
   "pygments_lexer": "ipython2",
   "version": "2.7.6"
  }
 },
 "nbformat": 4,
 "nbformat_minor": 5
}
