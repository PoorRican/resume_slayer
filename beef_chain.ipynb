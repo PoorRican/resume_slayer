{
 "cells": [
  {
   "cell_type": "markdown",
   "source": [
    "Begin to implement chains and implement a pipeline "
   ],
   "metadata": {
    "collapsed": false
   },
   "id": "a14907c50f72281e"
  },
  {
   "cell_type": "code",
   "execution_count": 2,
   "outputs": [],
   "source": [
    "with open(\"job_desc.md\") as f:\n",
    "    description = f.read()\n",
    "with open(\"resume.md\") as f:\n",
    "    resume = f.read()\n",
    "title = 'django developer'"
   ],
   "metadata": {
    "collapsed": false,
    "ExecuteTime": {
     "end_time": "2023-08-10T03:31:59.816727Z",
     "start_time": "2023-08-10T03:31:59.805263Z"
    }
   },
   "id": "4fc08de57fa9144c"
  },
  {
   "cell_type": "code",
   "execution_count": 5,
   "id": "initial_id",
   "metadata": {
    "collapsed": true,
    "ExecuteTime": {
     "end_time": "2023-08-10T03:33:12.549385Z",
     "start_time": "2023-08-10T03:33:12.538386Z"
    }
   },
   "outputs": [],
   "source": [
    "from util import chunk_markdown, cut_sections"
   ]
  },
  {
   "cell_type": "code",
   "execution_count": 6,
   "outputs": [],
   "source": [
    "sections = cut_sections(resume)\n",
    "\n",
    "history = sections['history']['result']\n",
    "chunks = chunk_markdown(history)"
   ],
   "metadata": {
    "collapsed": false,
    "ExecuteTime": {
     "end_time": "2023-08-10T03:33:37.982355Z",
     "start_time": "2023-08-10T03:33:13.183833Z"
    }
   },
   "id": "57981bbfa705076"
  },
  {
   "cell_type": "markdown",
   "source": [
    "We need a function to only select job history from chunks. Any other headings such as summary, or education should be set aside."
   ],
   "metadata": {
    "collapsed": false
   },
   "id": "43ede2c2963f10a5"
  },
  {
   "cell_type": "markdown",
   "source": [
    "We need to split the job section into 2 parts, the job experience description and the job metadata."
   ],
   "metadata": {
    "collapsed": false
   },
   "id": "8c0f7720d90f6c1"
  },
  {
   "cell_type": "markdown",
   "source": [
    "## Begin to process job history chunks"
   ],
   "metadata": {
    "collapsed": false
   },
   "id": "5c5ac5bb20db66a8"
  },
  {
   "cell_type": "code",
   "execution_count": 16,
   "outputs": [
    {
     "name": "stdout",
     "output_type": "stream",
     "text": [
      "[Document(page_content='test', metadata={'Header 1': 'Experience', 'Header 2': 'Aviation Electrician, US Navy, Aug 2020 - Present (2 years 11 months)'}), Document(page_content='test', metadata={'Header 1': 'Experience', 'Header 2': 'Founder, Creation Consortium LLC, Apr 2019 - Present (4 years 3 months)'}), Document(page_content='test', metadata={'Header 1': 'Experience', 'Header 2': 'Facility Specialist, TruClean, Apr 2020 - Aug 2020 (5 months)'}), Document(page_content='test', metadata={'Header 1': 'Experience', 'Header 2': 'Co-Founder, Love Our Neighbor Inc, Apr 2019 - May 2020 (1 year 2 months)'}), Document(page_content='test', metadata={'Header 1': 'Experience', 'Header 2': 'Estimating Engineer, McCloskey Mechanical Contractors, Inc., Nov 2016 - May 2017 (7 months)'}), Document(page_content='test', metadata={'Header 1': 'Experience', 'Header 2': 'Estimating Engineer, Camden Mechanical (MWBE), Jul 2014 - Nov 2016 (2 years 5 months)'})]\n"
     ]
    }
   ],
   "source": [
    "tmp_chunks = chunks.copy()\n",
    "\n",
    "for chunk in tmp_chunks:\n",
    "    chunk.page_content = 'test'\n",
    "print(tmp_chunks)"
   ],
   "metadata": {
    "collapsed": false,
    "ExecuteTime": {
     "end_time": "2023-08-10T04:49:24.622537Z",
     "start_time": "2023-08-10T04:49:24.577937Z"
    }
   },
   "id": "2210014e8f693407"
  },
  {
   "cell_type": "markdown",
   "source": [
    "Implementing `beef_section_chain()`"
   ],
   "metadata": {
    "collapsed": false
   },
   "id": "1cfcfd2d6e023d7a"
  },
  {
   "cell_type": "code",
   "execution_count": 7,
   "outputs": [],
   "source": [
    "from beef import highlight_chain, get_key_skill"
   ],
   "metadata": {
    "collapsed": false,
    "ExecuteTime": {
     "end_time": "2023-08-10T03:33:41.523902Z",
     "start_time": "2023-08-10T03:33:41.506477Z"
    }
   },
   "id": "357e85eac157cb0a"
  },
  {
   "cell_type": "code",
   "execution_count": 8,
   "outputs": [],
   "source": [
    "from util import job_requirement_chain\n",
    "\n",
    "\n",
    "requirements = job_requirement_chain().predict(desc=description)\n"
   ],
   "metadata": {
    "collapsed": false,
    "ExecuteTime": {
     "end_time": "2023-08-10T03:33:44.297798Z",
     "start_time": "2023-08-10T03:33:42.556663Z"
    }
   },
   "id": "88dd9b92f093b4f"
  },
  {
   "cell_type": "code",
   "execution_count": 15,
   "outputs": [
    {
     "name": "stdout",
     "output_type": "stream",
     "text": [
      "\n",
      "\n",
      "\u001B[1m> Entering new SequentialChain chain...\u001B[0m\n",
      "\n",
      "\u001B[1m> Finished chain.\u001B[0m\n",
      "{'section': 'Responsible for maintaining electrical and instrument systems for 11 F-18E aircraft totaling $715 million. Additionally, responsible for final check and troubleshooting of aircraft before flight.  \\n- Assisted primary supervisor in management of maintenance programs leading to no hits on a major inspection.\\n- Expertly managed tool program of over $175,000 by training coworkers on expectations and proper procedures leading to no hits across 2 major and 3 routine inspections.\\n- Awarded for showing expertise and initiative for reinstalling an incorrectly installed part under stressful conditions.\\n- Lead and mentored a group of 3 individuals in flight deck operations and proper flight deck cleaning procedures as supervisor leading to no accidents and rejuvenating a stagnant work center.', 'title': 'django developer', 'desc': 'Vendelux (https://vendelux.com/) is the system of record for event marketing. Our software platform provides proprietary data that helps high-growth companies find the highest ROI events, conferences and trade shows to attend and sponsor. We have built a product that customers describe as an “event marketer’s dream” and are backed with venture capital funding and top-tier clients.\\n\\nWe are now hiring more engineers to help us build the best platform for Event Marketers. We are looking for a Django expert to build and maintain our core platform.\\n\\nThe Django Engineer’s role is a full-time, remote position. This role reports to our Head of Product & Engineering.\\n\\nResponsibilities\\n\\n- Be an important part of our multinational, agile software development team\\n- Implement high-quality solutions across multiple components of our platform\\n- Write well-structured and documented code\\n- Continuously update and expand our products\\n\\n\\nQualifications\\n\\n- 5+ years of experience building complex web applications using Python, Django, React, Snowflake or similar\\n- Hands-on experience designing software and breaking down complexity using software engineering principles\\n- Great team member who contributes to our culture and our business\\n - Takes ownership and demands excellence from themselves and others\\n- Likes a fast paced environment and is a quick learner\\n- Results-driven and can prioritize activities with the greatest impact\\n- Proven track record of excellence\\n- Working knowledge of English', 'requirements': Skills(skills=['Python', 'Django', 'React', 'Snowflake', 'Software Engineering', 'Agile Software Development', 'Web Application Development', 'Code Documentation', 'Teamwork', 'Fast Learner', 'Results-driven', 'English Proficiency']), 'highlighted': '- Results-driven:\\n  - Assisted primary supervisor in management of maintenance programs leading to no hits on a major inspection.\\n  - Expertly managed tool program of over $175,000 by training coworkers on expectations and proper procedures leading to no hits across 2 major and 3 routine inspections.\\n  - Awarded for showing expertise and initiative for reinstalling an incorrectly installed part under stressful conditions.\\n- Teamwork:\\n  - Lead and mentored a group of 3 individuals in flight deck operations and proper flight deck cleaning procedures as supervisor leading to no accidents and rejuvenating a stagnant work center.\\n- Fast Learner:\\n  - Responsible for maintaining electrical and instrument systems for 11 F-18E aircraft totaling $715 million.\\n  - Responsible for final check and troubleshooting of aircraft before flight.'}\n",
      "\n",
      "\n",
      "\u001B[1m> Entering new SequentialChain chain...\u001B[0m\n",
      "\n",
      "\u001B[1m> Finished chain.\u001B[0m\n",
      "{'section': \"Passionate about leveraging technology to drive business growth and revolutionize industries, Creation Consortium LLC is a pioneering venture for my side projects in web development, system design, and software development.  \\n- Upgraded the computer and network systems for a reputable veterinary clinic in Philadelphia.\\n- Developed automated trading system in Python using parallel processing, AWS, REST API's, and SQL\\n- Developed novel UI for viewing and editing and genetic content using React (javascript framework), Cascading Style Sheets (CSS), HTML, and Rust\\n- Developed low-level sensor logger and control system in Rust\", 'title': 'django developer', 'desc': 'Vendelux (https://vendelux.com/) is the system of record for event marketing. Our software platform provides proprietary data that helps high-growth companies find the highest ROI events, conferences and trade shows to attend and sponsor. We have built a product that customers describe as an “event marketer’s dream” and are backed with venture capital funding and top-tier clients.\\n\\nWe are now hiring more engineers to help us build the best platform for Event Marketers. We are looking for a Django expert to build and maintain our core platform.\\n\\nThe Django Engineer’s role is a full-time, remote position. This role reports to our Head of Product & Engineering.\\n\\nResponsibilities\\n\\n- Be an important part of our multinational, agile software development team\\n- Implement high-quality solutions across multiple components of our platform\\n- Write well-structured and documented code\\n- Continuously update and expand our products\\n\\n\\nQualifications\\n\\n- 5+ years of experience building complex web applications using Python, Django, React, Snowflake or similar\\n- Hands-on experience designing software and breaking down complexity using software engineering principles\\n- Great team member who contributes to our culture and our business\\n - Takes ownership and demands excellence from themselves and others\\n- Likes a fast paced environment and is a quick learner\\n- Results-driven and can prioritize activities with the greatest impact\\n- Proven track record of excellence\\n- Working knowledge of English', 'requirements': Skills(skills=['Python', 'Django', 'React', 'Snowflake', 'Software Engineering', 'Agile Software Development', 'Web Application Development', 'Code Documentation', 'Teamwork', 'Fast Learner', 'Results-driven', 'English Proficiency']), 'highlighted': \"- Developed automated trading system in Python using parallel processing, AWS, REST API's, and SQL, demonstrating proficiency in Python and software engineering.\\n- Developed novel UI for viewing and editing genetic content using React (javascript framework), Cascading Style Sheets (CSS), HTML, demonstrating proficiency in React and software engineering.\\n- Upgraded the computer and network systems for a reputable veterinary clinic in Philadelphia, showcasing skills in software engineering and problem-solving.\\n- Developed low-level sensor logger and control system in Rust, highlighting proficiency in software engineering and system design.\"}\n",
      "\n",
      "\n",
      "\u001B[1m> Entering new SequentialChain chain...\u001B[0m\n",
      "\n",
      "\u001B[1m> Finished chain.\u001B[0m\n",
      "{'section': 'Responsible for general cleaning of 3 to 4 facilities on a flexible schedule and a 1 - 2 person workcrew.  \\n- Dutiful cleaning of a high traffic facility lead to stellar reviews from client.\\n- Demonstrated attention to detail in refurnishing several dozen low-income apartments leading to more responsibility and autonomy.', 'title': 'django developer', 'desc': 'Vendelux (https://vendelux.com/) is the system of record for event marketing. Our software platform provides proprietary data that helps high-growth companies find the highest ROI events, conferences and trade shows to attend and sponsor. We have built a product that customers describe as an “event marketer’s dream” and are backed with venture capital funding and top-tier clients.\\n\\nWe are now hiring more engineers to help us build the best platform for Event Marketers. We are looking for a Django expert to build and maintain our core platform.\\n\\nThe Django Engineer’s role is a full-time, remote position. This role reports to our Head of Product & Engineering.\\n\\nResponsibilities\\n\\n- Be an important part of our multinational, agile software development team\\n- Implement high-quality solutions across multiple components of our platform\\n- Write well-structured and documented code\\n- Continuously update and expand our products\\n\\n\\nQualifications\\n\\n- 5+ years of experience building complex web applications using Python, Django, React, Snowflake or similar\\n- Hands-on experience designing software and breaking down complexity using software engineering principles\\n- Great team member who contributes to our culture and our business\\n - Takes ownership and demands excellence from themselves and others\\n- Likes a fast paced environment and is a quick learner\\n- Results-driven and can prioritize activities with the greatest impact\\n- Proven track record of excellence\\n- Working knowledge of English', 'requirements': Skills(skills=['Python', 'Django', 'React', 'Snowflake', 'Software Engineering', 'Agile Software Development', 'Web Application Development', 'Code Documentation', 'Teamwork', 'Fast Learner', 'Results-driven', 'English Proficiency']), 'highlighted': \"- Results-driven: The job experience demonstrates this skill by showcasing the stellar reviews received from clients due to the dutiful cleaning of a high traffic facility. This indicates that the individual was focused on achieving positive results in their cleaning duties.\\n- Teamwork: The job experience mentions working with a 1-2 person workcrew, indicating that the individual has experience collaborating and working effectively with others. This demonstrates their ability to contribute to a team and work towards common goals.\\n- Fast Learner: The job experience highlights the individual's ability to quickly learn and adapt by mentioning their progression from general cleaning to refurnishing low-income apartments. This shows their capacity to acquire new skills and take on more responsibility, indicating their fast learning abilities.\"}\n",
      "\n",
      "\n",
      "\u001B[1m> Entering new SequentialChain chain...\u001B[0m\n",
      "\n",
      "\u001B[1m> Finished chain.\u001B[0m\n",
      "{'section': 'Co-founder and primary developer for a crowd funding platform for Christian based ministries.  \\n- Accredited 501(c)3 non-profit tax status\\n- Researched and proposed corporate bylaws which were ratified by 5 board members.\\n- Conceived business strategy along with visionary founder which led to accepting 4 non-profits onto the platform.\\n- Developed and implemented a full-stack website and donation platform which withstood several attempts Denial of Service (DOS) attacks from overseas. Honed knowledge of AWS, docker, git, Linux DevOps, and semantic releases.\\n- Integrated low-level payment provider REST API tools to take advantage of extremely low cost transaction fees as compared to plug-and-play solutions (ie: PayPal, Square).', 'title': 'django developer', 'desc': 'Vendelux (https://vendelux.com/) is the system of record for event marketing. Our software platform provides proprietary data that helps high-growth companies find the highest ROI events, conferences and trade shows to attend and sponsor. We have built a product that customers describe as an “event marketer’s dream” and are backed with venture capital funding and top-tier clients.\\n\\nWe are now hiring more engineers to help us build the best platform for Event Marketers. We are looking for a Django expert to build and maintain our core platform.\\n\\nThe Django Engineer’s role is a full-time, remote position. This role reports to our Head of Product & Engineering.\\n\\nResponsibilities\\n\\n- Be an important part of our multinational, agile software development team\\n- Implement high-quality solutions across multiple components of our platform\\n- Write well-structured and documented code\\n- Continuously update and expand our products\\n\\n\\nQualifications\\n\\n- 5+ years of experience building complex web applications using Python, Django, React, Snowflake or similar\\n- Hands-on experience designing software and breaking down complexity using software engineering principles\\n- Great team member who contributes to our culture and our business\\n - Takes ownership and demands excellence from themselves and others\\n- Likes a fast paced environment and is a quick learner\\n- Results-driven and can prioritize activities with the greatest impact\\n- Proven track record of excellence\\n- Working knowledge of English', 'requirements': Skills(skills=['Python', 'Django', 'React', 'Snowflake', 'Software Engineering', 'Agile Software Development', 'Web Application Development', 'Code Documentation', 'Teamwork', 'Fast Learner', 'Results-driven', 'English Proficiency']), 'highlighted': '- Demonstrates web application development skills by developing and implementing a full-stack website and donation platform.\\n- Shows software engineering skills by withstanding several attempts of Denial of Service (DOS) attacks from overseas and utilizing AWS, docker, git, Linux DevOps, and semantic releases.\\n- Highlights teamwork skills by working as a co-founder and collaborating with a visionary founder to conceive the business strategy and accept 4 non-profits onto the platform.'}\n",
      "\n",
      "\n",
      "\u001B[1m> Entering new SequentialChain chain...\u001B[0m\n",
      "\n",
      "\u001B[1m> Finished chain.\u001B[0m\n",
      "{'section': 'Responsible for formulating bids on mechanical and plumbing contracts for commercial projects in the South Jersey, Philadelphia, and Boston, MA. Additionally, proposing revisions to blueprints to material cost and manpower.  \\n- Proposed and implemented a VB Script to allow a streamlined workflow between counterpart estimators and administrative assistants.', 'title': 'django developer', 'desc': 'Vendelux (https://vendelux.com/) is the system of record for event marketing. Our software platform provides proprietary data that helps high-growth companies find the highest ROI events, conferences and trade shows to attend and sponsor. We have built a product that customers describe as an “event marketer’s dream” and are backed with venture capital funding and top-tier clients.\\n\\nWe are now hiring more engineers to help us build the best platform for Event Marketers. We are looking for a Django expert to build and maintain our core platform.\\n\\nThe Django Engineer’s role is a full-time, remote position. This role reports to our Head of Product & Engineering.\\n\\nResponsibilities\\n\\n- Be an important part of our multinational, agile software development team\\n- Implement high-quality solutions across multiple components of our platform\\n- Write well-structured and documented code\\n- Continuously update and expand our products\\n\\n\\nQualifications\\n\\n- 5+ years of experience building complex web applications using Python, Django, React, Snowflake or similar\\n- Hands-on experience designing software and breaking down complexity using software engineering principles\\n- Great team member who contributes to our culture and our business\\n - Takes ownership and demands excellence from themselves and others\\n- Likes a fast paced environment and is a quick learner\\n- Results-driven and can prioritize activities with the greatest impact\\n- Proven track record of excellence\\n- Working knowledge of English', 'requirements': Skills(skills=['Python', 'Django', 'React', 'Snowflake', 'Software Engineering', 'Agile Software Development', 'Web Application Development', 'Code Documentation', 'Teamwork', 'Fast Learner', 'Results-driven', 'English Proficiency']), 'highlighted': '- Demonstrates fast learner skills by quickly understanding the need for a streamlined workflow and proposing a solution using VB Script.\\n- Shows results-driven skills by successfully implementing the VB Script, which improved the efficiency of the workflow.\\n- Highlights English proficiency by effectively communicating and collaborating with counterpart estimators and administrative assistants.'}\n",
      "\n",
      "\n",
      "\u001B[1m> Entering new SequentialChain chain...\u001B[0m\n",
      "\n",
      "\u001B[1m> Finished chain.\u001B[0m\n",
      "{'section': \"Responsible for interpreting blueprints and formulating bid proposals for large scale commercial projects. Additionally responsible for communicating with contractors and vendors for Requests for Proposals (RFP's) and Request for Quotations (RFQ's).  \\n- Achieved competency in mechanical blueprint interpretation, bid formulation, and project lifecycle with half of the time of the typical training pipeline which provided value to the company and team members.\\n- Developed and implemented software in Python to assist with routine tasks which increased productivity of a 2 man team threefold.\\n- Represented the company at a networking event which opened the door to new contractors and bids for upcoming projects in the greater metropolitan area.\\n- Communicated with lead contractor during an onsite walkthrough which lead to successful awarding of a Rutgers Camden Lab renovation.\", 'title': 'django developer', 'desc': 'Vendelux (https://vendelux.com/) is the system of record for event marketing. Our software platform provides proprietary data that helps high-growth companies find the highest ROI events, conferences and trade shows to attend and sponsor. We have built a product that customers describe as an “event marketer’s dream” and are backed with venture capital funding and top-tier clients.\\n\\nWe are now hiring more engineers to help us build the best platform for Event Marketers. We are looking for a Django expert to build and maintain our core platform.\\n\\nThe Django Engineer’s role is a full-time, remote position. This role reports to our Head of Product & Engineering.\\n\\nResponsibilities\\n\\n- Be an important part of our multinational, agile software development team\\n- Implement high-quality solutions across multiple components of our platform\\n- Write well-structured and documented code\\n- Continuously update and expand our products\\n\\n\\nQualifications\\n\\n- 5+ years of experience building complex web applications using Python, Django, React, Snowflake or similar\\n- Hands-on experience designing software and breaking down complexity using software engineering principles\\n- Great team member who contributes to our culture and our business\\n - Takes ownership and demands excellence from themselves and others\\n- Likes a fast paced environment and is a quick learner\\n- Results-driven and can prioritize activities with the greatest impact\\n- Proven track record of excellence\\n- Working knowledge of English', 'requirements': Skills(skills=['Python', 'Django', 'React', 'Snowflake', 'Software Engineering', 'Agile Software Development', 'Web Application Development', 'Code Documentation', 'Teamwork', 'Fast Learner', 'Results-driven', 'English Proficiency']), 'highlighted': \"- Demonstrates proficiency in software engineering by developing and implementing software in Python to increase team productivity.\\n- Shows teamwork skills by effectively communicating with contractors and vendors for Requests for Proposals (RFP's) and Request for Quotations (RFQ's).\\n- Highlights the ability to work in a team by representing the company at a networking event and successfully opening doors to new contractors and bids.\"}\n"
     ]
    }
   ],
   "source": [
    "from langchain.chains import SequentialChain\n",
    "\n",
    "beef_chain = SequentialChain(\n",
    "    chains=[get_key_skill(), highlight_chain()],\n",
    "    input_variables=[\"title\", \"desc\", \"section\", \"requirements\"],\n",
    "    output_variables=[\"highlighted\"],\n",
    "    verbose=True\n",
    ")\n",
    "\n",
    "for chunk in chunks:\n",
    "    print(beef_chain({\"section\": chunk.page_content, \"title\": title, \"desc\": description, \"requirements\": requirements}))"
   ],
   "metadata": {
    "collapsed": false,
    "ExecuteTime": {
     "end_time": "2023-08-10T04:27:03.021074Z",
     "start_time": "2023-08-10T04:26:37.053398Z"
    }
   },
   "id": "8aec5e7507117b42"
  },
  {
   "cell_type": "markdown",
   "source": [],
   "metadata": {
    "collapsed": false
   },
   "id": "2cd190b0e623c4f2"
  },
  {
   "cell_type": "markdown",
   "source": [
    "It seems that a router should be used to evaluate a job experience section. If a job experience section is not strong for a given job description, THAN the chains described in this notebook should be used. This chain should be called `BeefSectionChain`. It's intention should be to highlight the key skills needed for a given job description."
   ],
   "metadata": {
    "collapsed": false
   },
   "id": "e04cb90cc522d6db"
  },
  {
   "cell_type": "markdown",
   "source": [
    "When processing the job experience section as a whole, a comparison should be made between the processed section, and the original section. The section that returns `\"more appealing to a recruiter\"` should be used as `Document.page_content`.\n",
    "\n",
    "How can we build an excellent resume summary from the job experience sections?\n",
    "\n",
    "First, each job experience will be filtered with a prompt such as `\"what is one thing that a recruiter for x job needs to know\"`. Then that list of facts will be reduced to 3. Then the original will be updated with `\"make this appealing for a recruiter for x job\"`. The two proposed sections will be compared.\n",
    "\n",
    "Or maybe model can just condense, then choose 3-5 of the best lines."
   ],
   "metadata": {
    "collapsed": false
   },
   "id": "201d7a5f62a07425"
  },
  {
   "cell_type": "markdown",
   "source": [
    "The `improve_summary_chain()` can be used to improve an existing summary by rearranging its contents. It tends to output a mix of bullet points and prose. "
   ],
   "metadata": {
    "collapsed": false
   },
   "id": "dff6e3ac97127b9f"
  },
  {
   "cell_type": "code",
   "execution_count": 27,
   "outputs": [
    {
     "ename": "ValidationError",
     "evalue": "1 validation error for SequentialChain\n__root__\n  Expected output variables that were not found: {'z', 'i', 'a', 'm', 'u', 'e', 'r', 'd', 's'}. (type=value_error)",
     "output_type": "error",
     "traceback": [
      "\u001B[0;31m---------------------------------------------------------------------------\u001B[0m",
      "\u001B[0;31mValidationError\u001B[0m                           Traceback (most recent call last)",
      "Cell \u001B[0;32mIn[27], line 3\u001B[0m\n\u001B[1;32m      1\u001B[0m \u001B[38;5;28;01mfrom\u001B[39;00m \u001B[38;5;21;01msummary\u001B[39;00m \u001B[38;5;28;01mimport\u001B[39;00m improve_summary_chain\n\u001B[0;32m----> 3\u001B[0m summary_chain \u001B[38;5;241m=\u001B[39m \u001B[43mimprove_summary_chain\u001B[49m\u001B[43m(\u001B[49m\u001B[43m)\u001B[49m\n\u001B[1;32m      4\u001B[0m summary_chain({\u001B[38;5;124m'\u001B[39m\u001B[38;5;124msection\u001B[39m\u001B[38;5;124m'\u001B[39m: sections[\u001B[38;5;124m'\u001B[39m\u001B[38;5;124msummary\u001B[39m\u001B[38;5;124m'\u001B[39m], \u001B[38;5;124m'\u001B[39m\u001B[38;5;124mdesc\u001B[39m\u001B[38;5;124m'\u001B[39m: description})\n",
      "File \u001B[0;32m~/repos/resume_slayer/summary.py:33\u001B[0m, in \u001B[0;36mimprove_summary_chain\u001B[0;34m()\u001B[0m\n\u001B[1;32m     22\u001B[0m summ_prompt \u001B[38;5;241m=\u001B[39m PromptTemplate\u001B[38;5;241m.\u001B[39mfrom_template(\u001B[38;5;124m\"\"\"\u001B[39m\n\u001B[1;32m     23\u001B[0m \u001B[38;5;124mCondense the following resume section to remain appealing to a recruiter looking to fill the given job description.\u001B[39m\n\u001B[1;32m     24\u001B[0m \u001B[38;5;124m\u001B[39m\n\u001B[0;32m   (...)\u001B[0m\n\u001B[1;32m     29\u001B[0m \u001B[38;5;124m\u001B[39m\u001B[38;5;132;01m{desc}\u001B[39;00m\n\u001B[1;32m     30\u001B[0m \u001B[38;5;124m\u001B[39m\u001B[38;5;124m\"\"\"\u001B[39m)\n\u001B[1;32m     31\u001B[0m summ_chain \u001B[38;5;241m=\u001B[39m LLMChain(prompt\u001B[38;5;241m=\u001B[39msumm_prompt, llm\u001B[38;5;241m=\u001B[39mllm, output_key\u001B[38;5;241m=\u001B[39m\u001B[38;5;124m\"\u001B[39m\u001B[38;5;124msummarized\u001B[39m\u001B[38;5;124m\"\u001B[39m)\n\u001B[0;32m---> 33\u001B[0m \u001B[38;5;28;01mreturn\u001B[39;00m \u001B[43mSequentialChain\u001B[49m\u001B[43m(\u001B[49m\n\u001B[1;32m     34\u001B[0m \u001B[43m    \u001B[49m\u001B[43mchains\u001B[49m\u001B[38;5;241;43m=\u001B[39;49m\u001B[43m[\u001B[49m\u001B[43mappeal_chain\u001B[49m\u001B[43m,\u001B[49m\u001B[43m \u001B[49m\u001B[43msumm_chain\u001B[49m\u001B[43m]\u001B[49m\u001B[43m,\u001B[49m\n\u001B[1;32m     35\u001B[0m \u001B[43m    \u001B[49m\u001B[43minput_variables\u001B[49m\u001B[38;5;241;43m=\u001B[39;49m\u001B[43m[\u001B[49m\u001B[38;5;124;43m\"\u001B[39;49m\u001B[38;5;124;43msection\u001B[39;49m\u001B[38;5;124;43m\"\u001B[39;49m\u001B[43m,\u001B[49m\u001B[43m \u001B[49m\u001B[38;5;124;43m\"\u001B[39;49m\u001B[38;5;124;43mdesc\u001B[39;49m\u001B[38;5;124;43m\"\u001B[39;49m\u001B[43m]\u001B[49m\u001B[43m,\u001B[49m\n\u001B[1;32m     36\u001B[0m \u001B[43m    \u001B[49m\u001B[43moutput_variables\u001B[49m\u001B[38;5;241;43m=\u001B[39;49m\u001B[38;5;124;43m\"\u001B[39;49m\u001B[38;5;124;43msummarized\u001B[39;49m\u001B[38;5;124;43m\"\u001B[39;49m\u001B[43m,\u001B[49m\n\u001B[1;32m     37\u001B[0m \u001B[43m\u001B[49m\u001B[43m)\u001B[49m\n",
      "File \u001B[0;32m~/repos/resume_slayer/venv/lib/python3.11/site-packages/langchain/load/serializable.py:74\u001B[0m, in \u001B[0;36mSerializable.__init__\u001B[0;34m(self, **kwargs)\u001B[0m\n\u001B[1;32m     73\u001B[0m \u001B[38;5;28;01mdef\u001B[39;00m \u001B[38;5;21m__init__\u001B[39m(\u001B[38;5;28mself\u001B[39m, \u001B[38;5;241m*\u001B[39m\u001B[38;5;241m*\u001B[39mkwargs: Any) \u001B[38;5;241m-\u001B[39m\u001B[38;5;241m>\u001B[39m \u001B[38;5;28;01mNone\u001B[39;00m:\n\u001B[0;32m---> 74\u001B[0m     \u001B[38;5;28;43msuper\u001B[39;49m\u001B[43m(\u001B[49m\u001B[43m)\u001B[49m\u001B[38;5;241;43m.\u001B[39;49m\u001B[38;5;21;43m__init__\u001B[39;49m\u001B[43m(\u001B[49m\u001B[38;5;241;43m*\u001B[39;49m\u001B[38;5;241;43m*\u001B[39;49m\u001B[43mkwargs\u001B[49m\u001B[43m)\u001B[49m\n\u001B[1;32m     75\u001B[0m     \u001B[38;5;28mself\u001B[39m\u001B[38;5;241m.\u001B[39m_lc_kwargs \u001B[38;5;241m=\u001B[39m kwargs\n",
      "File \u001B[0;32m~/repos/resume_slayer/venv/lib/python3.11/site-packages/pydantic/main.py:341\u001B[0m, in \u001B[0;36mpydantic.main.BaseModel.__init__\u001B[0;34m()\u001B[0m\n",
      "\u001B[0;31mValidationError\u001B[0m: 1 validation error for SequentialChain\n__root__\n  Expected output variables that were not found: {'z', 'i', 'a', 'm', 'u', 'e', 'r', 'd', 's'}. (type=value_error)"
     ]
    }
   ],
   "source": [],
   "metadata": {
    "collapsed": false,
    "ExecuteTime": {
     "end_time": "2023-08-10T18:17:35.106246Z",
     "start_time": "2023-08-10T18:17:35.062496Z"
    }
   },
   "id": "6ab67f038632fea1"
  },
  {
   "cell_type": "code",
   "execution_count": null,
   "outputs": [],
   "source": [],
   "metadata": {
    "collapsed": false
   },
   "id": "20e8fcc6c93e2bb0"
  }
 ],
 "metadata": {
  "kernelspec": {
   "display_name": "Python 3",
   "language": "python",
   "name": "python3"
  },
  "language_info": {
   "codemirror_mode": {
    "name": "ipython",
    "version": 2
   },
   "file_extension": ".py",
   "mimetype": "text/x-python",
   "name": "python",
   "nbconvert_exporter": "python",
   "pygments_lexer": "ipython2",
   "version": "2.7.6"
  }
 },
 "nbformat": 4,
 "nbformat_minor": 5
}
