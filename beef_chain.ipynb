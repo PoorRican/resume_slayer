{
 "cells": [
  {
   "cell_type": "markdown",
   "source": [
    "Begin to implement chains and implement a pipeline "
   ],
   "metadata": {
    "collapsed": false
   },
   "id": "a14907c50f72281e"
  },
  {
   "cell_type": "code",
   "execution_count": 1,
   "outputs": [],
   "source": [
    "with open(\"job_desc.md\") as f:\n",
    "    description = f.read()\n",
    "with open(\"resume.md\") as f:\n",
    "    resume = f.read()\n",
    "title = 'django developer'"
   ],
   "metadata": {
    "collapsed": false,
    "ExecuteTime": {
     "end_time": "2023-08-23T01:31:55.344581Z",
     "start_time": "2023-08-23T01:31:55.326157Z"
    }
   },
   "id": "4fc08de57fa9144c"
  },
  {
   "cell_type": "code",
   "execution_count": 2,
   "id": "initial_id",
   "metadata": {
    "collapsed": true,
    "ExecuteTime": {
     "end_time": "2023-08-23T01:31:57.756808Z",
     "start_time": "2023-08-23T01:31:55.339249Z"
    }
   },
   "outputs": [],
   "source": [
    "from util import chunk_markdown, cut_sections"
   ]
  },
  {
   "cell_type": "code",
   "execution_count": 3,
   "outputs": [],
   "source": [
    "sections = cut_sections(resume)\n",
    "\n",
    "history = sections['history']\n",
    "chunks = chunk_markdown(history)"
   ],
   "metadata": {
    "collapsed": false,
    "ExecuteTime": {
     "end_time": "2023-08-23T01:32:14.908918Z",
     "start_time": "2023-08-23T01:31:57.758488Z"
    }
   },
   "id": "57981bbfa705076"
  },
  {
   "cell_type": "markdown",
   "source": [
    "We need a function to only select job history from chunks. Any other headings such as summary, or education should be set aside."
   ],
   "metadata": {
    "collapsed": false
   },
   "id": "43ede2c2963f10a5"
  },
  {
   "cell_type": "markdown",
   "source": [
    "We need to split the job section into 2 parts, the job experience description and the job metadata."
   ],
   "metadata": {
    "collapsed": false
   },
   "id": "8c0f7720d90f6c1"
  },
  {
   "cell_type": "markdown",
   "source": [
    "## Begin to process job history chunks"
   ],
   "metadata": {
    "collapsed": false
   },
   "id": "5c5ac5bb20db66a8"
  },
  {
   "cell_type": "markdown",
   "source": [
    "Implementing `beef_section_chain()`"
   ],
   "metadata": {
    "collapsed": false
   },
   "id": "1cfcfd2d6e023d7a"
  },
  {
   "cell_type": "code",
   "execution_count": 4,
   "outputs": [],
   "source": [
    "from beef import highlight_chain\n",
    "from util import relevant_skills_chain"
   ],
   "metadata": {
    "collapsed": false,
    "ExecuteTime": {
     "end_time": "2023-08-23T01:32:14.925322Z",
     "start_time": "2023-08-23T01:32:14.911989Z"
    }
   },
   "id": "357e85eac157cb0a"
  },
  {
   "cell_type": "code",
   "execution_count": 5,
   "outputs": [],
   "source": [
    "from util import job_requirement_chain\n",
    "\n",
    "\n",
    "requirements = job_requirement_chain().predict(desc=description)\n"
   ],
   "metadata": {
    "collapsed": false,
    "ExecuteTime": {
     "end_time": "2023-08-23T01:32:17.602929Z",
     "start_time": "2023-08-23T01:32:14.933221Z"
    }
   },
   "id": "88dd9b92f093b4f"
  },
  {
   "cell_type": "code",
   "execution_count": 9,
   "outputs": [
    {
     "name": "stdout",
     "output_type": "stream",
     "text": [
      "- Results-driven:\n",
      "  - Assisted primary supervisor in management of maintenance programs leading to no hits on a major inspection.\n",
      "  - Expertly managed tool program of over $175,000 by training coworkers on expectations and proper procedures leading to no hits across 2 major and 3 routine inspections.\n",
      "  - Awarded for showing expertise and initiative for reinstalling an incorrectly installed part under stressful conditions.\n",
      "- Teamwork:\n",
      "  - Lead and mentored a group of 3 individuals in flight deck operations and proper flight deck cleaning procedures as supervisor leading to no accidents and rejuvenating a stagnant work center.\n",
      "- Fast Learner:\n",
      "  - Responsible for maintaining electrical and instrument systems for 11 F-18E aircraft totaling $715 million.\n",
      "  - Responsible for final check and troubleshooting of aircraft before flight.\n",
      "- Developed automated trading system in Python using parallel processing, AWS, REST API's, and SQL, demonstrating proficiency in Python and software engineering.\n",
      "- Developed novel UI for viewing and editing genetic content using React (javascript framework), Cascading Style Sheets (CSS), HTML, demonstrating proficiency in React.\n",
      "- Upgraded the computer and network systems for a reputable veterinary clinic in Philadelphia, showcasing skills in software engineering.\n",
      "- Developed low-level sensor logger and control system in Rust, showcasing skills in software engineering.\n",
      "- Results-driven: The job experience demonstrates this skill by mentioning that the individual received stellar reviews from clients for their dutiful cleaning of a high traffic facility. This indicates that they were able to achieve positive results in their work.\n",
      "- Teamwork: The job experience mentions that the individual worked with a 1-2 person work crew. This indicates that they have experience working collaboratively with others and can contribute effectively as part of a team.\n",
      "- Fast Learner: The job experience demonstrates this skill by mentioning that the individual demonstrated attention to detail in refurnishing several dozen low-income apartments. This indicates that they were able to quickly learn and adapt to new tasks and responsibilities.\n",
      "- Demonstrated web application development skills by developing and implementing a full-stack website and donation platform.\n",
      "- Utilized software engineering skills to withstand several attempts of Denial of Service (DOS) attacks from overseas, showcasing knowledge of AWS, docker, git, Linux DevOps, and semantic releases.\n",
      "- Showed teamwork skills by collaborating with the visionary founder to conceive the business strategy and successfully accept 4 non-profits onto the platform.\n",
      "- Integrated low-level payment provider REST API tools, highlighting software engineering skills and knowledge of web application development.\n",
      "- Utilized research and proposal skills to create corporate bylaws that were ratified by 5 board members.\n",
      "- Demonstrates fast learner skills by quickly learning and implementing a VB Script to improve workflow.\n",
      "- Shows results-driven skills by proposing and implementing a solution that streamlined the workflow.\n",
      "- Highlights teamwork skills by collaborating with counterpart estimators and administrative assistants to improve efficiency.\n",
      "- Demonstrates software engineering skills by developing and implementing software in Python to assist with routine tasks, increasing productivity.\n",
      "- Shows teamwork skills by achieving competency in mechanical blueprint interpretation, bid formulation, and project lifecycle in a shorter time than usual, providing value to the company and team members.\n",
      "- Highlights teamwork skills by representing the company at a networking event, opening the door to new contractors and bids for upcoming projects.\n",
      "- Demonstrates teamwork skills by communicating with contractors and vendors for Requests for Proposals (RFP's) and Request for Quotations (RFQ's).\n",
      "- Shows software engineering skills by developing software in Python to assist with routine tasks, increasing productivity.\n",
      "- Demonstrates teamwork skills by communicating with lead contractor during an onsite walkthrough, leading to the successful awarding of a Rutgers Camden Lab renovation.\n"
     ]
    }
   ],
   "source": [
    "from langchain.chains import SequentialChain\n",
    "\n",
    "beef_chain = SequentialChain(\n",
    "    chains=[relevant_skills_chain(), highlight_chain()],\n",
    "    input_variables=[\"title\", \"desc\", \"section\", \"requirements\"],\n",
    "    output_variables=[\"highlighted\"]\n",
    ")\n",
    "\n",
    "for chunk in chunks:\n",
    "    print(beef_chain({\"section\": chunk.page_content, \"title\": title, \"desc\": description, \"requirements\": requirements})['highlighted'])"
   ],
   "metadata": {
    "collapsed": false,
    "ExecuteTime": {
     "end_time": "2023-08-23T02:56:10.154498Z",
     "start_time": "2023-08-23T02:55:36.941489Z"
    }
   },
   "id": "8aec5e7507117b42"
  },
  {
   "cell_type": "markdown",
   "source": [],
   "metadata": {
    "collapsed": false
   },
   "id": "2cd190b0e623c4f2"
  },
  {
   "cell_type": "markdown",
   "source": [
    "It seems that a router should be used to evaluate a job experience section. If a job experience section is not strong for a given job description, THAN the chains described in this notebook should be used. This chain should be called `BeefSectionChain`. It's intention should be to highlight the key skills needed for a given job description."
   ],
   "metadata": {
    "collapsed": false
   },
   "id": "e04cb90cc522d6db"
  },
  {
   "cell_type": "markdown",
   "source": [
    "When processing the job experience section as a whole, a comparison should be made between the processed section, and the original section. The section that returns `\"more appealing to a recruiter\"` should be used as `Document.page_content`.\n",
    "\n",
    "How can we build an excellent resume summary from the job experience sections?\n",
    "\n",
    "First, each job experience will be filtered with a prompt such as `\"what is one thing that a recruiter for x job needs to know\"`. Then that list of facts will be reduced to 3. Then the original will be updated with `\"make this appealing for a recruiter for x job\"`. The two proposed sections will be compared.\n",
    "\n",
    "Or maybe model can just condense, then choose 3-5 of the best lines."
   ],
   "metadata": {
    "collapsed": false
   },
   "id": "201d7a5f62a07425"
  }
 ],
 "metadata": {
  "kernelspec": {
   "display_name": "Python 3",
   "language": "python",
   "name": "python3"
  },
  "language_info": {
   "codemirror_mode": {
    "name": "ipython",
    "version": 2
   },
   "file_extension": ".py",
   "mimetype": "text/x-python",
   "name": "python",
   "nbconvert_exporter": "python",
   "pygments_lexer": "ipython2",
   "version": "2.7.6"
  }
 },
 "nbformat": 4,
 "nbformat_minor": 5
}
