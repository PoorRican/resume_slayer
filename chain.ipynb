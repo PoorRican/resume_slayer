{
 "cells": [
  {
   "cell_type": "markdown",
   "source": [
    "Begin to implement chains and implement a pipeline "
   ],
   "metadata": {
    "collapsed": false
   },
   "id": "a14907c50f72281e"
  },
  {
   "cell_type": "code",
   "execution_count": 1,
   "outputs": [],
   "source": [
    "with open(\"job_desc.md\") as f:\n",
    "    description = f.read()\n",
    "with open(\"resume.md\") as f:\n",
    "    resume = f.read()\n",
    "title = 'django developer'"
   ],
   "metadata": {
    "collapsed": false,
    "ExecuteTime": {
     "end_time": "2023-08-10T00:35:44.202362Z",
     "start_time": "2023-08-10T00:35:44.129255Z"
    }
   },
   "id": "4fc08de57fa9144c"
  },
  {
   "cell_type": "code",
   "execution_count": 2,
   "id": "initial_id",
   "metadata": {
    "collapsed": true,
    "ExecuteTime": {
     "end_time": "2023-08-10T00:35:49.151896Z",
     "start_time": "2023-08-10T00:35:45.933461Z"
    }
   },
   "outputs": [],
   "source": [
    "from util import chunk_markdown, cut_sections"
   ]
  },
  {
   "cell_type": "code",
   "execution_count": 3,
   "outputs": [],
   "source": [
    "sections = cut_sections(resume)\n",
    "\n",
    "history = sections['history']['result']\n",
    "chunks = chunk_markdown(history)"
   ],
   "metadata": {
    "collapsed": false,
    "ExecuteTime": {
     "end_time": "2023-08-10T00:36:06.149847Z",
     "start_time": "2023-08-10T00:35:49.135565Z"
    }
   },
   "id": "57981bbfa705076"
  },
  {
   "cell_type": "markdown",
   "source": [
    "We need a function to only select job history from chunks. Any other headings such as summary, or education should be set aside."
   ],
   "metadata": {
    "collapsed": false
   },
   "id": "43ede2c2963f10a5"
  },
  {
   "cell_type": "markdown",
   "source": [
    "## Begin to process job history chunks"
   ],
   "metadata": {
    "collapsed": false
   },
   "id": "5c5ac5bb20db66a8"
  },
  {
   "cell_type": "markdown",
   "source": [
    "\n",
    "Implementing `process_history_chain()`"
   ],
   "metadata": {
    "collapsed": false
   },
   "id": "73bdd1a7a81a5138"
  },
  {
   "cell_type": "code",
   "execution_count": null,
   "outputs": [],
   "source": [
    "from beef import process_history_chain\n",
    "\n",
    "chain = process_history_chain()\n",
    "for chunk in chunks:\n",
    "    chain({\"section\": chunk, \"title\": title, \"desc\": description})"
   ],
   "metadata": {
    "collapsed": false
   },
   "id": "dd812a73bad7b0f6"
  },
  {
   "cell_type": "markdown",
   "source": [
    "How do we highlight key skills?"
   ],
   "metadata": {
    "collapsed": false
   },
   "id": "2cd190b0e623c4f2"
  },
  {
   "cell_type": "code",
   "execution_count": 4,
   "outputs": [
    {
     "data": {
      "text/plain": "['Results-driven', 'Teamwork', 'Fast Learner']"
     },
     "execution_count": 4,
     "metadata": {},
     "output_type": "execute_result"
    }
   ],
   "source": [
    "from langchain.prompts import PromptTemplate\n",
    "from langchain.chat_models import ChatOpenAI\n",
    "from langchain.chains import LLMChain\n",
    "from util import job_requirement_chain\n",
    "from langchain.output_parsers import CommaSeparatedListOutputParser\n",
    "\n",
    "output_parser = CommaSeparatedListOutputParser()\n",
    "format_instructions = output_parser.get_format_instructions()\n",
    "\n",
    "requirement_chain = job_requirement_chain()\n",
    "prompt = PromptTemplate(template=\"\"\"\n",
    "You're an expert career consultant with an IQ over 140 working with a special client regarding this job posting.\n",
    "You will be given a list of required skills, and an excerpt from the client's resume.\n",
    "What required 3 skills does the client have?\n",
    "\n",
    "Resume excerpt:\\n\\t{section}\n",
    "\n",
    "Required skills:\\n\\t{requirements}\n",
    "\n",
    "{format_instructions}\n",
    "\"\"\",\n",
    "                        input_variables=['section', 'requirements'],\n",
    "                        partial_variables={'format_instructions': format_instructions}\n",
    "                                      )\n",
    "key_skill_chain = LLMChain(prompt=prompt, llm=ChatOpenAI(temperature=.1, model_name=\"gpt-3.5-turbo\"), output_parser=output_parser)\n",
    "key_skill_chain.predict(section=chunks[0], requirements=requirement_chain.predict(description=description))"
   ],
   "metadata": {
    "collapsed": false,
    "ExecuteTime": {
     "end_time": "2023-08-10T00:36:17.557976Z",
     "start_time": "2023-08-10T00:36:15.411227Z"
    }
   },
   "id": "f9e426ea86f9bb4"
  },
  {
   "cell_type": "code",
   "execution_count": null,
   "outputs": [],
   "source": [
    "skills = _17\n",
    "\n",
    "prompt = PromptTemplate.from_template(\"\"\"\n",
    "You will be given a job experience from a resume and 3 key skills.\n",
    "Use bullet points to highlight how the job experience section demonstrates the given skills.\n",
    "\n",
    "Skills: {skills}\n",
    "\n",
    "Job Experience: {section} \n",
    "\"\"\")\n",
    "# prompt = PromptTemplate.from_template(\"\"\"\n",
    "# You will be given a section of a resume and 3 key skills.\n",
    "# Please write a one sentence summary for the resume section highlighting some or all of the given skills.\n",
    "# \n",
    "# Skills: {skills}\n",
    "# \n",
    "# Section: {section} \n",
    "# \"\"\")\n",
    "highlight_chain = LLMChain(prompt=prompt, llm=ChatOpenAI(temperature=.1, model_name=\"gpt-3.5-turbo\"))\n",
    "highlight_chain.predict(section=chunks[0], skills=skills)"
   ],
   "metadata": {
    "collapsed": false
   },
   "id": "cff50b60f263f9a5"
  },
  {
   "cell_type": "markdown",
   "source": [
    "It seems that a router should be used to evaluate a job experience section. If a job experience section is not strong for a given job description, THAN the chains described in this notebook should be used. This chain should be called `BeefSectionChain`. It's intention should be to highlight the key skills needed for a given job description."
   ],
   "metadata": {
    "collapsed": false
   },
   "id": "e04cb90cc522d6db"
  },
  {
   "cell_type": "code",
   "execution_count": null,
   "outputs": [],
   "source": [],
   "metadata": {
    "collapsed": false
   },
   "id": "380765b58785016a"
  }
 ],
 "metadata": {
  "kernelspec": {
   "display_name": "Python 3",
   "language": "python",
   "name": "python3"
  },
  "language_info": {
   "codemirror_mode": {
    "name": "ipython",
    "version": 2
   },
   "file_extension": ".py",
   "mimetype": "text/x-python",
   "name": "python",
   "nbconvert_exporter": "python",
   "pygments_lexer": "ipython2",
   "version": "2.7.6"
  }
 },
 "nbformat": 4,
 "nbformat_minor": 5
}
