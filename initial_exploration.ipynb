{
 "cells": [
  {
   "cell_type": "markdown",
   "source": [
    "# Introduction\n",
    "\n",
    "This notebook is an exploration into the LangChain module, and how it can be used to improve a base resume for a given job listing."
   ],
   "metadata": {
    "collapsed": false
   },
   "id": "4fbe1daecb612bdd"
  },
  {
   "cell_type": "code",
   "execution_count": null,
   "id": "initial_id",
   "metadata": {
    "collapsed": true
   },
   "outputs": [],
   "source": [
    "from langchain.llms import OpenAI\n",
    "from langchain.chat_models import ChatOpenAI\n",
    "\n",
    "llm = OpenAI(model_name=\"gpt-3.5-turbo\")\n",
    "chat_model = ChatOpenAI()"
   ]
  },
  {
   "cell_type": "code",
   "execution_count": null,
   "outputs": [],
   "source": [
    "llm.predict(\"hi!\")"
   ],
   "metadata": {
    "collapsed": false
   },
   "id": "2d9f2737d07068fc"
  },
  {
   "cell_type": "code",
   "execution_count": null,
   "outputs": [],
   "source": [
    "from langchain.prompts import (\n",
    "    ChatPromptTemplate,\n",
    "    PromptTemplate,\n",
    "    SystemMessagePromptTemplate,\n",
    "    AIMessagePromptTemplate,\n",
    "    HumanMessagePromptTemplate,\n",
    ")\n",
    "\n",
    "system_message = SystemMessagePromptTemplate.from_template(\"You're an expert career consultant with an IQ over 140. Please rewrite my resume to exude competence and clearly demonstrate how and why I am a perfect fit for the {job_title} position by reusing keywords, phrases, and skills, and experience. Do not add anything that is not there, but expand on anything that is in my resume. This is my current resume:\\n{resume}\")\n",
    "job_desc_prompt = HumanMessagePromptTemplate.from_template(\"Here is the job description:\\n{job_desc}\")\n",
    "chat_prompt = ChatPromptTemplate.from_messages([system_message, job_desc_prompt])"
   ],
   "metadata": {
    "collapsed": false
   },
   "id": "bbb458263021d361"
  },
  {
   "cell_type": "code",
   "execution_count": null,
   "outputs": [],
   "source": [
    "with open(\"resume.md\") as f:\n",
    "    resume = f.read()\n",
    "with open(\"job_desc.md\") as f:\n",
    "    job_desc = f.read()\n",
    "job_title = \"django engineer\""
   ],
   "metadata": {
    "collapsed": false
   },
   "id": "25e5d599d27ab649"
  },
  {
   "cell_type": "code",
   "execution_count": null,
   "outputs": [],
   "source": [
    "chat_prompt.format_prompt(resume=resume, job_desc=job_desc, job_title=job_title)"
   ],
   "metadata": {
    "collapsed": false
   },
   "id": "1c6e3ef7fd90b992"
  },
  {
   "cell_type": "code",
   "execution_count": null,
   "outputs": [],
   "source": [
    "response = chat_model.predict_messages(chat_prompt.format_prompt(resume=resume, job_desc=job_desc, job_title=job_title).to_messages())\n"
   ],
   "metadata": {
    "collapsed": false
   },
   "id": "48f2596daf0df39b"
  },
  {
   "cell_type": "code",
   "execution_count": null,
   "outputs": [],
   "source": [
    "with open(\"updated_resume.md\", \"w\") as f:\n",
    "    f.write(response)"
   ],
   "metadata": {
    "collapsed": false
   },
   "id": "2e4d282b0ef699af"
  },
  {
   "cell_type": "markdown",
   "source": [
    "So, the result is a little better, but results might be improved if each section is improved once at a time. By examining each section at a time, playing around with temperature and other model parameters might produce interesting results that are a cohesive document."
   ],
   "metadata": {
    "collapsed": false
   },
   "id": "5a23ca492509b265"
  },
  {
   "cell_type": "code",
   "execution_count": null,
   "outputs": [],
   "source": [],
   "metadata": {
    "collapsed": false
   },
   "id": "e2edc5a247b108d6"
  }
 ],
 "metadata": {
  "kernelspec": {
   "display_name": "Python 3",
   "language": "python",
   "name": "python3"
  },
  "language_info": {
   "codemirror_mode": {
    "name": "ipython",
    "version": 2
   },
   "file_extension": ".py",
   "mimetype": "text/x-python",
   "name": "python",
   "nbconvert_exporter": "python",
   "pygments_lexer": "ipython2",
   "version": "2.7.6"
  }
 },
 "nbformat": 4,
 "nbformat_minor": 5
}
