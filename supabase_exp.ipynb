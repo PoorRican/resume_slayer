{
 "cells": [
  {
   "cell_type": "code",
   "execution_count": 2,
   "id": "initial_id",
   "metadata": {
    "collapsed": true,
    "ExecuteTime": {
     "end_time": "2023-09-06T23:34:33.034008Z",
     "start_time": "2023-09-06T23:34:32.594897Z"
    }
   },
   "outputs": [],
   "source": [
    "import os\n",
    "from uuid import uuid4\n",
    "from supabase import create_client, Client\n",
    "\n",
    "url: str = os.environ.get(\"SUPABASE_URL\")\n",
    "key: str = os.environ.get(\"SUPABASE_KEY\")\n",
    "supabase: Client = create_client(url, key)\n"
   ]
  },
  {
   "cell_type": "code",
   "execution_count": 3,
   "outputs": [],
   "source": [
    "job_id = str(uuid4())\n",
    "resume_id = str(uuid4())\n",
    "\n"
   ],
   "metadata": {
    "collapsed": false,
    "ExecuteTime": {
     "end_time": "2023-09-06T23:34:33.808556Z",
     "start_time": "2023-09-06T23:34:33.787928Z"
    }
   },
   "id": "ebf0993849a8bb9"
  },
  {
   "cell_type": "code",
   "execution_count": 4,
   "outputs": [
    {
     "name": "stderr",
     "output_type": "stream",
     "text": [
      "2023-09-06 16:34:48,809:INFO - HTTP Request: POST https://anlwerulyiscmjqrfgij.supabase.co/rest/v1/Resumes \"HTTP/1.1 201 Created\"\n"
     ]
    },
    {
     "data": {
      "text/plain": "APIResponse(data=[{'id': '1d8c386b-442f-4249-bf2b-f01736d21bc5', 'created_at': '2023-09-06T23:34:48.835353+00:00', 'text': 'resume'}], count=None)"
     },
     "execution_count": 4,
     "metadata": {},
     "output_type": "execute_result"
    }
   ],
   "source": [
    "supabase \\\n",
    "    .table('Resumes') \\\n",
    "    .insert({\"id\": resume_id, \"text\": 'resume'}) \\\n",
    "    .execute()\n"
   ],
   "metadata": {
    "collapsed": false,
    "ExecuteTime": {
     "end_time": "2023-09-06T23:34:48.825494Z",
     "start_time": "2023-09-06T23:34:44.537830Z"
    }
   },
   "id": "573fdd7e22c821af"
  },
  {
   "cell_type": "code",
   "execution_count": 5,
   "outputs": [
    {
     "name": "stderr",
     "output_type": "stream",
     "text": [
      "2023-09-06 16:34:49,091:INFO - HTTP Request: POST https://anlwerulyiscmjqrfgij.supabase.co/rest/v1/Jobs \"HTTP/1.1 201 Created\"\n"
     ]
    },
    {
     "data": {
      "text/plain": "APIResponse(data=[{'id': 'a5879954-6323-4e02-833f-b4bedf51aa13', 'created_at': '2023-09-06T23:34:49.116961+00:00', 'title': 'title', 'description': 'description', 'resume': '1d8c386b-442f-4249-bf2b-f01736d21bc5', 'processed': None}], count=None)"
     },
     "execution_count": 5,
     "metadata": {},
     "output_type": "execute_result"
    }
   ],
   "source": [
    "supabase \\\n",
    "    .table('Jobs') \\\n",
    "    .insert({\"id\": job_id, \"title\": 'title', \"description\": 'description', \"resume\": resume_id}) \\\n",
    "    .execute()\n"
   ],
   "metadata": {
    "collapsed": false,
    "ExecuteTime": {
     "end_time": "2023-09-06T23:34:49.149167Z",
     "start_time": "2023-09-06T23:34:48.826424Z"
    }
   },
   "id": "92766877cdf5bc25"
  },
  {
   "cell_type": "code",
   "execution_count": 6,
   "outputs": [
    {
     "name": "stderr",
     "output_type": "stream",
     "text": [
      "2023-09-06 16:34:49,396:INFO - HTTP Request: PATCH https://anlwerulyiscmjqrfgij.supabase.co/rest/v1/Jobs?id=eq.a5879954-6323-4e02-833f-b4bedf51aa13 \"HTTP/1.1 200 OK\"\n"
     ]
    },
    {
     "data": {
      "text/plain": "APIResponse(data=[{'id': 'a5879954-6323-4e02-833f-b4bedf51aa13', 'created_at': '2023-09-06T23:34:49.116961+00:00', 'title': 'Updated title', 'description': 'description', 'resume': '1d8c386b-442f-4249-bf2b-f01736d21bc5', 'processed': None}], count=None)"
     },
     "execution_count": 6,
     "metadata": {},
     "output_type": "execute_result"
    }
   ],
   "source": [
    "supabase.table('Jobs').update({\"title\": \"Updated title\"}).eq(\"id\", job_id).execute()"
   ],
   "metadata": {
    "collapsed": false,
    "ExecuteTime": {
     "end_time": "2023-09-06T23:34:49.462773Z",
     "start_time": "2023-09-06T23:34:49.132852Z"
    }
   },
   "id": "50705a3322d83a73"
  },
  {
   "cell_type": "code",
   "execution_count": null,
   "outputs": [],
   "source": [],
   "metadata": {
    "collapsed": false
   },
   "id": "60c01dc4a0146bfe"
  }
 ],
 "metadata": {
  "kernelspec": {
   "display_name": "Python 3",
   "language": "python",
   "name": "python3"
  },
  "language_info": {
   "codemirror_mode": {
    "name": "ipython",
    "version": 2
   },
   "file_extension": ".py",
   "mimetype": "text/x-python",
   "name": "python",
   "nbconvert_exporter": "python",
   "pygments_lexer": "ipython2",
   "version": "2.7.6"
  }
 },
 "nbformat": 4,
 "nbformat_minor": 5
}
