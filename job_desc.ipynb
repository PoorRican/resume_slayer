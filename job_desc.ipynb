{
 "cells": [
  {
   "cell_type": "markdown",
   "source": [
    "# Extracting data from job desc"
   ],
   "metadata": {
    "collapsed": false
   },
   "id": "d7c860a3fdbb631c"
  },
  {
   "cell_type": "code",
   "execution_count": 2,
   "id": "initial_id",
   "metadata": {
    "collapsed": true,
    "ExecuteTime": {
     "end_time": "2023-08-08T22:08:52.019293Z",
     "start_time": "2023-08-08T22:08:52.012135Z"
    }
   },
   "outputs": [],
   "source": [
    "with open(\"job_desc.md\") as f:\n",
    "    job_desc = f.read()\n"
   ]
  },
  {
   "cell_type": "code",
   "execution_count": 48,
   "outputs": [],
   "source": [
    "from langchain.prompts import ChatPromptTemplate, SystemMessagePromptTemplate, HumanMessagePromptTemplate\n",
    "\n",
    "system_message = SystemMessagePromptTemplate.from_template(\n",
    "    \"You're an expert career consultant with an IQ over 140 working with a special client regarding this job posting.\"\n",
    "    \"Please list the skills and requirements for this job.\")\n",
    "job_desc_prompt = HumanMessagePromptTemplate.from_template(\"Here is the job description:\\n{description}\")\n",
    "chat_prompt = ChatPromptTemplate.from_messages([system_message, job_desc_prompt])\n",
    "\n",
    "messages = chat_prompt.format_prompt(description=job_desc).to_messages()"
   ],
   "metadata": {
    "collapsed": false,
    "ExecuteTime": {
     "end_time": "2023-08-09T01:34:12.988221Z",
     "start_time": "2023-08-09T01:34:12.964574Z"
    }
   },
   "id": "97a9ffc870f3819a"
  },
  {
   "cell_type": "code",
   "execution_count": 5,
   "outputs": [],
   "source": [
    "from langchain.chat_models import ChatOpenAI\n",
    "\n",
    "chat_model = ChatOpenAI(temperature=.75, model_name=\"gpt-3.5-turbo\")"
   ],
   "metadata": {
    "collapsed": false,
    "ExecuteTime": {
     "end_time": "2023-08-08T22:09:39.458824Z",
     "start_time": "2023-08-08T22:09:39.420307Z"
    }
   },
   "id": "9e91816d45d7548a"
  },
  {
   "cell_type": "code",
   "execution_count": 6,
   "outputs": [],
   "source": [
    "response = chat_model.predict_messages(messages)"
   ],
   "metadata": {
    "collapsed": false,
    "ExecuteTime": {
     "end_time": "2023-08-08T22:10:07.543722Z",
     "start_time": "2023-08-08T22:09:54.881818Z"
    }
   },
   "id": "91ffa03ca35315e4"
  },
  {
   "cell_type": "code",
   "execution_count": 7,
   "outputs": [
    {
     "data": {
      "text/plain": "AIMessage(content='The core skills defined in the job description are:\\n\\n1. Python and Django: 5+ years of experience building complex web applications using Python and Django framework.\\n2. Software Engineering Principles: Hands-on experience designing software and breaking down complexity using software engineering principles.\\n3. React: Experience with React framework or similar.\\n4. Code Quality: Ability to write well-structured and documented code.\\n5. Product Development: Continuous updating and expansion of products.\\n6. Multinational Teamwork: Ability to be an important part of a multinational, agile software development team.\\n7. Communication: Working knowledge of English for effective communication.\\n8. Fast-paced Environment: Ability to thrive in a fast-paced environment and quick learner.\\n9. Results-driven: Results-driven mindset and ability to prioritize activities with the greatest impact.\\n10. Ownership and Excellence: Takes ownership and demands excellence from themselves and others.\\n11. Track Record: Proven track record of excellence.\\n12. Team Player: Great team member who contributes to the culture and business.', additional_kwargs={}, example=False)"
     },
     "execution_count": 7,
     "metadata": {},
     "output_type": "execute_result"
    }
   ],
   "source": [
    "response"
   ],
   "metadata": {
    "collapsed": false,
    "ExecuteTime": {
     "end_time": "2023-08-08T22:10:07.566252Z",
     "start_time": "2023-08-08T22:10:07.549855Z"
    }
   },
   "id": "54057364ea0b0bf1"
  },
  {
   "cell_type": "markdown",
   "source": [
    "## Formatting w/ pydantic"
   ],
   "metadata": {
    "collapsed": false
   },
   "id": "fdf12c4697a299ee"
  },
  {
   "cell_type": "code",
   "execution_count": 8,
   "outputs": [],
   "source": [
    "from langchain.output_parsers import PydanticOutputParser\n",
    "from pydantic import BaseModel, Field, validator\n",
    "from typing import List\n",
    "\n",
    "class Skills(BaseModel):\n",
    "    skills: List[str]"
   ],
   "metadata": {
    "collapsed": false,
    "ExecuteTime": {
     "end_time": "2023-08-08T23:30:53.897791Z",
     "start_time": "2023-08-08T23:30:53.874748Z"
    }
   },
   "id": "9482cceb8ba563a2"
  },
  {
   "cell_type": "code",
   "execution_count": 40,
   "outputs": [],
   "source": [
    "from langchain.prompts import PromptTemplate"
   ],
   "metadata": {
    "collapsed": false,
    "ExecuteTime": {
     "end_time": "2023-08-09T01:30:14.969208Z",
     "start_time": "2023-08-09T01:30:14.895532Z"
    }
   },
   "id": "8839a774b71d465d"
  },
  {
   "cell_type": "code",
   "execution_count": 55,
   "outputs": [],
   "source": [
    "# Set up a parser + inject instructions into the prompt template.\n",
    "parser = PydanticOutputParser(pydantic_object=Skills)\n",
    "format_instructions = parser.get_format_instructions()\n",
    "\n",
    "format_prompt = PromptTemplate(template=\"{format_instructions}\",\n",
    "                               partial_variables={'format_instructions': format_instructions},\n",
    "                               input_variables=[])\n",
    "\n",
    "format_prompt = SystemMessagePromptTemplate(input_variables=[], prompt=format_prompt)\n",
    "chat_prompt = ChatPromptTemplate.from_messages([system_message, format_prompt, job_desc_prompt])\n"
   ],
   "metadata": {
    "collapsed": false,
    "ExecuteTime": {
     "end_time": "2023-08-09T01:39:17.444427Z",
     "start_time": "2023-08-09T01:39:17.391637Z"
    }
   },
   "id": "2ebb2475b6a33162"
  },
  {
   "cell_type": "code",
   "execution_count": 56,
   "outputs": [
    {
     "data": {
      "text/plain": "ChatPromptTemplate(input_variables=['description'], output_parser=None, partial_variables={}, messages=[SystemMessagePromptTemplate(prompt=PromptTemplate(input_variables=[], output_parser=None, partial_variables={}, template=\"You're an expert career consultant with an IQ over 140 working with a special client regarding this job posting.Please list the skills and requirements for this job.\", template_format='f-string', validate_template=True), additional_kwargs={}), SystemMessagePromptTemplate(prompt=PromptTemplate(input_variables=[], output_parser=None, partial_variables={'format_instructions': 'The output should be formatted as a JSON instance that conforms to the JSON schema below.\\n\\nAs an example, for the schema {\"properties\": {\"foo\": {\"title\": \"Foo\", \"description\": \"a list of strings\", \"type\": \"array\", \"items\": {\"type\": \"string\"}}}, \"required\": [\"foo\"]}}\\nthe object {\"foo\": [\"bar\", \"baz\"]} is a well-formatted instance of the schema. The object {\"properties\": {\"foo\": [\"bar\", \"baz\"]}} is not well-formatted.\\n\\nHere is the output schema:\\n```\\n{\"properties\": {\"skills\": {\"title\": \"Skills\", \"type\": \"array\", \"items\": {\"type\": \"string\"}}}, \"required\": [\"skills\"]}\\n```'}, template='{format_instructions}', template_format='f-string', validate_template=True), additional_kwargs={}), HumanMessagePromptTemplate(prompt=PromptTemplate(input_variables=['description'], output_parser=None, partial_variables={}, template='Here is the job description:\\n{description}', template_format='f-string', validate_template=True), additional_kwargs={})])"
     },
     "execution_count": 56,
     "metadata": {},
     "output_type": "execute_result"
    }
   ],
   "source": [
    "chat_prompt"
   ],
   "metadata": {
    "collapsed": false,
    "ExecuteTime": {
     "end_time": "2023-08-09T01:39:20.009353Z",
     "start_time": "2023-08-09T01:39:19.982156Z"
    }
   },
   "id": "c7e6e84c04343ec6"
  },
  {
   "cell_type": "code",
   "execution_count": 57,
   "outputs": [
    {
     "data": {
      "text/plain": "AIMessage(content='{\\n  \"skills\": [\\n    \"Python\",\\n    \"Django\",\\n    \"React\",\\n    \"Snowflake\",\\n    \"Software engineering principles\",\\n    \"Agile software development\",\\n    \"Web application development\",\\n    \"Code documentation\",\\n    \"Teamwork\",\\n    \"Fast learner\",\\n    \"Results-driven\",\\n    \"English language proficiency\"\\n  ]\\n}', additional_kwargs={}, example=False)"
     },
     "execution_count": 57,
     "metadata": {},
     "output_type": "execute_result"
    }
   ],
   "source": [
    "messages = chat_prompt.format_prompt(description=job_desc).to_messages()\n",
    "\n",
    "output = chat_model.predict_messages(messages)\n",
    "\n",
    "parser.parse(output.content)\n",
    "output"
   ],
   "metadata": {
    "collapsed": false,
    "ExecuteTime": {
     "end_time": "2023-08-09T01:40:56.660931Z",
     "start_time": "2023-08-09T01:40:49.916670Z"
    }
   },
   "id": "9cfd45f1ac9798f0"
  },
  {
   "cell_type": "code",
   "execution_count": null,
   "outputs": [],
   "source": [
    "chat_prompt"
   ],
   "metadata": {
    "collapsed": false
   },
   "id": "4ebfff73ecf629b2"
  },
  {
   "cell_type": "code",
   "execution_count": 66,
   "outputs": [
    {
     "name": "stderr",
     "output_type": "stream",
     "text": [
      "/Users/swe/repos/resume_slayer/venv/lib/python3.11/site-packages/langchain/llms/openai.py:200: UserWarning: You are trying to use a chat model. This way of initializing it is no longer supported. Instead, please use: `from langchain.chat_models import ChatOpenAI`\n",
      "  warnings.warn(\n",
      "/Users/swe/repos/resume_slayer/venv/lib/python3.11/site-packages/langchain/llms/openai.py:801: UserWarning: You are trying to use a chat model. This way of initializing it is no longer supported. Instead, please use: `from langchain.chat_models import ChatOpenAI`\n",
      "  warnings.warn(\n"
     ]
    }
   ],
   "source": [
    "from langchain.chains import LLMChain\n",
    "from langchain.llms import OpenAI\n",
    "\n",
    "prompt = PromptTemplate(template=\"\"\"\n",
    "    You're an expert career consultant with an IQ over 140 working with a special client regarding this job posting.\n",
    "    Please list the skills and requirements for this job.\\n{format_instructions}\n",
    "    Here is the job description:\\n{description}\n",
    "\"\"\",\n",
    "                        input_variables=[\"description\"],\n",
    "                        partial_variables={'format_instructions': format_instructions})\n",
    "llm = OpenAI(temperature=0, model_name='gpt-3.5-turbo')\n",
    "chain = LLMChain(prompt=chat_prompt, llm=llm, output_parser=parser)"
   ],
   "metadata": {
    "collapsed": false,
    "ExecuteTime": {
     "end_time": "2023-08-09T01:56:56.707446Z",
     "start_time": "2023-08-09T01:56:56.674638Z"
    }
   },
   "id": "72ff3e370ece09bb"
  },
  {
   "cell_type": "code",
   "execution_count": 67,
   "outputs": [
    {
     "data": {
      "text/plain": "Skills(skills=['Python', 'Django', 'React', 'Snowflake', 'Software Engineering', 'Teamwork', 'Fast Learner', 'Results-driven', 'English'])"
     },
     "execution_count": 67,
     "metadata": {},
     "output_type": "execute_result"
    }
   ],
   "source": [
    "chain.predict(description=job_desc)"
   ],
   "metadata": {
    "collapsed": false,
    "ExecuteTime": {
     "end_time": "2023-08-09T01:56:58.514404Z",
     "start_time": "2023-08-09T01:56:56.999495Z"
    }
   },
   "id": "a1236c8b814bcf7b"
  },
  {
   "cell_type": "code",
   "execution_count": null,
   "outputs": [],
   "source": [],
   "metadata": {
    "collapsed": false
   },
   "id": "d886bb1228afb7da"
  },
  {
   "cell_type": "code",
   "execution_count": null,
   "outputs": [],
   "source": [],
   "metadata": {
    "collapsed": false
   },
   "id": "33146354f3b6bf9"
  },
  {
   "cell_type": "code",
   "execution_count": null,
   "outputs": [],
   "source": [],
   "metadata": {
    "collapsed": false
   },
   "id": "6badb80a93d6cef0"
  },
  {
   "cell_type": "code",
   "execution_count": null,
   "outputs": [],
   "source": [],
   "metadata": {
    "collapsed": false
   },
   "id": "10d060c222200cfa"
  },
  {
   "cell_type": "code",
   "execution_count": null,
   "outputs": [],
   "source": [],
   "metadata": {
    "collapsed": false
   },
   "id": "b9d99ca24c53fe2a"
  }
 ],
 "metadata": {
  "kernelspec": {
   "display_name": "Python 3",
   "language": "python",
   "name": "python3"
  },
  "language_info": {
   "codemirror_mode": {
    "name": "ipython",
    "version": 2
   },
   "file_extension": ".py",
   "mimetype": "text/x-python",
   "name": "python",
   "nbconvert_exporter": "python",
   "pygments_lexer": "ipython2",
   "version": "2.7.6"
  }
 },
 "nbformat": 4,
 "nbformat_minor": 5
}
